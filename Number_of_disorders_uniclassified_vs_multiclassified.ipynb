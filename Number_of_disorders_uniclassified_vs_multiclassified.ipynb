{
 "cells": [
  {
   "cell_type": "code",
   "execution_count": 1,
   "metadata": {},
   "outputs": [],
   "source": [
    "### NUMBER OF DISORDERS UNICLASSIFIED VS MULTICLASSIFIED\n",
    "\n",
    "\n",
    "# We launch the config file with the installation of the R libraries\n",
    "source(\"config.R\")\n",
    "\n",
    "\n",
    "# INPUTS : \n",
    "# \"product3_146_en_jdbor_evo.xml\"; \"product3_147_en_jdbor_evo.xml\"; \"product3_148_en_jdbor_evo.xml\";\n",
    "# \"product3_149_en_jdbor_evo.xml\"; \"product3_150_en_jdbor_evo.xml\"; \"product3_152_en_jdbor_evo.xml\";\n",
    "# \"product3_181_en_jdbor_evo.xml\"; \"product3_182_en_jdbor_evo.xml\"; \"product3_183_en_jdbor_evo.xml\"; \n",
    "# \"product3_184_en_jdbor_evo.xml\"; \"product3_185_en_jdbor_evo.xml\"; \"product3_186_en_jdbor_evo.xml\"; \n",
    "# \"product3_187_en_jdbor_evo.xml\"; \"product3_188_en_jdbor_evo.xml\"; \"product3_189_en_jdbor_evo.xml\"; \n",
    "# \"product3_193_en_jdbor_evo.xml\"; \"product3_194_en_jdbor_evo.xml\"; \"product3_195_en_jdbor_evo.xml\"; \n",
    "# \"product3_196_en_jdbor_evo.xml\"; \"product3_197_en_jdbor_evo.xml\"; \"product3_198_en_jdbor_evo.xml\"; \n",
    "# \"product3_199_en_jdbor_evo.xml\"; \"product3_200_en_jdbor_evo.xml\"; \"product3_201_en_jdbor_evo.xml\"; \n",
    "# \"product3_202_en_jdbor_evo.xml\"; \"product3_203_en_jdbor_evo.xml\"; \"product3_204_en_jdbor_evo.xml\"; \n",
    "# \"product3_205_en_jdbor_evo.xml\"; \"product3_209_en_jdbor_evo.xml\"; \"product3_212_en_jdbor_evo.xml\"; \n",
    "# \"product3_216_en_jdbor_evo.xml\"; \"product3_229_en_jdbor_evo.xml\"; \"product3_231_en_jdbor_evo.xml\"; \n",
    "# \"product3_233_en_jdbor_evo.xml\".\n",
    "\n",
    "\n",
    "# OUTPUTS : \"number_of_disorders_multiclassified\"; \"percentage_of_number_of_disorders_multiclassified\";\n",
    "# \"number_of_disorders_uniclassified\"; \"percentage_of_number_of_disorders_uniclassified\"."
   ]
  },
  {
   "cell_type": "code",
   "execution_count": 2,
   "metadata": {},
   "outputs": [
    {
     "name": "stderr",
     "output_type": "stream",
     "text": [
      "Installing package into 'C:/Users/ohongnat/Documents/R/win-library/3.6'\n",
      "(as 'lib' is unspecified)\n"
     ]
    },
    {
     "name": "stdout",
     "output_type": "stream",
     "text": [
      "package 'tidyverse' successfully unpacked and MD5 sums checked\n",
      "\n",
      "The downloaded binary packages are in\n",
      "\tC:\\Users\\ohongnat\\AppData\\Local\\Temp\\Rtmpoj5rGo\\downloaded_packages\n"
     ]
    },
    {
     "name": "stderr",
     "output_type": "stream",
     "text": [
      "Installing package into 'C:/Users/ohongnat/Documents/R/win-library/3.6'\n",
      "(as 'lib' is unspecified)\n"
     ]
    },
    {
     "name": "stdout",
     "output_type": "stream",
     "text": [
      "package 'rlist' successfully unpacked and MD5 sums checked\n",
      "\n",
      "The downloaded binary packages are in\n",
      "\tC:\\Users\\ohongnat\\AppData\\Local\\Temp\\Rtmpoj5rGo\\downloaded_packages\n"
     ]
    },
    {
     "name": "stderr",
     "output_type": "stream",
     "text": [
      "Installing package into 'C:/Users/ohongnat/Documents/R/win-library/3.6'\n",
      "(as 'lib' is unspecified)\n"
     ]
    },
    {
     "name": "stdout",
     "output_type": "stream",
     "text": [
      "package 'data.table' successfully unpacked and MD5 sums checked\n"
     ]
    },
    {
     "name": "stderr",
     "output_type": "stream",
     "text": [
      "Warning message:\n",
      "\"cannot remove prior installation of package 'data.table'\"Warning message in file.copy(savedcopy, lib, recursive = TRUE):\n",
      "\"problème lors de la copie de C:\\Users\\ohongnat\\Documents\\R\\win-library\\3.6\\00LOCK\\data.table\\libs\\x64\\datatable.dll vers C:\\Users\\ohongnat\\Documents\\R\\win-library\\3.6\\data.table\\libs\\x64\\datatable.dll: Permission denied\"Warning message:\n",
      "\"restored 'data.table'\""
     ]
    },
    {
     "name": "stdout",
     "output_type": "stream",
     "text": [
      "\n",
      "The downloaded binary packages are in\n",
      "\tC:\\Users\\ohongnat\\AppData\\Local\\Temp\\Rtmpoj5rGo\\downloaded_packages\n"
     ]
    },
    {
     "name": "stderr",
     "output_type": "stream",
     "text": [
      "Installing package into 'C:/Users/ohongnat/Documents/R/win-library/3.6'\n",
      "(as 'lib' is unspecified)\n"
     ]
    },
    {
     "name": "stdout",
     "output_type": "stream",
     "text": [
      "\n",
      "  There is a binary version available but the source version is later:\n",
      "      binary source needs_compilation\n",
      "dplyr  1.0.6  1.0.7              TRUE\n",
      "\n",
      "  Binaries will be installed\n",
      "package 'dplyr' successfully unpacked and MD5 sums checked\n"
     ]
    },
    {
     "name": "stderr",
     "output_type": "stream",
     "text": [
      "Warning message:\n",
      "\"cannot remove prior installation of package 'dplyr'\"Warning message in file.copy(savedcopy, lib, recursive = TRUE):\n",
      "\"problème lors de la copie de C:\\Users\\ohongnat\\Documents\\R\\win-library\\3.6\\00LOCK\\dplyr\\libs\\x64\\dplyr.dll vers C:\\Users\\ohongnat\\Documents\\R\\win-library\\3.6\\dplyr\\libs\\x64\\dplyr.dll: Permission denied\"Warning message:\n",
      "\"restored 'dplyr'\""
     ]
    },
    {
     "name": "stdout",
     "output_type": "stream",
     "text": [
      "\n",
      "The downloaded binary packages are in\n",
      "\tC:\\Users\\ohongnat\\AppData\\Local\\Temp\\Rtmpoj5rGo\\downloaded_packages\n"
     ]
    },
    {
     "name": "stderr",
     "output_type": "stream",
     "text": [
      "Installing package into 'C:/Users/ohongnat/Documents/R/win-library/3.6'\n",
      "(as 'lib' is unspecified)\n"
     ]
    },
    {
     "name": "stdout",
     "output_type": "stream",
     "text": [
      "package 'XML' successfully unpacked and MD5 sums checked\n"
     ]
    },
    {
     "name": "stderr",
     "output_type": "stream",
     "text": [
      "Warning message:\n",
      "\"cannot remove prior installation of package 'XML'\"Warning message in file.copy(savedcopy, lib, recursive = TRUE):\n",
      "\"problème lors de la copie de C:\\Users\\ohongnat\\Documents\\R\\win-library\\3.6\\00LOCK\\XML\\libs\\x64\\XML.dll vers C:\\Users\\ohongnat\\Documents\\R\\win-library\\3.6\\XML\\libs\\x64\\XML.dll: Permission denied\"Warning message:\n",
      "\"restored 'XML'\""
     ]
    },
    {
     "name": "stdout",
     "output_type": "stream",
     "text": [
      "\n",
      "The downloaded binary packages are in\n",
      "\tC:\\Users\\ohongnat\\AppData\\Local\\Temp\\Rtmpoj5rGo\\downloaded_packages\n"
     ]
    },
    {
     "name": "stderr",
     "output_type": "stream",
     "text": [
      "Installing package into 'C:/Users/ohongnat/Documents/R/win-library/3.6'\n",
      "(as 'lib' is unspecified)\n",
      "Warning message:\n",
      "\"package 'methods' is not available (for R version 3.6.1)\"Warning message:\n",
      "\"package 'methods' is a base package, and should not be updated\"Warning message:\n",
      "\"package 'tidyverse' was built under R version 3.6.3\"-- \u001b[1mAttaching packages\u001b[22m ------------------------------------------------------------------------------- tidyverse 1.3.1 --\n",
      "\u001b[32mv\u001b[39m \u001b[34mggplot2\u001b[39m 3.3.3     \u001b[32mv\u001b[39m \u001b[34mpurrr  \u001b[39m 0.3.4\n",
      "\u001b[32mv\u001b[39m \u001b[34mtibble \u001b[39m 3.1.0     \u001b[32mv\u001b[39m \u001b[34mdplyr  \u001b[39m 1.0.6\n",
      "\u001b[32mv\u001b[39m \u001b[34mtidyr  \u001b[39m 1.1.3     \u001b[32mv\u001b[39m \u001b[34mstringr\u001b[39m 1.4.0\n",
      "\u001b[32mv\u001b[39m \u001b[34mreadr  \u001b[39m 1.4.0     \u001b[32mv\u001b[39m \u001b[34mforcats\u001b[39m 0.5.1\n",
      "Warning message:\n",
      "\"package 'ggplot2' was built under R version 3.6.3\"Warning message:\n",
      "\"package 'tibble' was built under R version 3.6.3\"Warning message:\n",
      "\"package 'tidyr' was built under R version 3.6.3\"Warning message:\n",
      "\"package 'readr' was built under R version 3.6.3\"Warning message:\n",
      "\"package 'purrr' was built under R version 3.6.3\"Warning message:\n",
      "\"package 'dplyr' was built under R version 3.6.3\"Warning message:\n",
      "\"package 'stringr' was built under R version 3.6.3\"Warning message:\n",
      "\"package 'forcats' was built under R version 3.6.3\"-- \u001b[1mConflicts\u001b[22m ---------------------------------------------------------------------------------- tidyverse_conflicts() --\n",
      "\u001b[31mx\u001b[39m \u001b[34mdplyr\u001b[39m::\u001b[32mfilter()\u001b[39m masks \u001b[34mstats\u001b[39m::filter()\n",
      "\u001b[31mx\u001b[39m \u001b[34mdplyr\u001b[39m::\u001b[32mlag()\u001b[39m    masks \u001b[34mstats\u001b[39m::lag()\n",
      "Warning message:\n",
      "\"package 'rlist' was built under R version 3.6.3\"Warning message:\n",
      "\"package 'data.table' was built under R version 3.6.3\"\n",
      "Attaching package: 'data.table'\n",
      "\n",
      "The following objects are masked from 'package:dplyr':\n",
      "\n",
      "    between, first, last\n",
      "\n",
      "The following object is masked from 'package:purrr':\n",
      "\n",
      "    transpose\n",
      "\n",
      "Warning message:\n",
      "\"package 'XML' was built under R version 3.6.3\""
     ]
    }
   ],
   "source": [
    "# We launch the libraries\n",
    "library(tidyverse)\n",
    "library(rlist)\n",
    "library(data.table)\n",
    "library(dplyr)\n",
    "library(XML)\n",
    "library(methods)"
   ]
  },
  {
   "cell_type": "code",
   "execution_count": 3,
   "metadata": {},
   "outputs": [],
   "source": [
    "# Open different xml in the same time\n",
    "# We select the xmls with the datas we need\n",
    "xmlfiles=list.files(pattern='product3')\n",
    "# We remove the datas about genetic disorders, they have no interest here\n",
    "xmlfiles=xmlfiles[!xmlfiles=='product3_156_en_jdbor_evo.xml']\n",
    "\n",
    "# We put the 35 xml files from  orphadata in data frames\n",
    "indice_list=1\n",
    "xmldoc=list()\n",
    "files=list()\n",
    "for (i in 1:length(xmlfiles)) \n",
    "{\n",
    "  xmldoc[[indice_list]]=xmlParse(xmlfiles[i]) # we parse the files\n",
    "  files[[indice_list]]=xmlToDataFrame(nodes = getNodeSet(xmldoc[[i]], \"//Disorder\")) # we put files into a list\n",
    "  indice_list=indice_list+1\n",
    "}"
   ]
  },
  {
   "cell_type": "code",
   "execution_count": 4,
   "metadata": {},
   "outputs": [],
   "source": [
    "# We remove the disorders that are duplicated in the same xml\n",
    "indice_list=1\n",
    "file=list()\n",
    "for (i in 1:length(files))\n",
    "    if (length(files[[i]]) > 0)\n",
    "{\n",
    "  file[[indice_list]]=files[[i]][!duplicated(files[[i]]), ]\n",
    "  indice_list=indice_list+1\n",
    "}\n",
    "\n",
    "# We get an unique frame with the datas\n",
    "file=rbindlist(file, use.names = TRUE)"
   ]
  },
  {
   "cell_type": "code",
   "execution_count": 5,
   "metadata": {},
   "outputs": [],
   "source": [
    "# We only keep the disorders \n",
    "file=filter(file, DisorderType=='Malformation syndrome' | DisorderType=='Disease' |\n",
    "DisorderType=='Morphological anomaly'| DisorderType=='Clinical syndrome' |\n",
    "DisorderType=='Particular clinical situation in a disease or syndrome' | DisorderType=='Biological anomaly')"
   ]
  },
  {
   "cell_type": "code",
   "execution_count": 6,
   "metadata": {},
   "outputs": [],
   "source": [
    "# We count how much times an OrphaCode is duplicated\n",
    "table_count=as.data.frame(table(file$OrphaCode))\n",
    "names(table_count)=c('OrphaCode','Number of classifications')"
   ]
  },
  {
   "cell_type": "code",
   "execution_count": 7,
   "metadata": {},
   "outputs": [],
   "source": [
    "# We look for ORPHAcodes which are duplicated at least once\n",
    "indice_list=1\n",
    "duplicates=list()\n",
    "for (i in 1:nrow(table_count))\n",
    "  if (table_count$`Number of classifications`[i] > 1)\n",
    "  {\n",
    "    duplicates[[indice_list]]=table_count[i, ]\n",
    "    indice_list=indice_list+1\n",
    "  }\n",
    "duplicates=rbindlist(duplicates,use.names = TRUE)"
   ]
  },
  {
   "cell_type": "code",
   "execution_count": 8,
   "metadata": {},
   "outputs": [
    {
     "data": {
      "text/html": [
       "4278"
      ],
      "text/latex": [
       "4278"
      ],
      "text/markdown": [
       "4278"
      ],
      "text/plain": [
       "[1] 4278"
      ]
     },
     "metadata": {},
     "output_type": "display_data"
    }
   ],
   "source": [
    "# Number of disorders multiclassified\n",
    "number_of_disorders_multiclassified=nrow(duplicates)\n",
    "number_of_disorders_multiclassified"
   ]
  },
  {
   "cell_type": "code",
   "execution_count": 9,
   "metadata": {},
   "outputs": [
    {
     "data": {
      "text/html": [
       "47.4121689016957"
      ],
      "text/latex": [
       "47.4121689016957"
      ],
      "text/markdown": [
       "47.4121689016957"
      ],
      "text/plain": [
       "[1] 47.41217"
      ]
     },
     "metadata": {},
     "output_type": "display_data"
    }
   ],
   "source": [
    "# Percentage of disorders multiclassified\n",
    "percentage_of_number_of_disorders_multiclassified=number_of_disorders_multiclassified/nrow(table_count)*100\n",
    "percentage_of_number_of_disorders_multiclassified"
   ]
  },
  {
   "cell_type": "code",
   "execution_count": 10,
   "metadata": {},
   "outputs": [
    {
     "data": {
      "text/html": [
       "4745"
      ],
      "text/latex": [
       "4745"
      ],
      "text/markdown": [
       "4745"
      ],
      "text/plain": [
       "[1] 4745"
      ]
     },
     "metadata": {},
     "output_type": "display_data"
    }
   ],
   "source": [
    "# Number of disorders uniclassified\n",
    "number_of_disorders_uniclassified=nrow(table_count) - number_of_disorders_multiclassified\n",
    "number_of_disorders_uniclassified"
   ]
  },
  {
   "cell_type": "code",
   "execution_count": 11,
   "metadata": {},
   "outputs": [
    {
     "data": {
      "text/html": [
       "52.5878310983043"
      ],
      "text/latex": [
       "52.5878310983043"
      ],
      "text/markdown": [
       "52.5878310983043"
      ],
      "text/plain": [
       "[1] 52.58783"
      ]
     },
     "metadata": {},
     "output_type": "display_data"
    }
   ],
   "source": [
    "# Percentage of disorders uniclassified\n",
    "percentage_of_number_of_disorders_uniclassified=number_of_disorders_uniclassified/nrow(table_count)*100\n",
    "percentage_of_number_of_disorders_uniclassified"
   ]
  },
  {
   "cell_type": "code",
   "execution_count": 12,
   "metadata": {},
   "outputs": [
    {
     "data": {
      "text/plain": [
       "   Min. 1st Qu.  Median    Mean 3rd Qu.    Max. \n",
       "  0.000   0.000   1.000   1.602   2.000  13.000 "
      ]
     },
     "metadata": {},
     "output_type": "display_data"
    }
   ],
   "source": [
    "### Stats : min/max, mean, median of the number of classifications for the disorders\n",
    "summary(table_count$`Number of classifications`)"
   ]
  }
 ],
 "metadata": {
  "kernelspec": {
   "display_name": "R",
   "language": "R",
   "name": "ir"
  },
  "language_info": {
   "codemirror_mode": "r",
   "file_extension": ".r",
   "mimetype": "text/x-r-source",
   "name": "R",
   "pygments_lexer": "r",
   "version": "3.6.1"
  }
 },
 "nbformat": 4,
 "nbformat_minor": 4
}
