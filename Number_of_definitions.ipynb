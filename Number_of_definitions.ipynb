{
 "cells": [
  {
   "cell_type": "code",
   "execution_count": 1,
   "metadata": {},
   "outputs": [],
   "source": [
    "### NUMBER OF DEFINITIONS\n",
    "\n",
    "\n",
    "# We launch the config file with the installation of the R libraries\n",
    "source(\"config.R\")\n",
    "\n",
    "\n",
    "# INPUTS : \"product1_en_cross_jdbor_evo.xml\"; \"product1_fr_cross_jdbor_evo.xml\"; \"product1_de_cross_jdbor_evo.xml\"; \n",
    "# \"product1_nl_cross_jdbor_evo.xml\"; \"product1_it_cross_jdbor_evo.xml\"; \"product1_pt_cross_jdbor_evo.xml\"; \n",
    "# \"product1_es_cross_jdbor_evo.xml\"; \"product1_pl_cross_jdbor_evo.xml\". \n",
    "\n",
    "\n",
    "# OUTPUTS : \n",
    "# \"number_of_disorders_with_english_definition\"; \"percentage_of_disorders_with_english_definition\";\n",
    "# \"number_of_disorders_with_french_definition\"; \"percentage_of_disorders_with_french_definition\";\n",
    "# \"number_of_disorders_with_german_definition\"; \"percentage_of_disorders_with_german_definition\";\n",
    "# \"number_of_disorders_with_dutch_definition\"; \"percentage_of_disorders_with_dutch_definition\";\n",
    "# \"number_of_disorders_with_spanish_definition\"; \"percentage_of_disorders_with_spanish_definition\";\n",
    "# \"number_of_disorders_with_italian_definition\"; \"percentage_of_disorders_with_italian_definition\";\n",
    "# \"number_of_disorders_with_portuguese_definition\"; \"percentage_of_disorders_with_portuguese_definition\";\n",
    "# \"number_of_disorders_with_polish_definition\"; \"percentage_of_disorders_with_polish_definition\"."
   ]
  },
  {
   "cell_type": "code",
   "execution_count": 2,
   "metadata": {},
   "outputs": [
    {
     "name": "stderr",
     "output_type": "stream",
     "text": [
      "Installing package into 'C:/Users/ohongnat/Documents/R/win-library/3.6'\n",
      "(as 'lib' is unspecified)\n"
     ]
    },
    {
     "name": "stdout",
     "output_type": "stream",
     "text": [
      "package 'tidyverse' successfully unpacked and MD5 sums checked\n",
      "\n",
      "The downloaded binary packages are in\n",
      "\tC:\\Users\\ohongnat\\AppData\\Local\\Temp\\RtmpUxo7SW\\downloaded_packages\n"
     ]
    },
    {
     "name": "stderr",
     "output_type": "stream",
     "text": [
      "Installing package into 'C:/Users/ohongnat/Documents/R/win-library/3.6'\n",
      "(as 'lib' is unspecified)\n"
     ]
    },
    {
     "name": "stdout",
     "output_type": "stream",
     "text": [
      "package 'rlist' successfully unpacked and MD5 sums checked\n",
      "\n",
      "The downloaded binary packages are in\n",
      "\tC:\\Users\\ohongnat\\AppData\\Local\\Temp\\RtmpUxo7SW\\downloaded_packages\n"
     ]
    },
    {
     "name": "stderr",
     "output_type": "stream",
     "text": [
      "Installing package into 'C:/Users/ohongnat/Documents/R/win-library/3.6'\n",
      "(as 'lib' is unspecified)\n"
     ]
    },
    {
     "name": "stdout",
     "output_type": "stream",
     "text": [
      "package 'data.table' successfully unpacked and MD5 sums checked\n"
     ]
    },
    {
     "name": "stderr",
     "output_type": "stream",
     "text": [
      "Warning message:\n",
      "\"cannot remove prior installation of package 'data.table'\"Warning message in file.copy(savedcopy, lib, recursive = TRUE):\n",
      "\"problème lors de la copie de C:\\Users\\ohongnat\\Documents\\R\\win-library\\3.6\\00LOCK\\data.table\\libs\\x64\\datatable.dll vers C:\\Users\\ohongnat\\Documents\\R\\win-library\\3.6\\data.table\\libs\\x64\\datatable.dll: Permission denied\"Warning message:\n",
      "\"restored 'data.table'\""
     ]
    },
    {
     "name": "stdout",
     "output_type": "stream",
     "text": [
      "\n",
      "The downloaded binary packages are in\n",
      "\tC:\\Users\\ohongnat\\AppData\\Local\\Temp\\RtmpUxo7SW\\downloaded_packages\n"
     ]
    },
    {
     "name": "stderr",
     "output_type": "stream",
     "text": [
      "Installing package into 'C:/Users/ohongnat/Documents/R/win-library/3.6'\n",
      "(as 'lib' is unspecified)\n"
     ]
    },
    {
     "name": "stdout",
     "output_type": "stream",
     "text": [
      "\n",
      "  There is a binary version available but the source version is later:\n",
      "      binary source needs_compilation\n",
      "dplyr  1.0.6  1.0.7              TRUE\n",
      "\n",
      "  Binaries will be installed\n",
      "package 'dplyr' successfully unpacked and MD5 sums checked\n"
     ]
    },
    {
     "name": "stderr",
     "output_type": "stream",
     "text": [
      "Warning message:\n",
      "\"cannot remove prior installation of package 'dplyr'\"Warning message in file.copy(savedcopy, lib, recursive = TRUE):\n",
      "\"problème lors de la copie de C:\\Users\\ohongnat\\Documents\\R\\win-library\\3.6\\00LOCK\\dplyr\\libs\\x64\\dplyr.dll vers C:\\Users\\ohongnat\\Documents\\R\\win-library\\3.6\\dplyr\\libs\\x64\\dplyr.dll: Permission denied\"Warning message:\n",
      "\"restored 'dplyr'\""
     ]
    },
    {
     "name": "stdout",
     "output_type": "stream",
     "text": [
      "\n",
      "The downloaded binary packages are in\n",
      "\tC:\\Users\\ohongnat\\AppData\\Local\\Temp\\RtmpUxo7SW\\downloaded_packages\n"
     ]
    },
    {
     "name": "stderr",
     "output_type": "stream",
     "text": [
      "Installing package into 'C:/Users/ohongnat/Documents/R/win-library/3.6'\n",
      "(as 'lib' is unspecified)\n"
     ]
    },
    {
     "name": "stdout",
     "output_type": "stream",
     "text": [
      "package 'XML' successfully unpacked and MD5 sums checked\n"
     ]
    },
    {
     "name": "stderr",
     "output_type": "stream",
     "text": [
      "Warning message:\n",
      "\"cannot remove prior installation of package 'XML'\"Warning message in file.copy(savedcopy, lib, recursive = TRUE):\n",
      "\"problème lors de la copie de C:\\Users\\ohongnat\\Documents\\R\\win-library\\3.6\\00LOCK\\XML\\libs\\x64\\XML.dll vers C:\\Users\\ohongnat\\Documents\\R\\win-library\\3.6\\XML\\libs\\x64\\XML.dll: Permission denied\"Warning message:\n",
      "\"restored 'XML'\""
     ]
    },
    {
     "name": "stdout",
     "output_type": "stream",
     "text": [
      "\n",
      "The downloaded binary packages are in\n",
      "\tC:\\Users\\ohongnat\\AppData\\Local\\Temp\\RtmpUxo7SW\\downloaded_packages\n"
     ]
    },
    {
     "name": "stderr",
     "output_type": "stream",
     "text": [
      "Installing package into 'C:/Users/ohongnat/Documents/R/win-library/3.6'\n",
      "(as 'lib' is unspecified)\n",
      "Warning message:\n",
      "\"package 'methods' is not available (for R version 3.6.1)\"Warning message:\n",
      "\"package 'methods' is a base package, and should not be updated\"Warning message:\n",
      "\"package 'tidyverse' was built under R version 3.6.3\"-- \u001b[1mAttaching packages\u001b[22m ------------------------------------------------------------------------------- tidyverse 1.3.1 --\n",
      "\u001b[32mv\u001b[39m \u001b[34mggplot2\u001b[39m 3.3.3     \u001b[32mv\u001b[39m \u001b[34mpurrr  \u001b[39m 0.3.4\n",
      "\u001b[32mv\u001b[39m \u001b[34mtibble \u001b[39m 3.1.0     \u001b[32mv\u001b[39m \u001b[34mdplyr  \u001b[39m 1.0.6\n",
      "\u001b[32mv\u001b[39m \u001b[34mtidyr  \u001b[39m 1.1.3     \u001b[32mv\u001b[39m \u001b[34mstringr\u001b[39m 1.4.0\n",
      "\u001b[32mv\u001b[39m \u001b[34mreadr  \u001b[39m 1.4.0     \u001b[32mv\u001b[39m \u001b[34mforcats\u001b[39m 0.5.1\n",
      "Warning message:\n",
      "\"package 'ggplot2' was built under R version 3.6.3\"Warning message:\n",
      "\"package 'tibble' was built under R version 3.6.3\"Warning message:\n",
      "\"package 'tidyr' was built under R version 3.6.3\"Warning message:\n",
      "\"package 'readr' was built under R version 3.6.3\"Warning message:\n",
      "\"package 'purrr' was built under R version 3.6.3\"Warning message:\n",
      "\"package 'dplyr' was built under R version 3.6.3\"Warning message:\n",
      "\"package 'stringr' was built under R version 3.6.3\"Warning message:\n",
      "\"package 'forcats' was built under R version 3.6.3\"-- \u001b[1mConflicts\u001b[22m ---------------------------------------------------------------------------------- tidyverse_conflicts() --\n",
      "\u001b[31mx\u001b[39m \u001b[34mdplyr\u001b[39m::\u001b[32mfilter()\u001b[39m masks \u001b[34mstats\u001b[39m::filter()\n",
      "\u001b[31mx\u001b[39m \u001b[34mdplyr\u001b[39m::\u001b[32mlag()\u001b[39m    masks \u001b[34mstats\u001b[39m::lag()\n",
      "Warning message:\n",
      "\"package 'rlist' was built under R version 3.6.3\"Warning message:\n",
      "\"package 'data.table' was built under R version 3.6.3\"\n",
      "Attaching package: 'data.table'\n",
      "\n",
      "The following objects are masked from 'package:dplyr':\n",
      "\n",
      "    between, first, last\n",
      "\n",
      "The following object is masked from 'package:purrr':\n",
      "\n",
      "    transpose\n",
      "\n",
      "Warning message:\n",
      "\"package 'XML' was built under R version 3.6.3\""
     ]
    }
   ],
   "source": [
    "# We launch the libraries\n",
    "library(tidyverse)\n",
    "library(rlist)\n",
    "library(data.table)\n",
    "library(dplyr)\n",
    "library(XML)\n",
    "library(methods)"
   ]
  },
  {
   "cell_type": "code",
   "execution_count": 3,
   "metadata": {},
   "outputs": [],
   "source": [
    "# We open xml \"product1_en_cross_jdbor_evo\"\n",
    "product1=xmlParse(\"product1_en_cross_jdbor_evo.xml\")\n",
    "product1=xmlToList(product1)\n",
    "\n",
    "# We remove the last element of the list, which is the numeric count of all elements of the list\n",
    "product1=product1$DisorderList\n",
    "product1=product1[-length(product1)]\n",
    "\n",
    "### Our list for working\n",
    "indice_list=1\n",
    "product=list()\n",
    "for (i in 1:length(product1))\n",
    "{\n",
    "  product[[indice_list]]=product1[[i]]\n",
    "  indice_list=indice_list+1\n",
    "}\n",
    "# Each element in the list is a disorder"
   ]
  },
  {
   "cell_type": "code",
   "execution_count": 4,
   "metadata": {},
   "outputs": [],
   "source": [
    "# We first need to select the active clinical entities:\n",
    "# Head of classification (flag=128), Historical entities (flag=512) & On-line (flag=1)\n",
    "indice_list=1\n",
    "all_active_clinical_entities=list()\n",
    "for (i in 1:length(product))\n",
    "  if (product[[i]]$DisorderFlagList$DisorderFlag$Value=='1' |\n",
    "      product[[i]]$DisorderFlagList$DisorderFlag$Value=='128' |\n",
    "      product[[i]]$DisorderFlagList$DisorderFlag$Value=='512')\n",
    "  {\n",
    "    all_active_clinical_entities[[indice_list]]=product[[i]]\n",
    "    indice_list=indice_list+1\n",
    "  }"
   ]
  },
  {
   "cell_type": "code",
   "execution_count": 5,
   "metadata": {},
   "outputs": [
    {
     "data": {
      "text/html": [
       "6167"
      ],
      "text/latex": [
       "6167"
      ],
      "text/markdown": [
       "6167"
      ],
      "text/plain": [
       "[1] 6167"
      ]
     },
     "metadata": {},
     "output_type": "display_data"
    }
   ],
   "source": [
    "# We only want to work on disorders\n",
    "indice_list=1\n",
    "disorders=list()\n",
    "for (i in 1:length(all_active_clinical_entities))\n",
    "  if (all_active_clinical_entities[[i]]$DisorderGroup$Name$text=='Disorder')\n",
    "  {\n",
    "    disorders[[indice_list]]=all_active_clinical_entities[[i]]\n",
    "    indice_list=indice_list+1\n",
    "  }\n",
    "\n",
    "# Number of disorders\n",
    "number_disorders=length(disorders)\n",
    "number_disorders"
   ]
  },
  {
   "cell_type": "code",
   "execution_count": 6,
   "metadata": {},
   "outputs": [],
   "source": [
    "### Calculation of numbers of disorders with a definition\n",
    "\n",
    "# We are currently working on the file with datas in English\n",
    "\n",
    "# We look for the disorders that have a definition in their datas\n",
    "indice_list=1\n",
    "disorder_with_english_definition=list()\n",
    "for (i in 1:length(disorders))\n",
    "  if (!is.null(disorders[[i]]$SummaryInformationList$SummaryInformation$\n",
    "               TextSectionList$TextSection$TextSectionType$Name$text))\n",
    "  {\n",
    "    disorder_with_english_definition[[indice_list]]=disorders[[i]]\n",
    "    indice_list=indice_list+1\n",
    "  }"
   ]
  },
  {
   "cell_type": "code",
   "execution_count": 7,
   "metadata": {},
   "outputs": [
    {
     "data": {
      "text/html": [
       "5910"
      ],
      "text/latex": [
       "5910"
      ],
      "text/markdown": [
       "5910"
      ],
      "text/plain": [
       "[1] 5910"
      ]
     },
     "metadata": {},
     "output_type": "display_data"
    }
   ],
   "source": [
    "# Number of disorders with a definition in English\n",
    "number_of_disorders_with_english_definition=length(disorder_with_english_definition)\n",
    "number_of_disorders_with_english_definition"
   ]
  },
  {
   "cell_type": "code",
   "execution_count": 8,
   "metadata": {},
   "outputs": [
    {
     "data": {
      "text/html": [
       "95.8326576941787"
      ],
      "text/latex": [
       "95.8326576941787"
      ],
      "text/markdown": [
       "95.8326576941787"
      ],
      "text/plain": [
       "[1] 95.83266"
      ]
     },
     "metadata": {},
     "output_type": "display_data"
    }
   ],
   "source": [
    "# Percentage of disorders with a definition in English\n",
    "percentage_of_disorders_with_english_definition=number_of_disorders_with_english_definition/number_disorders*100\n",
    "percentage_of_disorders_with_english_definition"
   ]
  },
  {
   "cell_type": "code",
   "execution_count": 9,
   "metadata": {},
   "outputs": [],
   "source": [
    "### For the others languages\n",
    "\n",
    "\n",
    "### French\n",
    "\n",
    "# We open the file xml in French\n",
    "product1_fr_cross_jdbor_evo=xmlParse(\"product1_fr_cross_jdbor_evo.xml\")\n",
    "product1_fr_cross_jdbor_evo=xmlToList(product1_fr_cross_jdbor_evo)\n",
    "\n",
    "# We remove the last element of the list, which is the numeric count of all elements of the list\n",
    "product1_fr_cross_jdbor_evo=product1_fr_cross_jdbor_evo$DisorderList\n",
    "product1_fr_cross_jdbor_evo=product1_fr_cross_jdbor_evo[-length(product1_fr_cross_jdbor_evo)]\n",
    "\n",
    "### Our list for working\n",
    "indice_list=1\n",
    "product1_fr=list()\n",
    "for (i in 1:length(product1_fr_cross_jdbor_evo))\n",
    "{\n",
    "  product1_fr[[indice_list]]=product1_fr_cross_jdbor_evo[[i]]\n",
    "  indice_list=indice_list+1\n",
    "}\n",
    "# Each element in the list is a disorder"
   ]
  },
  {
   "cell_type": "code",
   "execution_count": 10,
   "metadata": {},
   "outputs": [],
   "source": [
    "# We only select the active clinical entities \n",
    "# Head of classification (flag=128), Historical entities (flag=512) & On-line (flag=1)\n",
    "indice_list=1\n",
    "french_active_clinical_entities=list()\n",
    "for (i in 1:length(product1_fr))\n",
    "    if (product1_fr[[i]]$DisorderFlagList$DisorderFlag$Value=='1' |\n",
    "        product1_fr[[i]]$DisorderFlagList$DisorderFlag$Value=='128' |\n",
    "        product1_fr[[i]]$DisorderFlagList$DisorderFlag$Value=='512')\n",
    "    {\n",
    "      french_active_clinical_entities[[indice_list]]=product1_fr[[i]]\n",
    "      indice_list=indice_list+1\n",
    "    }"
   ]
  },
  {
   "cell_type": "code",
   "execution_count": 11,
   "metadata": {},
   "outputs": [],
   "source": [
    "# We only want to work on disorders\n",
    "indice_list=1\n",
    "french_disorders=list()\n",
    "for (i in 1:length(french_active_clinical_entities))\n",
    "  for (j in 1:length(disorders))\n",
    "    if (french_active_clinical_entities[[i]]$OrphaCode==disorders[[j]]$OrphaCode)\n",
    "    {\n",
    "      french_disorders[[indice_list]]=french_active_clinical_entities[[i]]\n",
    "      indice_list=indice_list+1\n",
    "    }"
   ]
  },
  {
   "cell_type": "code",
   "execution_count": 12,
   "metadata": {},
   "outputs": [],
   "source": [
    "# We look for the disorders that have a definition in their datas\n",
    "indice_list=1\n",
    "disorder_with_french_definition=list()\n",
    "for (i in 1:length(french_disorders))\n",
    "  if (!is.null(french_disorders[[i]]$SummaryInformationList$SummaryInformation$\n",
    "               TextSectionList$TextSection$Contents))\n",
    "  {\n",
    "    disorder_with_french_definition[[indice_list]]=data.frame(french_disorders[[i]]$OrphaCode)\n",
    "    indice_list=indice_list+1\n",
    "  }"
   ]
  },
  {
   "cell_type": "code",
   "execution_count": 13,
   "metadata": {},
   "outputs": [
    {
     "data": {
      "text/html": [
       "3463"
      ],
      "text/latex": [
       "3463"
      ],
      "text/markdown": [
       "3463"
      ],
      "text/plain": [
       "[1] 3463"
      ]
     },
     "metadata": {},
     "output_type": "display_data"
    }
   ],
   "source": [
    "# Number of disorders with a definition in French\n",
    "number_of_disorders_with_french_definition=length(disorder_with_french_definition)\n",
    "number_of_disorders_with_french_definition"
   ]
  },
  {
   "cell_type": "code",
   "execution_count": 14,
   "metadata": {},
   "outputs": [
    {
     "data": {
      "text/html": [
       "56.1537214204638"
      ],
      "text/latex": [
       "56.1537214204638"
      ],
      "text/markdown": [
       "56.1537214204638"
      ],
      "text/plain": [
       "[1] 56.15372"
      ]
     },
     "metadata": {},
     "output_type": "display_data"
    }
   ],
   "source": [
    "# Percentage of disorders with a definition in French\n",
    "percentage_of_disorders_with_french_definition=number_of_disorders_with_french_definition/number_disorders*100\n",
    "percentage_of_disorders_with_french_definition"
   ]
  },
  {
   "cell_type": "code",
   "execution_count": 15,
   "metadata": {},
   "outputs": [],
   "source": [
    "### German\n",
    "\n",
    "# We open the file xml in German\n",
    "product1_de_cross_jdbor_evo=xmlParse(\"product1_de_cross_jdbor_evo.xml\")\n",
    "product1_de_cross_jdbor_evo=xmlToList(product1_de_cross_jdbor_evo)\n",
    "\n",
    "# We remove the last element of the list, which is the numeric count of all elements of the list\n",
    "product1_de_cross_jdbor_evo=product1_de_cross_jdbor_evo$DisorderList\n",
    "product1_de_cross_jdbor_evo=product1_de_cross_jdbor_evo[-length(product1_de_cross_jdbor_evo)]\n",
    "\n",
    "### Our list for working\n",
    "indice_list=1\n",
    "product1_de=list()\n",
    "for (i in 1:length(product1_de_cross_jdbor_evo))\n",
    "{\n",
    "  product1_de[[indice_list]]=product1_de_cross_jdbor_evo[[i]]\n",
    "  indice_list=indice_list+1\n",
    "}\n",
    "# Each element in the list is a disorder"
   ]
  },
  {
   "cell_type": "code",
   "execution_count": 16,
   "metadata": {},
   "outputs": [],
   "source": [
    "# We only select the active clinical entities \n",
    "# Head of classification (flag=128), Historical entities (flag=512) & On-line (flag=1)\n",
    "indice_list=1\n",
    "german_active_clinical_entities=list()\n",
    "for (i in 1:length(product1_de))\n",
    "  if (product1_de[[i]]$DisorderFlagList$DisorderFlag$Value=='1' |\n",
    "      product1_de[[i]]$DisorderFlagList$DisorderFlag$Value=='128' |\n",
    "      product1_de[[i]]$DisorderFlagList$DisorderFlag$Value=='512')\n",
    "  {\n",
    "    german_active_clinical_entities[[indice_list]]=product1_de[[i]]\n",
    "    indice_list=indice_list+1\n",
    "  }"
   ]
  },
  {
   "cell_type": "code",
   "execution_count": 17,
   "metadata": {},
   "outputs": [],
   "source": [
    "# We only want to work on disorders\n",
    "indice_list=1\n",
    "german_disorders=list()\n",
    "for (i in 1:length(german_active_clinical_entities))\n",
    "  for (j in 1:length(disorders))\n",
    "    if (german_active_clinical_entities[[i]]$OrphaCode==disorders[[j]]$OrphaCode)\n",
    "    {\n",
    "      german_disorders[[indice_list]]=german_active_clinical_entities[[i]]\n",
    "      indice_list=indice_list+1\n",
    "    }"
   ]
  },
  {
   "cell_type": "code",
   "execution_count": 18,
   "metadata": {},
   "outputs": [],
   "source": [
    "# We look for the disorders that have a definition in their datas\n",
    "indice_list=1\n",
    "disorder_with_german_definition=list()\n",
    "for (i in 1:length(german_disorders))\n",
    "  if (!is.null(german_disorders[[i]]$SummaryInformationList$SummaryInformation$\n",
    "               TextSectionList$TextSection$Contents))\n",
    "  {\n",
    "    disorder_with_german_definition[[indice_list]]=data.frame(german_disorders[[i]]$OrphaCode)\n",
    "    indice_list=indice_list+1\n",
    "  }"
   ]
  },
  {
   "cell_type": "code",
   "execution_count": 19,
   "metadata": {},
   "outputs": [
    {
     "data": {
      "text/html": [
       "1891"
      ],
      "text/latex": [
       "1891"
      ],
      "text/markdown": [
       "1891"
      ],
      "text/plain": [
       "[1] 1891"
      ]
     },
     "metadata": {},
     "output_type": "display_data"
    }
   ],
   "source": [
    "# Number of disorders with a definition in German\n",
    "number_of_disorders_with_german_definition=length(disorder_with_german_definition)\n",
    "number_of_disorders_with_german_definition"
   ]
  },
  {
   "cell_type": "code",
   "execution_count": 20,
   "metadata": {},
   "outputs": [
    {
     "data": {
      "text/html": [
       "30.6632073941949"
      ],
      "text/latex": [
       "30.6632073941949"
      ],
      "text/markdown": [
       "30.6632073941949"
      ],
      "text/plain": [
       "[1] 30.66321"
      ]
     },
     "metadata": {},
     "output_type": "display_data"
    }
   ],
   "source": [
    "# Percentage of disorders with a definition in German\n",
    "percentage_of_disorders_with_german_definition=number_of_disorders_with_german_definition/number_disorders*100\n",
    "percentage_of_disorders_with_german_definition"
   ]
  },
  {
   "cell_type": "code",
   "execution_count": 21,
   "metadata": {},
   "outputs": [],
   "source": [
    "### Dutch\n",
    "\n",
    "# We open the file xml in Dutch\n",
    "product1_nl_cross_jdbor_evo=xmlParse(\"product1_nl_cross_jdbor_evo.xml\")\n",
    "product1_nl_cross_jdbor_evo=xmlToList(product1_nl_cross_jdbor_evo)\n",
    "\n",
    "# We remove the last element of the list, which is the numeric count of all elements of the list\n",
    "product1_nl_cross_jdbor_evo=product1_nl_cross_jdbor_evo$DisorderList\n",
    "product1_nl_cross_jdbor_evo=product1_nl_cross_jdbor_evo[-length(product1_nl_cross_jdbor_evo)]\n",
    "\n",
    "### Our list for working\n",
    "indice_list=1\n",
    "product1_nl=list()\n",
    "for (i in 1:length(product1_nl_cross_jdbor_evo))\n",
    "{\n",
    "  product1_nl[[indice_list]]=product1_nl_cross_jdbor_evo[[i]]\n",
    "  indice_list=indice_list+1\n",
    "}\n",
    "# Each element in the list is a disorder"
   ]
  },
  {
   "cell_type": "code",
   "execution_count": 22,
   "metadata": {},
   "outputs": [],
   "source": [
    "# We only select the active clinical entities \n",
    "# Head of classification (flag=128), Historical entities (flag=512) & On-line (flag=1)\n",
    "indice_list=1\n",
    "dutch_active_clinical_entities=list()\n",
    "for (i in 1:length(product1_nl))\n",
    "  if (product1_nl[[i]]$DisorderFlagList$DisorderFlag$Value=='1' |\n",
    "      product1_nl[[i]]$DisorderFlagList$DisorderFlag$Value=='128' |\n",
    "      product1_nl[[i]]$DisorderFlagList$DisorderFlag$Value=='512')\n",
    "  {\n",
    "    dutch_active_clinical_entities[[indice_list]]=product1_nl[[i]]\n",
    "    indice_list=indice_list+1\n",
    "  }"
   ]
  },
  {
   "cell_type": "code",
   "execution_count": 23,
   "metadata": {},
   "outputs": [],
   "source": [
    "# We only want to work on disorders\n",
    "indice_list=1\n",
    "dutch_disorders=list()\n",
    "for (i in 1:length(dutch_active_clinical_entities))\n",
    "  for (j in 1:length(disorders))\n",
    "    if (dutch_active_clinical_entities[[i]]$OrphaCode==disorders[[j]]$OrphaCode)\n",
    "    {\n",
    "      dutch_disorders[[indice_list]]=dutch_active_clinical_entities[[i]]\n",
    "      indice_list=indice_list+1\n",
    "    }"
   ]
  },
  {
   "cell_type": "code",
   "execution_count": 24,
   "metadata": {},
   "outputs": [],
   "source": [
    "# We look for the disorders that have a definition in their datas\n",
    "indice_list=1\n",
    "disorder_with_dutch_definition=list()\n",
    "for (i in 1:length(dutch_disorders))\n",
    "  if (!is.null(dutch_disorders[[i]]$SummaryInformationList$SummaryInformation$\n",
    "               TextSectionList$TextSection$Contents))\n",
    "  {\n",
    "    disorder_with_dutch_definition[[indice_list]]=data.frame(dutch_disorders[[i]]$OrphaCode)\n",
    "    indice_list=indice_list+1\n",
    "  }"
   ]
  },
  {
   "cell_type": "code",
   "execution_count": 25,
   "metadata": {},
   "outputs": [
    {
     "data": {
      "text/html": [
       "4196"
      ],
      "text/latex": [
       "4196"
      ],
      "text/markdown": [
       "4196"
      ],
      "text/plain": [
       "[1] 4196"
      ]
     },
     "metadata": {},
     "output_type": "display_data"
    }
   ],
   "source": [
    "# Number of disorders with a definition in Dutch\n",
    "number_of_disorders_with_dutch_definition=length(disorder_with_dutch_definition)\n",
    "number_of_disorders_with_dutch_definition"
   ]
  },
  {
   "cell_type": "code",
   "execution_count": 26,
   "metadata": {},
   "outputs": [
    {
     "data": {
      "text/html": [
       "68.0395654288957"
      ],
      "text/latex": [
       "68.0395654288957"
      ],
      "text/markdown": [
       "68.0395654288957"
      ],
      "text/plain": [
       "[1] 68.03957"
      ]
     },
     "metadata": {},
     "output_type": "display_data"
    }
   ],
   "source": [
    "# Percentage of disorders with a definition in Dutch\n",
    "percentage_of_disorders_with_dutch_definition=number_of_disorders_with_dutch_definition/number_disorders*100\n",
    "percentage_of_disorders_with_dutch_definition"
   ]
  },
  {
   "cell_type": "code",
   "execution_count": 27,
   "metadata": {},
   "outputs": [],
   "source": [
    "### Spanish\n",
    "\n",
    "# We open the file xml in Spanish\n",
    "product1_es_cross_jdbor_evo=xmlParse(\"product1_es_cross_jdbor_evo.xml\")\n",
    "product1_es_cross_jdbor_evo=xmlToList(product1_es_cross_jdbor_evo)\n",
    "\n",
    "# We remove the last element of the list, which is the numeric count of all elements of the list\n",
    "product1_es_cross_jdbor_evo=product1_es_cross_jdbor_evo$DisorderList\n",
    "product1_es_cross_jdbor_evo=product1_es_cross_jdbor_evo[-length(product1_es_cross_jdbor_evo)]\n",
    "\n",
    "### Our list for working\n",
    "indice_list=1\n",
    "product1_es=list()\n",
    "for (i in 1:length(product1_es_cross_jdbor_evo))\n",
    "{\n",
    "  product1_es[[indice_list]]=product1_es_cross_jdbor_evo[[i]]\n",
    "  indice_list=indice_list+1\n",
    "}\n",
    "# Each element in the list is a disorder"
   ]
  },
  {
   "cell_type": "code",
   "execution_count": 28,
   "metadata": {},
   "outputs": [],
   "source": [
    "# We only select the active clinical entities \n",
    "# Head of classification (flag=128), Historical entities (flag=512) & On-line (flag=1)\n",
    "indice_list=1\n",
    "spanish_active_clinical_entities=list()\n",
    "for (i in 1:length(product1_es))\n",
    "  if (product1_es[[i]]$DisorderFlagList$DisorderFlag$Value=='1' |\n",
    "      product1_es[[i]]$DisorderFlagList$DisorderFlag$Value=='128' |\n",
    "      product1_es[[i]]$DisorderFlagList$DisorderFlag$Value=='512')\n",
    "  {\n",
    "    spanish_active_clinical_entities[[indice_list]]=product1_es[[i]]\n",
    "    indice_list=indice_list+1\n",
    "  }"
   ]
  },
  {
   "cell_type": "code",
   "execution_count": 29,
   "metadata": {},
   "outputs": [],
   "source": [
    "# We only want to work on disorders\n",
    "indice_list=1\n",
    "spanish_disorders=list()\n",
    "for (i in 1:length(spanish_active_clinical_entities))\n",
    "  for (j in 1:length(disorders))\n",
    "    if (spanish_active_clinical_entities[[i]]$OrphaCode==disorders[[j]]$OrphaCode)\n",
    "    {\n",
    "      spanish_disorders[[indice_list]]=spanish_active_clinical_entities[[i]]\n",
    "      indice_list=indice_list+1\n",
    "    }"
   ]
  },
  {
   "cell_type": "code",
   "execution_count": 30,
   "metadata": {},
   "outputs": [],
   "source": [
    "# We look for the disorders that have a definition in their datas\n",
    "indice_list=1\n",
    "disorder_with_spanish_definition=list()\n",
    "for (i in 1:length(spanish_disorders))\n",
    "  if (!is.null(spanish_disorders[[i]]$SummaryInformationList$SummaryInformation$\n",
    "               TextSectionList$TextSection$Contents))\n",
    "  {\n",
    "    disorder_with_spanish_definition[[indice_list]]=data.frame(spanish_disorders[[i]]$OrphaCode)\n",
    "    indice_list=indice_list+1\n",
    "  }"
   ]
  },
  {
   "cell_type": "code",
   "execution_count": 31,
   "metadata": {},
   "outputs": [
    {
     "data": {
      "text/html": [
       "4214"
      ],
      "text/latex": [
       "4214"
      ],
      "text/markdown": [
       "4214"
      ],
      "text/plain": [
       "[1] 4214"
      ]
     },
     "metadata": {},
     "output_type": "display_data"
    }
   ],
   "source": [
    "# Number of disorders with a definition in Spanish\n",
    "number_of_disorders_with_spanish_definition=length(disorder_with_spanish_definition)\n",
    "number_of_disorders_with_spanish_definition"
   ]
  },
  {
   "cell_type": "code",
   "execution_count": 32,
   "metadata": {},
   "outputs": [
    {
     "data": {
      "text/html": [
       "68.3314415437004"
      ],
      "text/latex": [
       "68.3314415437004"
      ],
      "text/markdown": [
       "68.3314415437004"
      ],
      "text/plain": [
       "[1] 68.33144"
      ]
     },
     "metadata": {},
     "output_type": "display_data"
    }
   ],
   "source": [
    "# Percentage of disorders with a definition in Spanish\n",
    "percentage_of_disorders_with_spanish_definition=number_of_disorders_with_spanish_definition/number_disorders*100\n",
    "percentage_of_disorders_with_spanish_definition"
   ]
  },
  {
   "cell_type": "code",
   "execution_count": 33,
   "metadata": {},
   "outputs": [],
   "source": [
    "### Italian\n",
    "\n",
    "# We open the file xml in Italian\n",
    "product1_it_cross_jdbor_evo=xmlParse(\"product1_it_cross_jdbor_evo.xml\")\n",
    "product1_it_cross_jdbor_evo=xmlToList(product1_it_cross_jdbor_evo)\n",
    "\n",
    "# We remove the last element of the list, which is the numeric count of all elements of the list\n",
    "product1_it_cross_jdbor_evo=product1_it_cross_jdbor_evo$DisorderList\n",
    "product1_it_cross_jdbor_evo=product1_it_cross_jdbor_evo[-length(product1_it_cross_jdbor_evo)]\n",
    "\n",
    "### Our list for working\n",
    "indice_list=1\n",
    "product1_it=list()\n",
    "for (i in 1:length(product1_it_cross_jdbor_evo))\n",
    "{\n",
    "  product1_it[[indice_list]]=product1_it_cross_jdbor_evo[[i]]\n",
    "  indice_list=indice_list+1\n",
    "}\n",
    "# Each element in the list is a disorder"
   ]
  },
  {
   "cell_type": "code",
   "execution_count": 34,
   "metadata": {},
   "outputs": [],
   "source": [
    "# We only select the active clinical entities \n",
    "# Head of classification (flag=128), Historical entities (flag=512) & On-line (flag=1)\n",
    "indice_list=1\n",
    "italian_active_clinical_entities=list()\n",
    "for (i in 1:length(product1_it))\n",
    "  if (product1_it[[i]]$DisorderFlagList$DisorderFlag$Value=='1' |\n",
    "      product1_it[[i]]$DisorderFlagList$DisorderFlag$Value=='128' |\n",
    "      product1_it[[i]]$DisorderFlagList$DisorderFlag$Value=='512')\n",
    "  {\n",
    "    italian_active_clinical_entities[[indice_list]]=product1_it[[i]]\n",
    "    indice_list=indice_list+1\n",
    "  }"
   ]
  },
  {
   "cell_type": "code",
   "execution_count": 35,
   "metadata": {},
   "outputs": [],
   "source": [
    "# We only want to work on disorders\n",
    "indice_list=1\n",
    "italian_disorders=list()\n",
    "for (i in 1:length(italian_active_clinical_entities))\n",
    "  for (j in 1:length(disorders))\n",
    "    if (italian_active_clinical_entities[[i]]$OrphaCode==disorders[[j]]$OrphaCode)\n",
    "    {\n",
    "      italian_disorders[[indice_list]]=italian_active_clinical_entities[[i]]\n",
    "      indice_list=indice_list+1\n",
    "    }"
   ]
  },
  {
   "cell_type": "code",
   "execution_count": 36,
   "metadata": {},
   "outputs": [],
   "source": [
    "# We look for the disorders that have a definition in their datas\n",
    "indice_list=1\n",
    "disorder_with_italian_definition=list()\n",
    "for (i in 1:length(italian_disorders))\n",
    "  if (!is.null(italian_disorders[[i]]$SummaryInformationList$SummaryInformation$\n",
    "               TextSectionList$TextSection$Contents))\n",
    "  {\n",
    "    disorder_with_italian_definition[[indice_list]]=data.frame(italian_disorders[[i]]$OrphaCode)\n",
    "    indice_list=indice_list+1\n",
    "  }"
   ]
  },
  {
   "cell_type": "code",
   "execution_count": 37,
   "metadata": {},
   "outputs": [
    {
     "data": {
      "text/html": [
       "2447"
      ],
      "text/latex": [
       "2447"
      ],
      "text/markdown": [
       "2447"
      ],
      "text/plain": [
       "[1] 2447"
      ]
     },
     "metadata": {},
     "output_type": "display_data"
    }
   ],
   "source": [
    "# Number of disorders with a definition in Italian\n",
    "number_of_disorders_with_italian_definition=length(disorder_with_italian_definition)\n",
    "number_of_disorders_with_italian_definition"
   ]
  },
  {
   "cell_type": "code",
   "execution_count": 38,
   "metadata": {},
   "outputs": [
    {
     "data": {
      "text/html": [
       "39.6789362737149"
      ],
      "text/latex": [
       "39.6789362737149"
      ],
      "text/markdown": [
       "39.6789362737149"
      ],
      "text/plain": [
       "[1] 39.67894"
      ]
     },
     "metadata": {},
     "output_type": "display_data"
    }
   ],
   "source": [
    "# Percentage of disorders with a definition in Italian\n",
    "percentage_of_disorders_with_italian_definition=number_of_disorders_with_italian_definition/number_disorders*100\n",
    "percentage_of_disorders_with_italian_definition"
   ]
  },
  {
   "cell_type": "code",
   "execution_count": 39,
   "metadata": {},
   "outputs": [],
   "source": [
    "### Portuguese\n",
    "\n",
    "# We open the file xml in Portuguese\n",
    "product1_pt_cross_jdbor_evo=xmlParse(\"product1_pt_cross_jdbor_evo.xml\")\n",
    "product1_pt_cross_jdbor_evo=xmlToList(product1_pt_cross_jdbor_evo)\n",
    "\n",
    "# We remove the last element of the list, which is the numeric count of all elements of the list\n",
    "product1_pt_cross_jdbor_evo=product1_pt_cross_jdbor_evo$DisorderList\n",
    "product1_pt_cross_jdbor_evo=product1_pt_cross_jdbor_evo[-length(product1_pt_cross_jdbor_evo)]\n",
    "\n",
    "### Our list for working\n",
    "indice_list=1\n",
    "product1_pt=list()\n",
    "for (i in 1:length(product1_pt_cross_jdbor_evo))\n",
    "{\n",
    "  product1_pt[[indice_list]]=product1_pt_cross_jdbor_evo[[i]]\n",
    "  indice_list=indice_list+1\n",
    "}\n",
    "# Each element in the list is a disorder"
   ]
  },
  {
   "cell_type": "code",
   "execution_count": 40,
   "metadata": {},
   "outputs": [],
   "source": [
    "# We only select the active clinical entities \n",
    "# Head of classification (flag=128), Historical entities (flag=512) & On-line (flag=1)\n",
    "indice_list=1\n",
    "portuguese_active_clinical_entities=list()\n",
    "for (i in 1:length(product1_pt))\n",
    "  if (product1_pt[[i]]$DisorderFlagList$DisorderFlag$Value=='1' |\n",
    "      product1_pt[[i]]$DisorderFlagList$DisorderFlag$Value=='128' |\n",
    "      product1_pt[[i]]$DisorderFlagList$DisorderFlag$Value=='512')\n",
    "  {\n",
    "    portuguese_active_clinical_entities[[indice_list]]=product1_pt[[i]]\n",
    "    indice_list=indice_list+1\n",
    "  }"
   ]
  },
  {
   "cell_type": "code",
   "execution_count": 41,
   "metadata": {},
   "outputs": [],
   "source": [
    "# We only want to work on disorders\n",
    "indice_list=1\n",
    "portuguese_disorders=list()\n",
    "for (i in 1:length(portuguese_active_clinical_entities))\n",
    "  for (j in 1:length(disorders))\n",
    "    if (portuguese_active_clinical_entities[[i]]$OrphaCode==disorders[[j]]$OrphaCode)\n",
    "    {\n",
    "      portuguese_disorders[[indice_list]]=portuguese_active_clinical_entities[[i]]\n",
    "      indice_list=indice_list+1\n",
    "    }"
   ]
  },
  {
   "cell_type": "code",
   "execution_count": 42,
   "metadata": {},
   "outputs": [],
   "source": [
    "# We look for the disorders that have a definition in their datas\n",
    "indice_list=1\n",
    "disorder_with_portuguese_definition=list()\n",
    "for (i in 1:length(portuguese_disorders))\n",
    "  if (!is.null(portuguese_disorders[[i]]$SummaryInformationList$SummaryInformation$\n",
    "               TextSectionList$TextSection$Contents))\n",
    "  {\n",
    "    disorder_with_portuguese_definition[[indice_list]]=data.frame(portuguese_disorders[[i]]$OrphaCode)\n",
    "    indice_list=indice_list+1\n",
    "  }"
   ]
  },
  {
   "cell_type": "code",
   "execution_count": 43,
   "metadata": {},
   "outputs": [
    {
     "data": {
      "text/html": [
       "805"
      ],
      "text/latex": [
       "805"
      ],
      "text/markdown": [
       "805"
      ],
      "text/plain": [
       "[1] 805"
      ]
     },
     "metadata": {},
     "output_type": "display_data"
    }
   ],
   "source": [
    "# Number of disorders with a definition in Portuguese\n",
    "number_of_disorders_with_portuguese_definition=length(disorder_with_portuguese_definition)\n",
    "number_of_disorders_with_portuguese_definition"
   ]
  },
  {
   "cell_type": "code",
   "execution_count": 44,
   "metadata": {},
   "outputs": [
    {
     "data": {
      "text/html": [
       "13.0533484676504"
      ],
      "text/latex": [
       "13.0533484676504"
      ],
      "text/markdown": [
       "13.0533484676504"
      ],
      "text/plain": [
       "[1] 13.05335"
      ]
     },
     "metadata": {},
     "output_type": "display_data"
    }
   ],
   "source": [
    "# Percentage of disorders with a definition in Portuguese\n",
    "percentage_of_disorders_with_portuguese_definition=number_of_disorders_with_portuguese_definition/number_disorders*100\n",
    "percentage_of_disorders_with_portuguese_definition"
   ]
  },
  {
   "cell_type": "code",
   "execution_count": 45,
   "metadata": {},
   "outputs": [],
   "source": [
    "### Polish\n",
    "\n",
    "# We open the file xml in Polish\n",
    "product1_pl_cross_jdbor_evo=xmlParse(\"product1_pl_cross_jdbor_evo.xml\")\n",
    "product1_pl_cross_jdbor_evo=xmlToList(product1_pl_cross_jdbor_evo)\n",
    "\n",
    "# We remove the last element of the list, which is the numeric count of all elements of the list\n",
    "product1_pl_cross_jdbor_evo=product1_pl_cross_jdbor_evo$DisorderList\n",
    "product1_pl_cross_jdbor_evo=product1_pl_cross_jdbor_evo[-length(product1_pl_cross_jdbor_evo)]\n",
    "\n",
    "### Our list for working\n",
    "indice_list=1\n",
    "product1_pl=list()\n",
    "for (i in 1:length(product1_pl_cross_jdbor_evo))\n",
    "{\n",
    "  product1_pl[[indice_list]]=product1_pl_cross_jdbor_evo[[i]]\n",
    "  indice_list=indice_list+1\n",
    "}\n",
    "# Each element in the list is a disorder"
   ]
  },
  {
   "cell_type": "code",
   "execution_count": 46,
   "metadata": {},
   "outputs": [],
   "source": [
    "# We only select the active clinical entities \n",
    "# Head of classification (flag=128), Historical entities (flag=512) & On-line (flag=1)\n",
    "indice_list=1\n",
    "polish_active_clinical_entities=list()\n",
    "for (i in 1:length(product1_pl))\n",
    "  if (product1_pl[[i]]$DisorderFlagList$DisorderFlag$Value=='1' |\n",
    "      product1_pl[[i]]$DisorderFlagList$DisorderFlag$Value=='128' |\n",
    "      product1_pl[[i]]$DisorderFlagList$DisorderFlag$Value=='512')\n",
    "  {\n",
    "    polish_active_clinical_entities[[indice_list]]=product1_pl[[i]]\n",
    "    indice_list=indice_list+1\n",
    "  }"
   ]
  },
  {
   "cell_type": "code",
   "execution_count": 47,
   "metadata": {},
   "outputs": [],
   "source": [
    "# We only want to work on disorders\n",
    "indice_list=1\n",
    "polish_disorders=list()\n",
    "for (i in 1:length(polish_active_clinical_entities))\n",
    "  for (j in 1:length(disorders))\n",
    "    if (polish_active_clinical_entities[[i]]$OrphaCode==disorders[[j]]$OrphaCode)\n",
    "    {\n",
    "      polish_disorders[[indice_list]]=polish_active_clinical_entities[[i]]\n",
    "      indice_list=indice_list+1\n",
    "    }"
   ]
  },
  {
   "cell_type": "code",
   "execution_count": 48,
   "metadata": {},
   "outputs": [],
   "source": [
    "# We look for the disorders that have a definition in their datas\n",
    "indice_list=1\n",
    "disorder_with_polish_definition=list()\n",
    "for (i in 1:length(polish_disorders))\n",
    "  if (!is.null(polish_disorders[[i]]$SummaryInformationList$SummaryInformation$\n",
    "               TextSectionList$TextSection$Contents))\n",
    "  {\n",
    "    disorder_with_polish_definition[[indice_list]]=data.frame(polish_disorders[[i]]$OrphaCode)\n",
    "    indice_list=indice_list+1\n",
    "  }"
   ]
  },
  {
   "cell_type": "code",
   "execution_count": 49,
   "metadata": {},
   "outputs": [
    {
     "data": {
      "text/html": [
       "5910"
      ],
      "text/latex": [
       "5910"
      ],
      "text/markdown": [
       "5910"
      ],
      "text/plain": [
       "[1] 5910"
      ]
     },
     "metadata": {},
     "output_type": "display_data"
    }
   ],
   "source": [
    "# Number of disorders with a definition in Polish\n",
    "number_of_disorders_with_polish_definition=length(disorder_with_polish_definition)\n",
    "number_of_disorders_with_polish_definition"
   ]
  },
  {
   "cell_type": "code",
   "execution_count": 50,
   "metadata": {},
   "outputs": [
    {
     "data": {
      "text/html": [
       "95.8326576941787"
      ],
      "text/latex": [
       "95.8326576941787"
      ],
      "text/markdown": [
       "95.8326576941787"
      ],
      "text/plain": [
       "[1] 95.83266"
      ]
     },
     "metadata": {},
     "output_type": "display_data"
    }
   ],
   "source": [
    "# Percentage of disorders with a definition in Polish\n",
    "percentage_of_disorders_with_polish_definition=number_of_disorders_with_polish_definition/number_disorders*100\n",
    "percentage_of_disorders_with_polish_definition"
   ]
  }
 ],
 "metadata": {
  "kernelspec": {
   "display_name": "R",
   "language": "R",
   "name": "ir"
  },
  "language_info": {
   "codemirror_mode": "r",
   "file_extension": ".r",
   "mimetype": "text/x-r-source",
   "name": "R",
   "pygments_lexer": "r",
   "version": "3.6.1"
  }
 },
 "nbformat": 4,
 "nbformat_minor": 4
}
