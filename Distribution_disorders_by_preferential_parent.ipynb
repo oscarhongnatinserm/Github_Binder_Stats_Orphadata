{
 "cells": [
  {
   "cell_type": "code",
   "execution_count": 1,
   "metadata": {},
   "outputs": [],
   "source": [
    "### DISTRIBUTION OF DISORDERS BY PREFERENTIAL PARENT\n",
    "\n",
    "\n",
    "# We launch the config file with the installation of the R libraries\n",
    "source(\"config.R\")\n",
    "\n",
    "\n",
    "# INPUTS : \"product1_en_cross_jdbor_evo.xml\"; \"product7_linear_en_jdbor_evo.xml\".\n",
    "\n",
    "\n",
    "# OUTPUTS : \"distribution_disorders_by_preferential_parent\"."
   ]
  },
  {
   "cell_type": "code",
   "execution_count": 2,
   "metadata": {},
   "outputs": [
    {
     "name": "stderr",
     "output_type": "stream",
     "text": [
      "Installing package into 'C:/Users/ohongnat/Documents/R/win-library/3.6'\n",
      "(as 'lib' is unspecified)\n"
     ]
    },
    {
     "name": "stdout",
     "output_type": "stream",
     "text": [
      "package 'tidyverse' successfully unpacked and MD5 sums checked\n",
      "\n",
      "The downloaded binary packages are in\n",
      "\tC:\\Users\\ohongnat\\AppData\\Local\\Temp\\RtmpET2dNz\\downloaded_packages\n"
     ]
    },
    {
     "name": "stderr",
     "output_type": "stream",
     "text": [
      "Installing package into 'C:/Users/ohongnat/Documents/R/win-library/3.6'\n",
      "(as 'lib' is unspecified)\n"
     ]
    },
    {
     "name": "stdout",
     "output_type": "stream",
     "text": [
      "package 'rlist' successfully unpacked and MD5 sums checked\n",
      "\n",
      "The downloaded binary packages are in\n",
      "\tC:\\Users\\ohongnat\\AppData\\Local\\Temp\\RtmpET2dNz\\downloaded_packages\n"
     ]
    },
    {
     "name": "stderr",
     "output_type": "stream",
     "text": [
      "Installing package into 'C:/Users/ohongnat/Documents/R/win-library/3.6'\n",
      "(as 'lib' is unspecified)\n"
     ]
    },
    {
     "name": "stdout",
     "output_type": "stream",
     "text": [
      "package 'data.table' successfully unpacked and MD5 sums checked\n"
     ]
    },
    {
     "name": "stderr",
     "output_type": "stream",
     "text": [
      "Warning message:\n",
      "\"cannot remove prior installation of package 'data.table'\"Warning message in file.copy(savedcopy, lib, recursive = TRUE):\n",
      "\"problème lors de la copie de C:\\Users\\ohongnat\\Documents\\R\\win-library\\3.6\\00LOCK\\data.table\\libs\\x64\\datatable.dll vers C:\\Users\\ohongnat\\Documents\\R\\win-library\\3.6\\data.table\\libs\\x64\\datatable.dll: Permission denied\"Warning message:\n",
      "\"restored 'data.table'\""
     ]
    },
    {
     "name": "stdout",
     "output_type": "stream",
     "text": [
      "\n",
      "The downloaded binary packages are in\n",
      "\tC:\\Users\\ohongnat\\AppData\\Local\\Temp\\RtmpET2dNz\\downloaded_packages\n"
     ]
    },
    {
     "name": "stderr",
     "output_type": "stream",
     "text": [
      "Installing package into 'C:/Users/ohongnat/Documents/R/win-library/3.6'\n",
      "(as 'lib' is unspecified)\n"
     ]
    },
    {
     "name": "stdout",
     "output_type": "stream",
     "text": [
      "\n",
      "  There is a binary version available but the source version is later:\n",
      "      binary source needs_compilation\n",
      "dplyr  1.0.6  1.0.7              TRUE\n",
      "\n",
      "  Binaries will be installed\n",
      "package 'dplyr' successfully unpacked and MD5 sums checked\n"
     ]
    },
    {
     "name": "stderr",
     "output_type": "stream",
     "text": [
      "Warning message:\n",
      "\"cannot remove prior installation of package 'dplyr'\"Warning message in file.copy(savedcopy, lib, recursive = TRUE):\n",
      "\"problème lors de la copie de C:\\Users\\ohongnat\\Documents\\R\\win-library\\3.6\\00LOCK\\dplyr\\libs\\x64\\dplyr.dll vers C:\\Users\\ohongnat\\Documents\\R\\win-library\\3.6\\dplyr\\libs\\x64\\dplyr.dll: Permission denied\"Warning message:\n",
      "\"restored 'dplyr'\""
     ]
    },
    {
     "name": "stdout",
     "output_type": "stream",
     "text": [
      "\n",
      "The downloaded binary packages are in\n",
      "\tC:\\Users\\ohongnat\\AppData\\Local\\Temp\\RtmpET2dNz\\downloaded_packages\n"
     ]
    },
    {
     "name": "stderr",
     "output_type": "stream",
     "text": [
      "Installing package into 'C:/Users/ohongnat/Documents/R/win-library/3.6'\n",
      "(as 'lib' is unspecified)\n"
     ]
    },
    {
     "name": "stdout",
     "output_type": "stream",
     "text": [
      "package 'XML' successfully unpacked and MD5 sums checked\n"
     ]
    },
    {
     "name": "stderr",
     "output_type": "stream",
     "text": [
      "Warning message:\n",
      "\"cannot remove prior installation of package 'XML'\"Warning message in file.copy(savedcopy, lib, recursive = TRUE):\n",
      "\"problème lors de la copie de C:\\Users\\ohongnat\\Documents\\R\\win-library\\3.6\\00LOCK\\XML\\libs\\x64\\XML.dll vers C:\\Users\\ohongnat\\Documents\\R\\win-library\\3.6\\XML\\libs\\x64\\XML.dll: Permission denied\"Warning message:\n",
      "\"restored 'XML'\""
     ]
    },
    {
     "name": "stdout",
     "output_type": "stream",
     "text": [
      "\n",
      "The downloaded binary packages are in\n",
      "\tC:\\Users\\ohongnat\\AppData\\Local\\Temp\\RtmpET2dNz\\downloaded_packages\n"
     ]
    },
    {
     "name": "stderr",
     "output_type": "stream",
     "text": [
      "Installing package into 'C:/Users/ohongnat/Documents/R/win-library/3.6'\n",
      "(as 'lib' is unspecified)\n",
      "Warning message:\n",
      "\"package 'methods' is not available (for R version 3.6.1)\"Warning message:\n",
      "\"package 'methods' is a base package, and should not be updated\"Warning message:\n",
      "\"package 'tidyverse' was built under R version 3.6.3\"-- \u001b[1mAttaching packages\u001b[22m ------------------------------------------------------------------------------- tidyverse 1.3.1 --\n",
      "\u001b[32mv\u001b[39m \u001b[34mggplot2\u001b[39m 3.3.3     \u001b[32mv\u001b[39m \u001b[34mpurrr  \u001b[39m 0.3.4\n",
      "\u001b[32mv\u001b[39m \u001b[34mtibble \u001b[39m 3.1.0     \u001b[32mv\u001b[39m \u001b[34mdplyr  \u001b[39m 1.0.6\n",
      "\u001b[32mv\u001b[39m \u001b[34mtidyr  \u001b[39m 1.1.3     \u001b[32mv\u001b[39m \u001b[34mstringr\u001b[39m 1.4.0\n",
      "\u001b[32mv\u001b[39m \u001b[34mreadr  \u001b[39m 1.4.0     \u001b[32mv\u001b[39m \u001b[34mforcats\u001b[39m 0.5.1\n",
      "Warning message:\n",
      "\"package 'ggplot2' was built under R version 3.6.3\"Warning message:\n",
      "\"package 'tibble' was built under R version 3.6.3\"Warning message:\n",
      "\"package 'tidyr' was built under R version 3.6.3\"Warning message:\n",
      "\"package 'readr' was built under R version 3.6.3\"Warning message:\n",
      "\"package 'purrr' was built under R version 3.6.3\"Warning message:\n",
      "\"package 'dplyr' was built under R version 3.6.3\"Warning message:\n",
      "\"package 'stringr' was built under R version 3.6.3\"Warning message:\n",
      "\"package 'forcats' was built under R version 3.6.3\"-- \u001b[1mConflicts\u001b[22m ---------------------------------------------------------------------------------- tidyverse_conflicts() --\n",
      "\u001b[31mx\u001b[39m \u001b[34mdplyr\u001b[39m::\u001b[32mfilter()\u001b[39m masks \u001b[34mstats\u001b[39m::filter()\n",
      "\u001b[31mx\u001b[39m \u001b[34mdplyr\u001b[39m::\u001b[32mlag()\u001b[39m    masks \u001b[34mstats\u001b[39m::lag()\n",
      "Warning message:\n",
      "\"package 'rlist' was built under R version 3.6.3\"Warning message:\n",
      "\"package 'data.table' was built under R version 3.6.3\"\n",
      "Attaching package: 'data.table'\n",
      "\n",
      "The following objects are masked from 'package:dplyr':\n",
      "\n",
      "    between, first, last\n",
      "\n",
      "The following object is masked from 'package:purrr':\n",
      "\n",
      "    transpose\n",
      "\n",
      "Warning message:\n",
      "\"package 'XML' was built under R version 3.6.3\""
     ]
    }
   ],
   "source": [
    "# We launch the libraries\n",
    "library(tidyverse)\n",
    "library(rlist)\n",
    "library(data.table)\n",
    "library(dplyr)\n",
    "library(XML)\n",
    "library(methods)"
   ]
  },
  {
   "cell_type": "code",
   "execution_count": 3,
   "metadata": {},
   "outputs": [],
   "source": [
    "### Later we will need to get the number of total disorders for our calculations\n",
    "\n",
    "# We open xml \"product1_en_cross_jdbor_evo\" that contains these datas\n",
    "product1=xmlParse(\"product1_en_cross_jdbor_evo.xml\")\n",
    "product1=xmlToList(product1)\n",
    "\n",
    "# We remove the last element of the list, which is the numeric count of all elements of the list\n",
    "product1=product1$DisorderList\n",
    "product1=product1[-length(product1)]\n",
    "\n",
    "### Our list for working\n",
    "indice_list=1\n",
    "product=list()\n",
    "for (i in 1:length(product1))\n",
    "{\n",
    "  product[[indice_list]]=product1[[i]]\n",
    "  indice_list=indice_list+1\n",
    "}\n",
    "# Each element in the list is a disorder"
   ]
  },
  {
   "cell_type": "code",
   "execution_count": 4,
   "metadata": {},
   "outputs": [],
   "source": [
    "# We only select the active clinical entities:\n",
    "# Head of classification (flag=128), Historical entities (flag=512) & On-line (flag=1)\n",
    "indice_list=1\n",
    "all_active_clinical_entities=list()\n",
    "for (i in 1:length(product))\n",
    "  if (product[[i]]$DisorderFlagList$DisorderFlag$Value=='1' |\n",
    "      product[[i]]$DisorderFlagList$DisorderFlag$Value=='128' |\n",
    "      product[[i]]$DisorderFlagList$DisorderFlag$Value=='512')\n",
    "  {\n",
    "    all_active_clinical_entities[[indice_list]]=product[[i]]\n",
    "    indice_list=indice_list+1\n",
    "  }"
   ]
  },
  {
   "cell_type": "code",
   "execution_count": 5,
   "metadata": {},
   "outputs": [],
   "source": [
    "### Number of disorders\n",
    "indice_list=1\n",
    "disorders=list()\n",
    "for (i in 1:length(all_active_clinical_entities))\n",
    "  if (all_active_clinical_entities[[i]]$DisorderGroup$Name$text=='Disorder')\n",
    "  {\n",
    "    disorders[[indice_list]]=all_active_clinical_entities[[i]]\n",
    "    indice_list=indice_list+1\n",
    "  }"
   ]
  },
  {
   "cell_type": "code",
   "execution_count": 6,
   "metadata": {},
   "outputs": [],
   "source": [
    "# We keep the OrphaCodes of the disorders\n",
    "orphacode_disorders=list()\n",
    "for (i in 1:length(disorders))\n",
    "{\n",
    "  orphacode_disorders[[i]]=data.frame(disorders[[i]]$OrphaCode)\n",
    "}\n",
    "orphacode_disorders=rbindlist(orphacode_disorders)\n",
    "names(orphacode_disorders)=c('OrphaCode')"
   ]
  },
  {
   "cell_type": "code",
   "execution_count": 7,
   "metadata": {},
   "outputs": [],
   "source": [
    "# We can now work on preferential parents\n",
    "# We select the xml with the datas we need\n",
    "xmlfiles = list.files(pattern='product7')\n",
    "product7=xmlToList(xmlfiles)\n",
    "\n",
    "# Our list for working\n",
    "product7=product7$DisorderList\n",
    "indice_list=1\n",
    "product7_list=list()\n",
    "for (i in 1:length(product7))\n",
    "{\n",
    "  product7_list[[indice_list]]=product7[[i]]\n",
    "  indice_list=indice_list+1\n",
    "}\n",
    "# Each element in the list is a disorder"
   ]
  },
  {
   "cell_type": "code",
   "execution_count": 8,
   "metadata": {},
   "outputs": [],
   "source": [
    "# We keep only the disorders which have a preferential parent\n",
    "indice_list=1\n",
    "disorders_with_preferential_parent=list()\n",
    "for (i in 1:(length(product7_list)-1))\n",
    "  if ('TargetDisorder' %in% names(product7_list[[i]]$DisorderDisorderAssociationList$DisorderDisorderAssociation))\n",
    "  {\n",
    "    disorders_with_preferential_parent[[indice_list]]=data.frame(product7_list[[i]]$OrphaCode, \n",
    "                                                                 product7_list[[i]]$DisorderDisorderAssociationList$DisorderDisorderAssociation$TargetDisorder$Name$text)\n",
    "    indice_list=indice_list+1\n",
    "  }\n",
    "disorders_with_preferential_parent=rbindlist(disorders_with_preferential_parent,use.names = TRUE)\n",
    "names(disorders_with_preferential_parent)=c('OrphaCode', 'Preferential parent')"
   ]
  },
  {
   "cell_type": "code",
   "execution_count": 9,
   "metadata": {},
   "outputs": [],
   "source": [
    "# We keep only those which are active disorders\n",
    "active_preferential_parent=merge(orphacode_disorders, disorders_with_preferential_parent,\n",
    "                                 by='OrphaCode', all.x = TRUE)"
   ]
  },
  {
   "cell_type": "code",
   "execution_count": 10,
   "metadata": {},
   "outputs": [
    {
     "data": {
      "text/html": [
       "<table>\n",
       "<thead><tr><th scope=col>Preferential parent</th><th scope=col>Distribution</th></tr></thead>\n",
       "<tbody>\n",
       "\t<tr><td>Rare bone disease                                                                       </td><td> 351                                                                                    </td></tr>\n",
       "\t<tr><td>Rare neurologic disease                                                                 </td><td>1028                                                                                    </td></tr>\n",
       "\t<tr><td>Rare inborn errors of metabolism                                                        </td><td> 384                                                                                    </td></tr>\n",
       "\t<tr><td>Rare developmental defect during embryogenesis                                          </td><td>2000                                                                                    </td></tr>\n",
       "\t<tr><td>Rare hematologic disease                                                                </td><td> 171                                                                                    </td></tr>\n",
       "\t<tr><td>Rare skin disease                                                                       </td><td> 383                                                                                    </td></tr>\n",
       "\t<tr><td>Rare odontologic disease                                                                </td><td>  15                                                                                    </td></tr>\n",
       "\t<tr><td>Rare cardiac disease                                                                    </td><td>  47                                                                                    </td></tr>\n",
       "\t<tr><td>Rare infectious disease                                                                 </td><td> 160                                                                                    </td></tr>\n",
       "\t<tr><td>Rare respiratory disease                                                                </td><td>  75                                                                                    </td></tr>\n",
       "\t<tr><td>Rare ophthalmic disorder                                                                </td><td> 231                                                                                    </td></tr>\n",
       "\t<tr><td>Rare neoplastic disease                                                                 </td><td> 467                                                                                    </td></tr>\n",
       "\t<tr><td>Rare renal disease                                                                      </td><td>  80                                                                                    </td></tr>\n",
       "\t<tr><td>Rare systemic or rheumatologic disease                                                  </td><td> 152                                                                                    </td></tr>\n",
       "\t<tr><td>Rare gastroenterologic disease                                                          </td><td>  76                                                                                    </td></tr>\n",
       "\t<tr><td>Rare immune disease                                                                     </td><td> 157                                                                                    </td></tr>\n",
       "\t<tr><td>Rare hepatic disease                                                                    </td><td>  59                                                                                    </td></tr>\n",
       "\t<tr><td>Rare otorhinolaryngologic disease                                                       </td><td>  43                                                                                    </td></tr>\n",
       "\t<tr><td>Rare endocrine disease                                                                  </td><td> 193                                                                                    </td></tr>\n",
       "\t<tr><td>Rare infertility                                                                        </td><td>   7                                                                                    </td></tr>\n",
       "\t<tr><td>Rare genetic disease                                                                    </td><td>   4                                                                                    </td></tr>\n",
       "\t<tr><td>Rare gynecologic or obstetric disease                                                   </td><td>  11                                                                                    </td></tr>\n",
       "\t<tr><td>Rare circulatory system disease                                                         </td><td>  19                                                                                    </td></tr>\n",
       "\t<tr><td>Rare abdominal surgical disease                                                         </td><td>   7                                                                                    </td></tr>\n",
       "\t<tr><td>Rare maxillo-facial surgical disease                                                    </td><td>   7                                                                                    </td></tr>\n",
       "\t<tr><td>Rare urogenital disease                                                                 </td><td>   7                                                                                    </td></tr>\n",
       "\t<tr><td>Rare disorder due to toxic effects                                                      </td><td>  25                                                                                    </td></tr>\n",
       "\t<tr><td>Rare surgical thoracic disease                                                          </td><td>   3                                                                                    </td></tr>\n",
       "\t<tr><td>Rare disorder potentially indicated for transplant or complication after transplantation</td><td>   2                                                                                    </td></tr>\n",
       "\t<tr><td>Rare surgical cardiac disease                                                           </td><td>   1                                                                                    </td></tr>\n",
       "</tbody>\n",
       "</table>\n"
      ],
      "text/latex": [
       "\\begin{tabular}{r|ll}\n",
       " Preferential parent & Distribution\\\\\n",
       "\\hline\n",
       "\t Rare bone disease                                                                        &  351                                                                                    \\\\\n",
       "\t Rare neurologic disease                                                                  & 1028                                                                                    \\\\\n",
       "\t Rare inborn errors of metabolism                                                         &  384                                                                                    \\\\\n",
       "\t Rare developmental defect during embryogenesis                                           & 2000                                                                                    \\\\\n",
       "\t Rare hematologic disease                                                                 &  171                                                                                    \\\\\n",
       "\t Rare skin disease                                                                        &  383                                                                                    \\\\\n",
       "\t Rare odontologic disease                                                                 &   15                                                                                    \\\\\n",
       "\t Rare cardiac disease                                                                     &   47                                                                                    \\\\\n",
       "\t Rare infectious disease                                                                  &  160                                                                                    \\\\\n",
       "\t Rare respiratory disease                                                                 &   75                                                                                    \\\\\n",
       "\t Rare ophthalmic disorder                                                                 &  231                                                                                    \\\\\n",
       "\t Rare neoplastic disease                                                                  &  467                                                                                    \\\\\n",
       "\t Rare renal disease                                                                       &   80                                                                                    \\\\\n",
       "\t Rare systemic or rheumatologic disease                                                   &  152                                                                                    \\\\\n",
       "\t Rare gastroenterologic disease                                                           &   76                                                                                    \\\\\n",
       "\t Rare immune disease                                                                      &  157                                                                                    \\\\\n",
       "\t Rare hepatic disease                                                                     &   59                                                                                    \\\\\n",
       "\t Rare otorhinolaryngologic disease                                                        &   43                                                                                    \\\\\n",
       "\t Rare endocrine disease                                                                   &  193                                                                                    \\\\\n",
       "\t Rare infertility                                                                         &    7                                                                                    \\\\\n",
       "\t Rare genetic disease                                                                     &    4                                                                                    \\\\\n",
       "\t Rare gynecologic or obstetric disease                                                    &   11                                                                                    \\\\\n",
       "\t Rare circulatory system disease                                                          &   19                                                                                    \\\\\n",
       "\t Rare abdominal surgical disease                                                          &    7                                                                                    \\\\\n",
       "\t Rare maxillo-facial surgical disease                                                     &    7                                                                                    \\\\\n",
       "\t Rare urogenital disease                                                                  &    7                                                                                    \\\\\n",
       "\t Rare disorder due to toxic effects                                                       &   25                                                                                    \\\\\n",
       "\t Rare surgical thoracic disease                                                           &    3                                                                                    \\\\\n",
       "\t Rare disorder potentially indicated for transplant or complication after transplantation &    2                                                                                    \\\\\n",
       "\t Rare surgical cardiac disease                                                            &    1                                                                                    \\\\\n",
       "\\end{tabular}\n"
      ],
      "text/markdown": [
       "\n",
       "| Preferential parent | Distribution |\n",
       "|---|---|\n",
       "| Rare bone disease                                                                        |  351                                                                                     |\n",
       "| Rare neurologic disease                                                                  | 1028                                                                                     |\n",
       "| Rare inborn errors of metabolism                                                         |  384                                                                                     |\n",
       "| Rare developmental defect during embryogenesis                                           | 2000                                                                                     |\n",
       "| Rare hematologic disease                                                                 |  171                                                                                     |\n",
       "| Rare skin disease                                                                        |  383                                                                                     |\n",
       "| Rare odontologic disease                                                                 |   15                                                                                     |\n",
       "| Rare cardiac disease                                                                     |   47                                                                                     |\n",
       "| Rare infectious disease                                                                  |  160                                                                                     |\n",
       "| Rare respiratory disease                                                                 |   75                                                                                     |\n",
       "| Rare ophthalmic disorder                                                                 |  231                                                                                     |\n",
       "| Rare neoplastic disease                                                                  |  467                                                                                     |\n",
       "| Rare renal disease                                                                       |   80                                                                                     |\n",
       "| Rare systemic or rheumatologic disease                                                   |  152                                                                                     |\n",
       "| Rare gastroenterologic disease                                                           |   76                                                                                     |\n",
       "| Rare immune disease                                                                      |  157                                                                                     |\n",
       "| Rare hepatic disease                                                                     |   59                                                                                     |\n",
       "| Rare otorhinolaryngologic disease                                                        |   43                                                                                     |\n",
       "| Rare endocrine disease                                                                   |  193                                                                                     |\n",
       "| Rare infertility                                                                         |    7                                                                                     |\n",
       "| Rare genetic disease                                                                     |    4                                                                                     |\n",
       "| Rare gynecologic or obstetric disease                                                    |   11                                                                                     |\n",
       "| Rare circulatory system disease                                                          |   19                                                                                     |\n",
       "| Rare abdominal surgical disease                                                          |    7                                                                                     |\n",
       "| Rare maxillo-facial surgical disease                                                     |    7                                                                                     |\n",
       "| Rare urogenital disease                                                                  |    7                                                                                     |\n",
       "| Rare disorder due to toxic effects                                                       |   25                                                                                     |\n",
       "| Rare surgical thoracic disease                                                           |    3                                                                                     |\n",
       "| Rare disorder potentially indicated for transplant or complication after transplantation |    2                                                                                     |\n",
       "| Rare surgical cardiac disease                                                            |    1                                                                                     |\n",
       "\n"
      ],
      "text/plain": [
       "   Preferential parent                                                                     \n",
       "1  Rare bone disease                                                                       \n",
       "2  Rare neurologic disease                                                                 \n",
       "3  Rare inborn errors of metabolism                                                        \n",
       "4  Rare developmental defect during embryogenesis                                          \n",
       "5  Rare hematologic disease                                                                \n",
       "6  Rare skin disease                                                                       \n",
       "7  Rare odontologic disease                                                                \n",
       "8  Rare cardiac disease                                                                    \n",
       "9  Rare infectious disease                                                                 \n",
       "10 Rare respiratory disease                                                                \n",
       "11 Rare ophthalmic disorder                                                                \n",
       "12 Rare neoplastic disease                                                                 \n",
       "13 Rare renal disease                                                                      \n",
       "14 Rare systemic or rheumatologic disease                                                  \n",
       "15 Rare gastroenterologic disease                                                          \n",
       "16 Rare immune disease                                                                     \n",
       "17 Rare hepatic disease                                                                    \n",
       "18 Rare otorhinolaryngologic disease                                                       \n",
       "19 Rare endocrine disease                                                                  \n",
       "20 Rare infertility                                                                        \n",
       "21 Rare genetic disease                                                                    \n",
       "22 Rare gynecologic or obstetric disease                                                   \n",
       "23 Rare circulatory system disease                                                         \n",
       "24 Rare abdominal surgical disease                                                         \n",
       "25 Rare maxillo-facial surgical disease                                                    \n",
       "26 Rare urogenital disease                                                                 \n",
       "27 Rare disorder due to toxic effects                                                      \n",
       "28 Rare surgical thoracic disease                                                          \n",
       "29 Rare disorder potentially indicated for transplant or complication after transplantation\n",
       "30 Rare surgical cardiac disease                                                           \n",
       "   Distribution\n",
       "1   351        \n",
       "2  1028        \n",
       "3   384        \n",
       "4  2000        \n",
       "5   171        \n",
       "6   383        \n",
       "7    15        \n",
       "8    47        \n",
       "9   160        \n",
       "10   75        \n",
       "11  231        \n",
       "12  467        \n",
       "13   80        \n",
       "14  152        \n",
       "15   76        \n",
       "16  157        \n",
       "17   59        \n",
       "18   43        \n",
       "19  193        \n",
       "20    7        \n",
       "21    4        \n",
       "22   11        \n",
       "23   19        \n",
       "24    7        \n",
       "25    7        \n",
       "26    7        \n",
       "27   25        \n",
       "28    3        \n",
       "29    2        \n",
       "30    1        "
      ]
     },
     "metadata": {},
     "output_type": "display_data"
    }
   ],
   "source": [
    "### Distribution of preferential parents\n",
    "distribution_disorders_by_preferential_parent=as.data.frame(table(active_preferential_parent$`Preferential parent`))\n",
    "names(distribution_disorders_by_preferential_parent)=c('Preferential parent','Distribution')\n",
    "distribution_disorders_by_preferential_parent"
   ]
  }
 ],
 "metadata": {
  "kernelspec": {
   "display_name": "R",
   "language": "R",
   "name": "ir"
  },
  "language_info": {
   "codemirror_mode": "r",
   "file_extension": ".r",
   "mimetype": "text/x-r-source",
   "name": "R",
   "pygments_lexer": "r",
   "version": "3.6.1"
  }
 },
 "nbformat": 4,
 "nbformat_minor": 4
}
