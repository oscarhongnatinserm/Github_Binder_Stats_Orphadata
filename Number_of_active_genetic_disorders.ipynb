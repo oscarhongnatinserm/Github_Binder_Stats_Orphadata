{
 "cells": [
  {
   "cell_type": "code",
   "execution_count": null,
   "metadata": {},
   "outputs": [],
   "source": [
    "### NUMBER OF ACTIVE GENETIC DISORDERS\n",
    "\n",
    "\n",
    "# We launch the config file with the installation of the R libraries\n",
    "source(\"config.R\")\n",
    "\n",
    "# INPUTS : \"product1_en_cross_jdbor_evo\"; \"product3_156_en_jdbor_evo.xml\".\n",
    "\n",
    "\n",
    "# OUTPUTS : \"number_of_active_genetic_disorders\"; \"number_of_non_active_genetic_disorders\";\n",
    "# percentage_of_active_genetic_disorders\"; \"percentage_of_non_active_genetic_disorders\"."
   ]
  },
  {
   "cell_type": "code",
   "execution_count": null,
   "metadata": {},
   "outputs": [],
   "source": [
    "# We launch the libraries\n",
    "library(tidyverse)\n",
    "library(rlist)\n",
    "library(data.table)\n",
    "library(dplyr)\n",
    "library(XML)\n",
    "library(methods)"
   ]
  },
  {
   "cell_type": "code",
   "execution_count": null,
   "metadata": {},
   "outputs": [],
   "source": [
    "### Later we will need to get the number of total disorders for the calculations\n",
    "\n",
    "# We open xml \"product1_en_cross_jdbor_evo\" that contains these datas\n",
    "product1=xmlParse(\"product1_en_cross_jdbor_evo.xml\")\n",
    "product1=xmlToList(product1)\n",
    "\n",
    "# We remove the last element of the list, which is the numeric count of all elements of the list\n",
    "product1=product1$DisorderList\n",
    "product1=product1[-length(product1)]\n",
    "\n",
    "### Our list for working\n",
    "indice_list=1\n",
    "product=list()\n",
    "for (i in 1:length(product1))\n",
    "{\n",
    "  product[[indice_list]]=product1[[i]]\n",
    "  indice_list=indice_list+1\n",
    "}\n",
    "# Each element in the list is a disorder"
   ]
  },
  {
   "cell_type": "code",
   "execution_count": null,
   "metadata": {},
   "outputs": [],
   "source": [
    "# We only select the active clinical entities:\n",
    "# Head of classification (flag=128), Historical entities (flag=512) & On-line (flag=1)\n",
    "indice_list=1\n",
    "all_active_clinical_entities=list()\n",
    "for (i in 1:length(product))\n",
    "  if (product[[i]]$DisorderFlagList$DisorderFlag$Value=='1' |\n",
    "      product[[i]]$DisorderFlagList$DisorderFlag$Value=='128' |\n",
    "      product[[i]]$DisorderFlagList$DisorderFlag$Value=='512')\n",
    "  {\n",
    "    all_active_clinical_entities[[indice_list]]=product[[i]]\n",
    "    indice_list=indice_list+1\n",
    "  }"
   ]
  },
  {
   "cell_type": "code",
   "execution_count": null,
   "metadata": {},
   "outputs": [],
   "source": [
    "### Number of disorders\n",
    "indice_list=1\n",
    "disorders=list()\n",
    "for (i in 1:length(all_active_clinical_entities))\n",
    "  if (all_active_clinical_entities[[i]]$DisorderGroup$Name$text=='Disorder')\n",
    "  {\n",
    "    disorders[[indice_list]]=all_active_clinical_entities[[i]]\n",
    "    indice_list=indice_list+1\n",
    "  }\n",
    "number_disorders=length(disorders)\n",
    "number_disorders"
   ]
  },
  {
   "cell_type": "code",
   "execution_count": null,
   "metadata": {},
   "outputs": [],
   "source": [
    "# We can now work on the genetic datas\n",
    "\n",
    "# We open the xml \"product3_156_en_jdbor_evo.xml\" that contains the genetic disorders\n",
    "xmlfiles = list.files(pattern='product3_156')\n",
    "xmldoc=xmlParse(file=xmlfiles)\n",
    "\n",
    "# We convert all the nodes \"Disorder\" in a data frame\n",
    "xml_156=xmlToDataFrame(nodes = getNodeSet(xmldoc, \"//Disorder\"))\n",
    "xml_156=as.data.frame(xml_156)\n",
    "\n",
    "# We delete the duplicatas\n",
    "xml_156=xml_156[!duplicated(xml_156),]"
   ]
  },
  {
   "cell_type": "code",
   "execution_count": null,
   "metadata": {},
   "outputs": [],
   "source": [
    "# We only keep the disorders\n",
    "xml_156=filter(xml_156, DisorderType=='Malformation syndrome' | DisorderType=='Disease' |\n",
    "DisorderType=='Morphological anomaly'| DisorderType=='Clinical syndrome' |\n",
    "DisorderType=='Particular clinical situation in a disease or syndrome' | DisorderType=='Biological anomaly')"
   ]
  },
  {
   "cell_type": "code",
   "execution_count": null,
   "metadata": {},
   "outputs": [],
   "source": [
    "# Then we finaly get the number of genetic disorders\n",
    "number_of_active_genetic_disorders=nrow(xml_156)\n",
    "number_of_active_genetic_disorders"
   ]
  },
  {
   "cell_type": "code",
   "execution_count": null,
   "metadata": {},
   "outputs": [],
   "source": [
    "# And the number of non genetic disorders\n",
    "number_of_non_active_genetic_disorders=number_disorders - number_of_active_genetic_disorders\n",
    "number_of_non_active_genetic_disorders"
   ]
  },
  {
   "cell_type": "code",
   "execution_count": null,
   "metadata": {},
   "outputs": [],
   "source": [
    "# Percentage of genetic disorders\n",
    "percentage_of_active_genetic_disorders=number_of_active_genetic_disorders/number_disorders*100\n",
    "percentage_of_active_genetic_disorders"
   ]
  },
  {
   "cell_type": "code",
   "execution_count": null,
   "metadata": {},
   "outputs": [],
   "source": [
    "# Percentage of non genetic disorders\n",
    "percentage_of_non_active_genetic_disorders=number_of_non_active_genetic_disorders/number_disorders*100\n",
    "percentage_of_non_active_genetic_disorders"
   ]
  }
 ],
 "metadata": {
  "kernelspec": {
   "display_name": "R",
   "language": "R",
   "name": "ir"
  },
  "language_info": {
   "codemirror_mode": "r",
   "file_extension": ".r",
   "mimetype": "text/x-r-source",
   "name": "R",
   "pygments_lexer": "r",
   "version": "3.6.1"
  }
 },
 "nbformat": 4,
 "nbformat_minor": 4
}
