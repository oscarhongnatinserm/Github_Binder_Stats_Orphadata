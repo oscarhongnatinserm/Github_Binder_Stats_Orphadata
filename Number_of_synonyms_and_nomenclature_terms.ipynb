{
 "cells": [
  {
   "cell_type": "code",
   "execution_count": 1,
   "metadata": {},
   "outputs": [],
   "source": [
    "### NUMBER OF SYNONYMS AND NOMENCLATURE TERMS\n",
    "\n",
    "\n",
    "# We launch the config file with the installation of the R libraries\n",
    "source(\"config.R\")\n",
    "\n",
    "\n",
    "# INPUTS : \"product1_en_cross_jdbor_evo.xml\"; \"product1_fr_cross_jdbor_evo.xml\"; \"product1_de_cross_jdbor_evo.xml\"; \n",
    "# \"product1_nl_cross_jdbor_evo.xml\"; \"product1_it_cross_jdbor_evo.xml\"; \"product1_pt_cross_jdbor_evo.xml\"; \n",
    "# \"product1_es_cross_jdbor_evo.xml\"; \"product1_pl_cross_jdbor_evo.xml\"; \"product1_cz_cross_jdbor_evo.xml\". \n",
    "\n",
    "\n",
    "# OUTPUTS : \"total_number_synonyms\"; \"stats_total_synonyms\"; \n",
    "# \"number_synonyms_group\"; \"percentage_synonyms_group\";\"stats_synonyms_group\";\n",
    "# \"number_synonyms_disorder\"; \"percentage_synonyms_disorder\";\"stats_synonyms_disorder\";\n",
    "# \"number_synonyms_subtype\"; \"percentage_synonyms_subtype\";\"stats_synonyms_subtype\";\n",
    "# \"number_preferred_terms_group\"; \"number_nomenclature_terms_group\";\n",
    "# \"number_preferred_terms_disorder\"; \"number_nomenclature_terms_disorder\";\n",
    "# \"number_preferred_terms_subtype\"; \"number_nomenclature_terms_subtype\"; \n",
    "# \"total_number_nomenclature_terms;\"\n",
    "\n",
    "# \"total_number_synonyms_french\"; \"stats_total_synonyms_french\"; \n",
    "# \"number_synonyms_group_french\"; \"percentage_synonyms_group_french\";\"stats_synonyms_group_french\";\n",
    "# \"number_synonyms_disorder_french\"; \"percentage_synonyms_disorder_french\";\"stats_synonyms_disorder_french\";\n",
    "# \"number_synonyms_subtype_french\"; \"percentage_synonyms_subtype_french\";\"stats_synonyms_subtype_french\";\n",
    "# \"number_preferred_terms_group_french\"; \"number_nomenclature_terms_group_french\";\n",
    "# \"number_preferred_terms_disorder_french\"; \"number_nomenclature_terms_disorder_french\";\n",
    "# \"number_preferred_terms_subtype_french\"; \"number_nomenclature_terms_subtype_french\"; \n",
    "# \"total_number_nomenclature_terms_french;\"\n",
    "\n",
    "# \"total_number_synonyms_german\"; \"stats_total_synonyms_german\"; \n",
    "# \"number_synonyms_group_german\"; \"percentage_synonyms_group_german\";\"stats_synonyms_group_german\";\n",
    "# \"number_synonyms_disorder_german\"; \"percentage_synonyms_disorder_german\";\"stats_synonyms_disorder_german\";\n",
    "# \"number_synonyms_subtype_german\"; \"percentage_synonyms_subtype_german\";\"stats_synonyms_subtype_german\";\n",
    "# \"number_preferred_terms_group_german\"; \"number_nomenclature_terms_group_german\";\n",
    "# \"number_preferred_terms_disorder_german\"; \"number_nomenclature_terms_disorder_german\";\n",
    "# \"number_preferred_terms_subtype_german\"; \"number_nomenclature_terms_subtype_german\"; \n",
    "# \"total_number_nomenclature_terms_german;\"\n",
    "\n",
    "# \"total_number_synonyms_dutch\"; \"stats_total_synonyms_dutch\"; \n",
    "# \"number_synonyms_group_dutch\"; \"percentage_synonyms_group_dutch\";\"stats_synonyms_group_dutch\";\n",
    "# \"number_synonyms_disorder_dutch\"; \"percentage_synonyms_disorder_dutch\";\"stats_synonyms_disorder_dutch\";\n",
    "# \"number_synonyms_subtype_dutch\"; \"percentage_synonyms_subtype_dutch\";\"stats_synonyms_subtype_dutch\";\n",
    "# \"number_preferred_terms_group_dutch\"; \"number_nomenclature_terms_group_dutch\";\n",
    "# \"number_preferred_terms_disorder_dutch\"; \"number_nomenclature_terms_disorder_dutch\";\n",
    "# \"number_preferred_terms_subtype_dutch\"; \"number_nomenclature_terms_subtype_dutch\"; \n",
    "# \"total_number_nomenclature_terms_dutch;\"\n",
    "\n",
    "# \"total_number_synonyms_spanish\"; \"stats_total_synonyms_spanish\"; \n",
    "# \"number_synonyms_group_spanish\"; \"percentage_synonyms_group_spanish\";\"stats_synonyms_group_spanish\";\n",
    "# \"number_synonyms_disorder_spanish\"; \"percentage_synonyms_disorder_spanish\";\"stats_synonyms_disorder_spanish\";\n",
    "# \"number_synonyms_subtype_spanish\"; \"percentage_synonyms_subtype_spanish\";\"stats_synonyms_subtype_spanish\";\n",
    "# \"number_preferred_terms_group_spanish\"; \"number_nomenclature_terms_group_spanish\";\n",
    "# \"number_preferred_terms_disorder_spanish\"; \"number_nomenclature_terms_disorder_spanish\";\n",
    "# \"number_preferred_terms_subtype_spanish\"; \"number_nomenclature_terms_subtype_spanish\"; \n",
    "# \"total_number_nomenclature_terms_spanish;\"\n",
    "\n",
    "# \"total_number_synonyms_italian\"; \"stats_total_synonyms_italian\"; \n",
    "# \"number_synonyms_group_italian\"; \"percentage_synonyms_group_italian\";\"stats_synonyms_group_italian\";\n",
    "# \"number_synonyms_disorder_italian\"; \"percentage_synonyms_disorder_italian\";\"stats_synonyms_disorder_italian\";\n",
    "# \"number_synonyms_subtype_italian\"; \"percentage_synonyms_subtype_italian\";\"stats_synonyms_subtype_italian\";\n",
    "# \"number_preferred_terms_group_italian\"; \"number_nomenclature_terms_group_italian\";\n",
    "# \"number_preferred_terms_disorder_italian\"; \"number_nomenclature_terms_disorder_italian\";\n",
    "# \"number_preferred_terms_subtype_italian\"; \"number_nomenclature_terms_subtype_italian\"; \n",
    "# \"total_number_nomenclature_terms_italian;\"\n",
    "\n",
    "# \"total_number_synonyms_portuguese\"; \"stats_total_synonyms_portuguese\"; \n",
    "# \"number_synonyms_group_portuguese\"; \"percentage_synonyms_group_portuguese\";\"stats_synonyms_group_portuguese\";\n",
    "# \"number_synonyms_disorder_portuguese\"; \"percentage_synonyms_disorder_portuguese\";\"stats_synonyms_disorder_portuguese\";\n",
    "# \"number_synonyms_subtype_portuguese\"; \"percentage_synonyms_subtype_portuguese\";\"stats_synonyms_subtype_portuguese\";\n",
    "# \"number_preferred_terms_group_portuguese\"; \"number_nomenclature_terms_group_portuguese\";\n",
    "# \"number_preferred_terms_disorder_portuguese\"; \"number_nomenclature_terms_disorder_portuguese\";\n",
    "# \"number_preferred_terms_subtype_portuguese\"; \"number_nomenclature_terms_subtype_portuguese\"; \n",
    "# \"total_number_nomenclature_terms_portuguese;\"\n",
    "\n",
    "# \"total_number_synonyms_polish\"; \"stats_total_synonyms_polish\"; \n",
    "# \"number_synonyms_group_polish\"; \"percentage_synonyms_group_polish\";\"stats_synonyms_group_polish\";\n",
    "# \"number_synonyms_disorder_polish\"; \"percentage_synonyms_disorder_polish\";\"stats_synonyms_disorder_polish\";\n",
    "# \"number_synonyms_subtype_polish\"; \"percentage_synonyms_subtype_polish\";\"stats_synonyms_subtype_polish\";\n",
    "# \"number_preferred_terms_group_polish\"; \"number_nomenclature_terms_group_polish\";\n",
    "# \"number_preferred_terms_disorder_polish\"; \"number_nomenclature_terms_disorder_polish\";\n",
    "# \"number_preferred_terms_subtype_polish\"; \"number_nomenclature_terms_subtype_polish\"; \n",
    "# \"total_number_nomenclature_terms_polish;\"\n",
    "\n",
    "# \"total_number_synonyms_czech\"; \"stats_total_synonyms_czech\"; \n",
    "# \"number_synonyms_group_czech\"; \"percentage_synonyms_group_czech\";\"stats_synonyms_group_czech\";\n",
    "# \"number_synonyms_disorder_czech\"; \"percentage_synonyms_disorder_czech\";\"stats_synonyms_disorder_czech\";\n",
    "# \"number_synonyms_subtype_czech\"; \"percentage_synonyms_subtype_czech\";\"stats_synonyms_subtype_czech\";\n",
    "# \"number_preferred_terms_group_czech\"; \"number_nomenclature_terms_group_czech\";\n",
    "# \"number_preferred_terms_disorder_czech\"; \"number_nomenclature_terms_disorder_czech\";\n",
    "# \"number_preferred_terms_subtype_czech\"; \"number_nomenclature_terms_subtype_czech\"; \n",
    "# \"total_number_nomenclature_terms_czech;\""
   ]
  },
  {
   "cell_type": "code",
   "execution_count": 2,
   "metadata": {},
   "outputs": [
    {
     "name": "stdout",
     "output_type": "stream",
     "text": [
      "package 'tidyverse' successfully unpacked and MD5 sums checked\n",
      "\n",
      "The downloaded binary packages are in\n",
      "\tC:\\Users\\ohongnat\\AppData\\Local\\Temp\\RtmpmI0sXp\\downloaded_packages\n"
     ]
    },
    {
     "name": "stderr",
     "output_type": "stream",
     "text": [
      "Installing package into 'C:/Users/ohongnat/Documents/R/win-library/3.6'\n",
      "(as 'lib' is unspecified)\n"
     ]
    },
    {
     "name": "stdout",
     "output_type": "stream",
     "text": [
      "package 'rlist' successfully unpacked and MD5 sums checked\n",
      "\n",
      "The downloaded binary packages are in\n",
      "\tC:\\Users\\ohongnat\\AppData\\Local\\Temp\\RtmpmI0sXp\\downloaded_packages\n"
     ]
    },
    {
     "name": "stderr",
     "output_type": "stream",
     "text": [
      "Installing package into 'C:/Users/ohongnat/Documents/R/win-library/3.6'\n",
      "(as 'lib' is unspecified)\n"
     ]
    },
    {
     "name": "stdout",
     "output_type": "stream",
     "text": [
      "package 'data.table' successfully unpacked and MD5 sums checked\n",
      "\n",
      "The downloaded binary packages are in\n",
      "\tC:\\Users\\ohongnat\\AppData\\Local\\Temp\\RtmpmI0sXp\\downloaded_packages\n"
     ]
    },
    {
     "name": "stderr",
     "output_type": "stream",
     "text": [
      "Installing package into 'C:/Users/ohongnat/Documents/R/win-library/3.6'\n",
      "(as 'lib' is unspecified)\n"
     ]
    },
    {
     "name": "stdout",
     "output_type": "stream",
     "text": [
      "\n",
      "  There is a binary version available but the source version is later:\n",
      "      binary source needs_compilation\n",
      "dplyr  1.0.6  1.0.7              TRUE\n",
      "\n",
      "  Binaries will be installed\n",
      "package 'dplyr' successfully unpacked and MD5 sums checked\n",
      "\n",
      "The downloaded binary packages are in\n",
      "\tC:\\Users\\ohongnat\\AppData\\Local\\Temp\\RtmpmI0sXp\\downloaded_packages\n"
     ]
    },
    {
     "name": "stderr",
     "output_type": "stream",
     "text": [
      "Installing package into 'C:/Users/ohongnat/Documents/R/win-library/3.6'\n",
      "(as 'lib' is unspecified)\n"
     ]
    },
    {
     "name": "stdout",
     "output_type": "stream",
     "text": [
      "package 'XML' successfully unpacked and MD5 sums checked\n",
      "\n",
      "The downloaded binary packages are in\n",
      "\tC:\\Users\\ohongnat\\AppData\\Local\\Temp\\RtmpmI0sXp\\downloaded_packages\n"
     ]
    },
    {
     "name": "stderr",
     "output_type": "stream",
     "text": [
      "Installing package into 'C:/Users/ohongnat/Documents/R/win-library/3.6'\n",
      "(as 'lib' is unspecified)\n",
      "Warning message:\n",
      "\"package 'methods' is not available (for R version 3.6.1)\"Warning message:\n",
      "\"package 'methods' is a base package, and should not be updated\"Warning message:\n",
      "\"package 'tidyverse' was built under R version 3.6.3\"-- \u001b[1mAttaching packages\u001b[22m ------------------------------------------------------------------------------- tidyverse 1.3.1 --\n",
      "\u001b[32mv\u001b[39m \u001b[34mggplot2\u001b[39m 3.3.3     \u001b[32mv\u001b[39m \u001b[34mpurrr  \u001b[39m 0.3.4\n",
      "\u001b[32mv\u001b[39m \u001b[34mtibble \u001b[39m 3.1.0     \u001b[32mv\u001b[39m \u001b[34mdplyr  \u001b[39m 1.0.6\n",
      "\u001b[32mv\u001b[39m \u001b[34mtidyr  \u001b[39m 1.1.3     \u001b[32mv\u001b[39m \u001b[34mstringr\u001b[39m 1.4.0\n",
      "\u001b[32mv\u001b[39m \u001b[34mreadr  \u001b[39m 1.4.0     \u001b[32mv\u001b[39m \u001b[34mforcats\u001b[39m 0.5.1\n",
      "Warning message:\n",
      "\"package 'ggplot2' was built under R version 3.6.3\"Warning message:\n",
      "\"package 'tibble' was built under R version 3.6.3\"Warning message:\n",
      "\"package 'tidyr' was built under R version 3.6.3\"Warning message:\n",
      "\"package 'readr' was built under R version 3.6.3\"Warning message:\n",
      "\"package 'purrr' was built under R version 3.6.3\"Warning message:\n",
      "\"package 'dplyr' was built under R version 3.6.3\"Warning message:\n",
      "\"package 'stringr' was built under R version 3.6.3\"Warning message:\n",
      "\"package 'forcats' was built under R version 3.6.3\"-- \u001b[1mConflicts\u001b[22m ---------------------------------------------------------------------------------- tidyverse_conflicts() --\n",
      "\u001b[31mx\u001b[39m \u001b[34mdplyr\u001b[39m::\u001b[32mfilter()\u001b[39m masks \u001b[34mstats\u001b[39m::filter()\n",
      "\u001b[31mx\u001b[39m \u001b[34mdplyr\u001b[39m::\u001b[32mlag()\u001b[39m    masks \u001b[34mstats\u001b[39m::lag()\n",
      "Warning message:\n",
      "\"package 'rlist' was built under R version 3.6.3\"Warning message:\n",
      "\"package 'data.table' was built under R version 3.6.3\"\n",
      "Attaching package: 'data.table'\n",
      "\n",
      "The following objects are masked from 'package:dplyr':\n",
      "\n",
      "    between, first, last\n",
      "\n",
      "The following object is masked from 'package:purrr':\n",
      "\n",
      "    transpose\n",
      "\n",
      "Warning message:\n",
      "\"package 'XML' was built under R version 3.6.3\""
     ]
    }
   ],
   "source": [
    "# We launch the libraries\n",
    "library(tidyverse)\n",
    "library(rlist)\n",
    "library(data.table)\n",
    "library(dplyr)\n",
    "library(XML)\n",
    "library(methods)"
   ]
  },
  {
   "cell_type": "code",
   "execution_count": 3,
   "metadata": {},
   "outputs": [],
   "source": [
    "# We work on the file with datas in English\n",
    "\n",
    "# We open xml \"product1_en_cross_jdbor_evo\"\n",
    "product1=xmlParse(\"product1_en_cross_jdbor_evo.xml\")\n",
    "product1=xmlToList(product1)\n",
    "\n",
    "# We remove the last element of the list, which is the numeric count of all elements of the list\n",
    "product1=product1$DisorderList\n",
    "product1=product1[-length(product1)]\n",
    "\n",
    "### Our list for working\n",
    "indice_list=1\n",
    "product=list()\n",
    "for (i in 1:length(product1))\n",
    "{\n",
    "  product[[indice_list]]=product1[[i]]\n",
    "  indice_list=indice_list+1\n",
    "}\n",
    "# Each element in the list is a disorder"
   ]
  },
  {
   "cell_type": "code",
   "execution_count": 4,
   "metadata": {},
   "outputs": [],
   "source": [
    "# We previously need to select the active clinical entities:\n",
    "# Head of classification (flag=128), Historical entities (flag=512) & On-line (flag=1)\n",
    "indice_list=1\n",
    "all_active_clinical_entities=list()\n",
    "for (i in 1:length(product))\n",
    "  if (product[[i]]$DisorderFlagList$DisorderFlag$Value=='1' |\n",
    "      product[[i]]$DisorderFlagList$DisorderFlag$Value=='128' |\n",
    "      product[[i]]$DisorderFlagList$DisorderFlag$Value=='512')\n",
    "  {\n",
    "    all_active_clinical_entities[[indice_list]]=product[[i]]\n",
    "    indice_list=indice_list+1\n",
    "  }"
   ]
  },
  {
   "cell_type": "code",
   "execution_count": 5,
   "metadata": {},
   "outputs": [],
   "source": [
    "### We look for all the active clinical entities which have synonyms\n",
    "indice_list=1\n",
    "synonyms_total=list()\n",
    "for (i in 1:length(all_active_clinical_entities))\n",
    "{\n",
    "  synonyms_total[[indice_list]]=data.frame(as.numeric(all_active_clinical_entities[[i]]$SynonymList$.attrs))\n",
    "  indice_list=indice_list+1\n",
    "}\n",
    "synonyms_total=rbindlist(synonyms_total,use.names = TRUE)\n",
    "colnames(synonyms_total)=c('Number of synonyms')"
   ]
  },
  {
   "cell_type": "code",
   "execution_count": 6,
   "metadata": {},
   "outputs": [
    {
     "data": {
      "text/html": [
       "12529"
      ],
      "text/latex": [
       "12529"
      ],
      "text/markdown": [
       "12529"
      ],
      "text/plain": [
       "[1] 12529"
      ]
     },
     "metadata": {},
     "output_type": "display_data"
    }
   ],
   "source": [
    "# Total number of synonyms in English\n",
    "total_number_synonyms=sum(synonyms_total)\n",
    "total_number_synonyms"
   ]
  },
  {
   "cell_type": "code",
   "execution_count": 7,
   "metadata": {},
   "outputs": [
    {
     "data": {
      "text/plain": [
       " Number of synonyms\n",
       " Min.   : 0.000    \n",
       " 1st Qu.: 0.000    \n",
       " Median : 1.000    \n",
       " Mean   : 1.341    \n",
       " 3rd Qu.: 2.000    \n",
       " Max.   :17.000    "
      ]
     },
     "metadata": {},
     "output_type": "display_data"
    }
   ],
   "source": [
    "# Statistics about all synonyms in English\n",
    "stats_total_synonyms=summary(synonyms_total)\n",
    "stats_total_synonyms"
   ]
  },
  {
   "cell_type": "code",
   "execution_count": 8,
   "metadata": {},
   "outputs": [],
   "source": [
    "### We look for the groups of disorder which have synonyms\n",
    "indice_list=1\n",
    "synonyms_group=list()\n",
    "for (i in 1:length(all_active_clinical_entities))\n",
    "  if (all_active_clinical_entities[[i]]$DisorderGroup$Name$text=='Group of disorders')\n",
    "  {\n",
    "    synonyms_group[[indice_list]]=data.frame(as.numeric(all_active_clinical_entities[[i]]$SynonymList$.attrs))\n",
    "    indice_list=indice_list+1\n",
    "  }\n",
    "synonyms_group=rbindlist(synonyms_group,use.names = TRUE)\n",
    "colnames(synonyms_group)=c('Number of synonyms')"
   ]
  },
  {
   "cell_type": "code",
   "execution_count": 9,
   "metadata": {},
   "outputs": [
    {
     "data": {
      "text/html": [
       "1224"
      ],
      "text/latex": [
       "1224"
      ],
      "text/markdown": [
       "1224"
      ],
      "text/plain": [
       "[1] 1224"
      ]
     },
     "metadata": {},
     "output_type": "display_data"
    }
   ],
   "source": [
    "# Number of synonyms for groups of disorders in English\n",
    "number_synonyms_group=sum(synonyms_group)\n",
    "number_synonyms_group"
   ]
  },
  {
   "cell_type": "code",
   "execution_count": 10,
   "metadata": {},
   "outputs": [
    {
     "data": {
      "text/html": [
       "9.76933514246947"
      ],
      "text/latex": [
       "9.76933514246947"
      ],
      "text/markdown": [
       "9.76933514246947"
      ],
      "text/plain": [
       "[1] 9.769335"
      ]
     },
     "metadata": {},
     "output_type": "display_data"
    }
   ],
   "source": [
    "# Percentage of synonyms for groups of disorders in English\n",
    "percentage_synonyms_group=number_synonyms_group/total_number_synonyms*100\n",
    "percentage_synonyms_group"
   ]
  },
  {
   "cell_type": "code",
   "execution_count": 11,
   "metadata": {},
   "outputs": [
    {
     "data": {
      "text/plain": [
       " Number of synonyms\n",
       " Min.   : 0.0000   \n",
       " 1st Qu.: 0.0000   \n",
       " Median : 0.0000   \n",
       " Mean   : 0.5625   \n",
       " 3rd Qu.: 1.0000   \n",
       " Max.   :10.0000   "
      ]
     },
     "metadata": {},
     "output_type": "display_data"
    }
   ],
   "source": [
    "# Statistics about groups of disorder's synonyms in English\n",
    "stats_synonyms_group=summary(synonyms_group)\n",
    "stats_synonyms_group"
   ]
  },
  {
   "cell_type": "code",
   "execution_count": 12,
   "metadata": {},
   "outputs": [],
   "source": [
    "### We look for the disorders which have synonyms\n",
    "indice_list=1\n",
    "synonyms_disorder=list()\n",
    "for (i in 1:length(all_active_clinical_entities))\n",
    "  if (all_active_clinical_entities[[i]]$DisorderGroup$Name$text=='Disorder')\n",
    "  {\n",
    "    synonyms_disorder[[indice_list]]=data.frame(as.numeric(all_active_clinical_entities[[i]]$SynonymList$.attrs))\n",
    "    indice_list=indice_list+1\n",
    "  }\n",
    "synonyms_disorder=rbindlist(synonyms_disorder,use.names = TRUE)\n",
    "colnames(synonyms_disorder)=c('Number of synonyms')"
   ]
  },
  {
   "cell_type": "code",
   "execution_count": 13,
   "metadata": {},
   "outputs": [
    {
     "data": {
      "text/html": [
       "9642"
      ],
      "text/latex": [
       "9642"
      ],
      "text/markdown": [
       "9642"
      ],
      "text/plain": [
       "[1] 9642"
      ]
     },
     "metadata": {},
     "output_type": "display_data"
    }
   ],
   "source": [
    "# Number of synonyms for disorders in English\n",
    "number_synonyms_disorder=sum(synonyms_disorder)\n",
    "number_synonyms_disorder"
   ]
  },
  {
   "cell_type": "code",
   "execution_count": 14,
   "metadata": {},
   "outputs": [
    {
     "data": {
      "text/html": [
       "76.9574586958257"
      ],
      "text/latex": [
       "76.9574586958257"
      ],
      "text/markdown": [
       "76.9574586958257"
      ],
      "text/plain": [
       "[1] 76.95746"
      ]
     },
     "metadata": {},
     "output_type": "display_data"
    }
   ],
   "source": [
    "### Percentage of synonyms for disorders in English\n",
    "percentage_synonyms_disorder=number_synonyms_disorder/total_number_synonyms*100\n",
    "percentage_synonyms_disorder"
   ]
  },
  {
   "cell_type": "code",
   "execution_count": 15,
   "metadata": {},
   "outputs": [
    {
     "data": {
      "text/plain": [
       " Number of synonyms\n",
       " Min.   : 0.000    \n",
       " 1st Qu.: 0.000    \n",
       " Median : 1.000    \n",
       " Mean   : 1.563    \n",
       " 3rd Qu.: 2.000    \n",
       " Max.   :15.000    "
      ]
     },
     "metadata": {},
     "output_type": "display_data"
    }
   ],
   "source": [
    "# Statistics about disorder' synonyms in English\n",
    "stats_synonyms_disorder=summary(synonyms_disorder)\n",
    "stats_synonyms_disorder"
   ]
  },
  {
   "cell_type": "code",
   "execution_count": 16,
   "metadata": {},
   "outputs": [],
   "source": [
    "### We look for the subtypes of disorder which have synonyms\n",
    "indice_list=1\n",
    "synonyms_subtype=list()\n",
    "for (i in 1:length(all_active_clinical_entities))\n",
    "  if (all_active_clinical_entities[[i]]$DisorderGroup$Name$text=='Subtype of disorder')\n",
    "  {\n",
    "    synonyms_subtype[[indice_list]]=data.frame(as.numeric(all_active_clinical_entities[[i]]$SynonymList$.attrs))\n",
    "    indice_list=indice_list+1\n",
    "  }\n",
    "synonyms_subtype=rbindlist(synonyms_subtype,use.names = TRUE)\n",
    "colnames(synonyms_subtype)=c('Number of synonyms')"
   ]
  },
  {
   "cell_type": "code",
   "execution_count": 17,
   "metadata": {},
   "outputs": [
    {
     "data": {
      "text/html": [
       "1663"
      ],
      "text/latex": [
       "1663"
      ],
      "text/markdown": [
       "1663"
      ],
      "text/plain": [
       "[1] 1663"
      ]
     },
     "metadata": {},
     "output_type": "display_data"
    }
   ],
   "source": [
    "# Number of synonyms for subtypes of disorders in English\n",
    "number_synonyms_subtype=sum(synonyms_subtype)\n",
    "number_synonyms_subtype"
   ]
  },
  {
   "cell_type": "code",
   "execution_count": 18,
   "metadata": {},
   "outputs": [
    {
     "data": {
      "text/html": [
       "13.2732061617048"
      ],
      "text/latex": [
       "13.2732061617048"
      ],
      "text/markdown": [
       "13.2732061617048"
      ],
      "text/plain": [
       "[1] 13.27321"
      ]
     },
     "metadata": {},
     "output_type": "display_data"
    }
   ],
   "source": [
    "# Percentage of synonyms for subtypes of disorders in English\n",
    "percentage_synonyms_subtype=number_synonyms_subtype/total_number_synonyms*100\n",
    "percentage_synonyms_subtype"
   ]
  },
  {
   "cell_type": "code",
   "execution_count": 19,
   "metadata": {},
   "outputs": [
    {
     "data": {
      "text/plain": [
       " Number of synonyms\n",
       " Min.   : 0.000    \n",
       " 1st Qu.: 0.000    \n",
       " Median : 1.000    \n",
       " Mean   : 1.666    \n",
       " 3rd Qu.: 2.000    \n",
       " Max.   :17.000    "
      ]
     },
     "metadata": {},
     "output_type": "display_data"
    }
   ],
   "source": [
    "# Statistics about subtypes of disorder's synonyms in English\n",
    "stats_synonyms_subtype=summary(synonyms_subtype)\n",
    "stats_synonyms_subtype"
   ]
  },
  {
   "cell_type": "code",
   "execution_count": 20,
   "metadata": {},
   "outputs": [],
   "source": [
    "###############################################################################################\n",
    "\n",
    "\n",
    "##### Number of nomenclature terms (preferred terms + synonyms) in English\n",
    "\n",
    "\n",
    "### We look for the groups of disorder which have preferred terms\n",
    "indice_list=1\n",
    "preferred_terms_group=list()\n",
    "for (i in 1:length(all_active_clinical_entities))\n",
    "  if (all_active_clinical_entities[[i]]$DisorderGroup$Name$text=='Group of disorders')\n",
    "  {\n",
    "    preferred_terms_group[[indice_list]]=data.frame(all_active_clinical_entities[[i]]$Name$text)\n",
    "    indice_list=indice_list+1\n",
    "  }\n",
    "preferred_terms_group=rbindlist(preferred_terms_group)\n",
    "preferred_terms_group=preferred_terms_group[!duplicated(preferred_terms_group)]\n",
    "names(preferred_terms_group)=c('Preferred_terms')"
   ]
  },
  {
   "cell_type": "code",
   "execution_count": 21,
   "metadata": {},
   "outputs": [
    {
     "data": {
      "text/html": [
       "2176"
      ],
      "text/latex": [
       "2176"
      ],
      "text/markdown": [
       "2176"
      ],
      "text/plain": [
       "[1] 2176"
      ]
     },
     "metadata": {},
     "output_type": "display_data"
    }
   ],
   "source": [
    "# Number of preferred terms for groups of disorder in English\n",
    "number_preferred_terms_group=nrow(preferred_terms_group)\n",
    "number_preferred_terms_group"
   ]
  },
  {
   "cell_type": "code",
   "execution_count": 22,
   "metadata": {},
   "outputs": [
    {
     "data": {
      "text/html": [
       "3400"
      ],
      "text/latex": [
       "3400"
      ],
      "text/markdown": [
       "3400"
      ],
      "text/plain": [
       "[1] 3400"
      ]
     },
     "metadata": {},
     "output_type": "display_data"
    }
   ],
   "source": [
    "# Number of nomenclature terms (preferred terms + synonyms) for groups of disorders in English\n",
    "number_nomenclature_terms_group=number_synonyms_group + number_preferred_terms_group\n",
    "number_nomenclature_terms_group"
   ]
  },
  {
   "cell_type": "code",
   "execution_count": 23,
   "metadata": {},
   "outputs": [],
   "source": [
    "### We look for the disorders which have preferred terms\n",
    "indice_list=1\n",
    "preferred_terms_disorder=list()\n",
    "for (i in 1:length(all_active_clinical_entities))\n",
    "  if (all_active_clinical_entities[[i]]$DisorderGroup$Name$text=='Disorder')\n",
    "  {\n",
    "    preferred_terms_disorder[[indice_list]]=data.frame(all_active_clinical_entities[[i]]$Name$text)\n",
    "    indice_list=indice_list+1\n",
    "  }\n",
    "preferred_terms_disorder=rbindlist(preferred_terms_disorder)\n",
    "preferred_terms_disorder=preferred_terms_disorder[!duplicated(preferred_terms_disorder)]\n",
    "names(preferred_terms_disorder)=c('Preferred_terms')"
   ]
  },
  {
   "cell_type": "code",
   "execution_count": 24,
   "metadata": {},
   "outputs": [
    {
     "data": {
      "text/html": [
       "6167"
      ],
      "text/latex": [
       "6167"
      ],
      "text/markdown": [
       "6167"
      ],
      "text/plain": [
       "[1] 6167"
      ]
     },
     "metadata": {},
     "output_type": "display_data"
    }
   ],
   "source": [
    "# Number of preferred terms for disorders in English\n",
    "number_preferred_terms_disorder=nrow(preferred_terms_disorder)\n",
    "number_preferred_terms_disorder"
   ]
  },
  {
   "cell_type": "code",
   "execution_count": 25,
   "metadata": {},
   "outputs": [
    {
     "data": {
      "text/html": [
       "15809"
      ],
      "text/latex": [
       "15809"
      ],
      "text/markdown": [
       "15809"
      ],
      "text/plain": [
       "[1] 15809"
      ]
     },
     "metadata": {},
     "output_type": "display_data"
    }
   ],
   "source": [
    "# Number of nomenclature terms (preferred terms + synonyms) for disorders in English\n",
    "number_nomenclature_terms_disorder=number_synonyms_disorder + number_preferred_terms_disorder\n",
    "number_nomenclature_terms_disorder"
   ]
  },
  {
   "cell_type": "code",
   "execution_count": 26,
   "metadata": {},
   "outputs": [],
   "source": [
    "### We look for the subtypes of disorder which have preferred terms\n",
    "indice_list=1\n",
    "preferred_terms_subtype=list()\n",
    "for (i in 1:length(all_active_clinical_entities))\n",
    "  if (all_active_clinical_entities[[i]]$DisorderGroup$Name$text=='Subtype of disorder')\n",
    "  {\n",
    "    preferred_terms_subtype[[indice_list]]=data.frame(all_active_clinical_entities[[i]]$Name$text)\n",
    "    indice_list=indice_list+1\n",
    "  }\n",
    "preferred_terms_subtype=rbindlist(preferred_terms_subtype)\n",
    "preferred_terms_subtype=preferred_terms_subtype[!duplicated(preferred_terms_subtype)]\n",
    "names(preferred_terms_subtype)=c('Preferred_terms')"
   ]
  },
  {
   "cell_type": "code",
   "execution_count": 27,
   "metadata": {},
   "outputs": [
    {
     "data": {
      "text/html": [
       "998"
      ],
      "text/latex": [
       "998"
      ],
      "text/markdown": [
       "998"
      ],
      "text/plain": [
       "[1] 998"
      ]
     },
     "metadata": {},
     "output_type": "display_data"
    }
   ],
   "source": [
    "# Number of preferred terms for subtypes of disorder in English\n",
    "number_preferred_terms_subtype=nrow(preferred_terms_subtype)\n",
    "number_preferred_terms_subtype"
   ]
  },
  {
   "cell_type": "code",
   "execution_count": 28,
   "metadata": {},
   "outputs": [
    {
     "data": {
      "text/html": [
       "2661"
      ],
      "text/latex": [
       "2661"
      ],
      "text/markdown": [
       "2661"
      ],
      "text/plain": [
       "[1] 2661"
      ]
     },
     "metadata": {},
     "output_type": "display_data"
    }
   ],
   "source": [
    "# Number of nomenclature terms (preferred terms + synonyms) for groups of disorders in English\n",
    "number_nomenclature_terms_subtype=number_synonyms_subtype + number_preferred_terms_subtype\n",
    "number_nomenclature_terms_subtype"
   ]
  },
  {
   "cell_type": "code",
   "execution_count": 29,
   "metadata": {},
   "outputs": [
    {
     "data": {
      "text/html": [
       "21870"
      ],
      "text/latex": [
       "21870"
      ],
      "text/markdown": [
       "21870"
      ],
      "text/plain": [
       "[1] 21870"
      ]
     },
     "metadata": {},
     "output_type": "display_data"
    }
   ],
   "source": [
    "### Total number of nomenclature terms for active clinical entities in English\n",
    "total_number_nomenclature_terms=number_nomenclature_terms_subtype + \n",
    "                                number_nomenclature_terms_disorder +\n",
    "                                number_nomenclature_terms_group\n",
    "total_number_nomenclature_terms"
   ]
  },
  {
   "cell_type": "code",
   "execution_count": 30,
   "metadata": {},
   "outputs": [],
   "source": [
    "######## FRENCH #########\n",
    "\n",
    "# We work on the file with datas in French\n",
    "\n",
    "# We open xml \"product1_fr_cross_jdbor_evo\"\n",
    "product1_french=xmlParse(\"product1_fr_cross_jdbor_evo.xml\")\n",
    "product1_french=xmlToList(product1_french)\n",
    "\n",
    "# We remove the last element of the list, which is the numeric count of all elements of the list\n",
    "product1_french=product1_french$DisorderList\n",
    "product1_french=product1_french[-length(product1_french)]\n",
    "\n",
    "### Our list for working\n",
    "indice_list=1\n",
    "product_french=list()\n",
    "for (i in 1:length(product1_french))\n",
    "{\n",
    "  product_french[[indice_list]]=product1_french[[i]]\n",
    "  indice_list=indice_list+1\n",
    "}\n",
    "# Each element in the list is a disorder"
   ]
  },
  {
   "cell_type": "code",
   "execution_count": 31,
   "metadata": {},
   "outputs": [],
   "source": [
    "# We previously need to select the active clinical entities:\n",
    "# Head of classification (flag=128), Historical entities (flag=512) & On-line (flag=1)\n",
    "indice_list=1\n",
    "all_active_clinical_entities_french=list()\n",
    "for (i in 1:length(product_french))\n",
    "  if (product_french[[i]]$DisorderFlagList$DisorderFlag$Value=='1' |\n",
    "      product_french[[i]]$DisorderFlagList$DisorderFlag$Value=='128' |\n",
    "      product_french[[i]]$DisorderFlagList$DisorderFlag$Value=='512')\n",
    "  {\n",
    "    all_active_clinical_entities_french[[indice_list]]=product_french[[i]]\n",
    "    indice_list=indice_list+1\n",
    "  }"
   ]
  },
  {
   "cell_type": "code",
   "execution_count": 32,
   "metadata": {},
   "outputs": [],
   "source": [
    "### We look for all the active clinical entities which have synonyms\n",
    "indice_list=1\n",
    "synonyms_total_french=list()\n",
    "for (i in 1:length(all_active_clinical_entities_french))\n",
    "{\n",
    "  synonyms_total_french[[indice_list]]=data.frame(as.numeric(all_active_clinical_entities_french[[i]]$SynonymList$.attrs))\n",
    "  indice_list=indice_list+1\n",
    "}\n",
    "synonyms_total_french=rbindlist(synonyms_total_french,use.names = TRUE)\n",
    "colnames(synonyms_total_french)=c('Number of synonyms')"
   ]
  },
  {
   "cell_type": "code",
   "execution_count": 33,
   "metadata": {},
   "outputs": [
    {
     "data": {
      "text/html": [
       "11995"
      ],
      "text/latex": [
       "11995"
      ],
      "text/markdown": [
       "11995"
      ],
      "text/plain": [
       "[1] 11995"
      ]
     },
     "metadata": {},
     "output_type": "display_data"
    }
   ],
   "source": [
    "# Total number of synonyms in French\n",
    "total_number_synonyms_french=sum(synonyms_total_french)\n",
    "total_number_synonyms_french"
   ]
  },
  {
   "cell_type": "code",
   "execution_count": 34,
   "metadata": {},
   "outputs": [
    {
     "data": {
      "text/plain": [
       " Number of synonyms\n",
       " Min.   : 0.000    \n",
       " 1st Qu.: 0.000    \n",
       " Median : 1.000    \n",
       " Mean   : 1.284    \n",
       " 3rd Qu.: 2.000    \n",
       " Max.   :18.000    "
      ]
     },
     "metadata": {},
     "output_type": "display_data"
    }
   ],
   "source": [
    "# Statistics about all synonyms in French\n",
    "stats_total_synonyms_french=summary(synonyms_total_french)\n",
    "stats_total_synonyms_french"
   ]
  },
  {
   "cell_type": "code",
   "execution_count": 35,
   "metadata": {},
   "outputs": [],
   "source": [
    "### We look for the groups of disorder which have synonyms\n",
    "# The flag is \"36540\" for groups of disorder\n",
    "indice_list=1\n",
    "synonyms_group_french=list()\n",
    "for (i in 1:length(all_active_clinical_entities_french))\n",
    "  if (all_active_clinical_entities_french[[i]]$DisorderGroup$.attrs=='36540')\n",
    "  {\n",
    "    synonyms_group_french[[indice_list]]=data.frame(as.numeric(all_active_clinical_entities_french[[i]]$SynonymList$.attrs))\n",
    "    indice_list=indice_list+1\n",
    "  }\n",
    "synonyms_group_french=rbindlist(synonyms_group_french,use.names = TRUE)\n",
    "colnames(synonyms_group_french)=c('Number of synonyms')"
   ]
  },
  {
   "cell_type": "code",
   "execution_count": 36,
   "metadata": {},
   "outputs": [
    {
     "data": {
      "text/html": [
       "1234"
      ],
      "text/latex": [
       "1234"
      ],
      "text/markdown": [
       "1234"
      ],
      "text/plain": [
       "[1] 1234"
      ]
     },
     "metadata": {},
     "output_type": "display_data"
    }
   ],
   "source": [
    "# Number of synonyms for groups of disorders in French\n",
    "number_synonyms_group_french=sum(synonyms_group_french)\n",
    "number_synonyms_group_french"
   ]
  },
  {
   "cell_type": "code",
   "execution_count": 37,
   "metadata": {},
   "outputs": [
    {
     "data": {
      "text/html": [
       "10.2876198416007"
      ],
      "text/latex": [
       "10.2876198416007"
      ],
      "text/markdown": [
       "10.2876198416007"
      ],
      "text/plain": [
       "[1] 10.28762"
      ]
     },
     "metadata": {},
     "output_type": "display_data"
    }
   ],
   "source": [
    "# Percentage of synonyms for groups of disorders in French\n",
    "percentage_synonyms_group_french=number_synonyms_group_french/total_number_synonyms_french*100\n",
    "percentage_synonyms_group_french"
   ]
  },
  {
   "cell_type": "code",
   "execution_count": 38,
   "metadata": {},
   "outputs": [
    {
     "data": {
      "text/plain": [
       " Number of synonyms\n",
       " Min.   :0.0000    \n",
       " 1st Qu.:0.0000    \n",
       " Median :0.0000    \n",
       " Mean   :0.5671    \n",
       " 3rd Qu.:1.0000    \n",
       " Max.   :7.0000    "
      ]
     },
     "metadata": {},
     "output_type": "display_data"
    }
   ],
   "source": [
    "# Statistics about groups of disorder's synonyms in French\n",
    "stats_synonyms_group_french=summary(synonyms_group_french)\n",
    "stats_synonyms_group_french"
   ]
  },
  {
   "cell_type": "code",
   "execution_count": 39,
   "metadata": {},
   "outputs": [],
   "source": [
    "### We look for the disorders which have synonyms\n",
    "# The flag is \"36547\" for disorders\n",
    "indice_list=1\n",
    "synonyms_disorder_french=list()\n",
    "for (i in 1:length(all_active_clinical_entities_french))\n",
    "  if (all_active_clinical_entities_french[[i]]$DisorderGroup$.attrs=='36547')\n",
    "  {\n",
    "    synonyms_disorder_french[[indice_list]]=data.frame(as.numeric(all_active_clinical_entities_french[[i]]$SynonymList$.attrs))\n",
    "    indice_list=indice_list+1\n",
    "  }\n",
    "synonyms_disorder_french=rbindlist(synonyms_disorder_french,use.names = TRUE)\n",
    "colnames(synonyms_disorder_french)=c('Number of synonyms')"
   ]
  },
  {
   "cell_type": "code",
   "execution_count": 40,
   "metadata": {},
   "outputs": [
    {
     "data": {
      "text/html": [
       "9094"
      ],
      "text/latex": [
       "9094"
      ],
      "text/markdown": [
       "9094"
      ],
      "text/plain": [
       "[1] 9094"
      ]
     },
     "metadata": {},
     "output_type": "display_data"
    }
   ],
   "source": [
    "# Number of synonyms for disorders in French\n",
    "number_synonyms_disorder_french=sum(synonyms_disorder_french)\n",
    "number_synonyms_disorder_french"
   ]
  },
  {
   "cell_type": "code",
   "execution_count": 41,
   "metadata": {},
   "outputs": [
    {
     "data": {
      "text/html": [
       "75.8149228845352"
      ],
      "text/latex": [
       "75.8149228845352"
      ],
      "text/markdown": [
       "75.8149228845352"
      ],
      "text/plain": [
       "[1] 75.81492"
      ]
     },
     "metadata": {},
     "output_type": "display_data"
    }
   ],
   "source": [
    "### Percentage of synonyms for disorders in French\n",
    "percentage_synonyms_disorder_french=number_synonyms_disorder_french/total_number_synonyms_french*100\n",
    "percentage_synonyms_disorder_french"
   ]
  },
  {
   "cell_type": "code",
   "execution_count": 42,
   "metadata": {},
   "outputs": [
    {
     "data": {
      "text/plain": [
       " Number of synonyms\n",
       " Min.   : 0.000    \n",
       " 1st Qu.: 0.000    \n",
       " Median : 1.000    \n",
       " Mean   : 1.475    \n",
       " 3rd Qu.: 2.000    \n",
       " Max.   :18.000    "
      ]
     },
     "metadata": {},
     "output_type": "display_data"
    }
   ],
   "source": [
    "# Statistics about disorder' synonyms in French\n",
    "stats_synonyms_disorder_french=summary(synonyms_disorder_french)\n",
    "stats_synonyms_disorder_french"
   ]
  },
  {
   "cell_type": "code",
   "execution_count": 43,
   "metadata": {},
   "outputs": [],
   "source": [
    "### We look for the subtypes of disorder which have synonyms\n",
    "# The flag is \"36554\" for subtypes of disorder\n",
    "indice_list=1\n",
    "synonyms_subtype_french=list()\n",
    "for (i in 1:length(all_active_clinical_entities_french))\n",
    "  if (all_active_clinical_entities_french[[i]]$DisorderGroup$.attrs=='36554')\n",
    "  {\n",
    "    synonyms_subtype_french[[indice_list]]=data.frame(as.numeric(all_active_clinical_entities_french[[i]]$SynonymList$.attrs))\n",
    "    indice_list=indice_list+1\n",
    "  }\n",
    "synonyms_subtype_french=rbindlist(synonyms_subtype_french,use.names = TRUE)\n",
    "colnames(synonyms_subtype_french)=c('Number of synonyms')"
   ]
  },
  {
   "cell_type": "code",
   "execution_count": 44,
   "metadata": {},
   "outputs": [
    {
     "data": {
      "text/html": [
       "1667"
      ],
      "text/latex": [
       "1667"
      ],
      "text/markdown": [
       "1667"
      ],
      "text/plain": [
       "[1] 1667"
      ]
     },
     "metadata": {},
     "output_type": "display_data"
    }
   ],
   "source": [
    "# Number of synonyms for subtypes of disorders in French\n",
    "number_synonyms_subtype_french=sum(synonyms_subtype_french)\n",
    "number_synonyms_subtype_french"
   ]
  },
  {
   "cell_type": "code",
   "execution_count": 45,
   "metadata": {},
   "outputs": [
    {
     "data": {
      "text/html": [
       "13.8974572738641"
      ],
      "text/latex": [
       "13.8974572738641"
      ],
      "text/markdown": [
       "13.8974572738641"
      ],
      "text/plain": [
       "[1] 13.89746"
      ]
     },
     "metadata": {},
     "output_type": "display_data"
    }
   ],
   "source": [
    "# Percentage of synonyms for subtypes of disorders in French\n",
    "percentage_synonyms_subtype_french=number_synonyms_subtype_french/total_number_synonyms_french*100\n",
    "percentage_synonyms_subtype_french"
   ]
  },
  {
   "cell_type": "code",
   "execution_count": 46,
   "metadata": {},
   "outputs": [
    {
     "data": {
      "text/plain": [
       " Number of synonyms\n",
       " Min.   : 0.00     \n",
       " 1st Qu.: 0.00     \n",
       " Median : 1.00     \n",
       " Mean   : 1.67     \n",
       " 3rd Qu.: 2.00     \n",
       " Max.   :15.00     "
      ]
     },
     "metadata": {},
     "output_type": "display_data"
    }
   ],
   "source": [
    "# Statistics about subtypes of disorder's synonyms in French\n",
    "stats_synonyms_subtype_french=summary(synonyms_subtype_french)\n",
    "stats_synonyms_subtype_french"
   ]
  },
  {
   "cell_type": "code",
   "execution_count": 47,
   "metadata": {},
   "outputs": [],
   "source": [
    "###############################################################################################\n",
    "\n",
    "\n",
    "##### Number of nomenclature terms (preferred terms + synonyms) in French\n",
    "\n",
    "\n",
    "### We look for the groups of disorder which have preferred terms\n",
    "# The flag is \"36540\" for groups of disorder\n",
    "indice_list=1\n",
    "preferred_terms_group_french=list()\n",
    "for (i in 1:length(all_active_clinical_entities_french))\n",
    "  if (all_active_clinical_entities_french[[i]]$DisorderGroup$.attrs=='36540')\n",
    "  {\n",
    "    preferred_terms_group_french[[indice_list]]=data.frame(all_active_clinical_entities_french[[i]]$Name$text)\n",
    "    indice_list=indice_list+1\n",
    "  }\n",
    "preferred_terms_group_french=rbindlist(preferred_terms_group_french)\n",
    "preferred_terms_group_french=preferred_terms_group_french[!duplicated(preferred_terms_group_french)]\n",
    "names(preferred_terms_group_french)=c('Preferred_terms')"
   ]
  },
  {
   "cell_type": "code",
   "execution_count": 48,
   "metadata": {},
   "outputs": [],
   "source": [
    "# We look for the preferred terms present in English and French\n",
    "egal_group_french=merge(preferred_terms_group,preferred_terms_group_french,by='Preferred_terms')"
   ]
  },
  {
   "cell_type": "code",
   "execution_count": 49,
   "metadata": {},
   "outputs": [
    {
     "data": {
      "text/html": [
       "2172"
      ],
      "text/latex": [
       "2172"
      ],
      "text/markdown": [
       "2172"
      ],
      "text/plain": [
       "[1] 2172"
      ]
     },
     "metadata": {},
     "output_type": "display_data"
    }
   ],
   "source": [
    "# Number of preferred terms for groups of disorder in French\n",
    "number_preferred_terms_group_french=nrow(preferred_terms_group_french)-nrow(egal_group_french)\n",
    "number_preferred_terms_group_french"
   ]
  },
  {
   "cell_type": "code",
   "execution_count": 50,
   "metadata": {},
   "outputs": [
    {
     "data": {
      "text/html": [
       "3406"
      ],
      "text/latex": [
       "3406"
      ],
      "text/markdown": [
       "3406"
      ],
      "text/plain": [
       "[1] 3406"
      ]
     },
     "metadata": {},
     "output_type": "display_data"
    }
   ],
   "source": [
    "# Number of nomenclature terms (preferred terms + synonyms) for groups of disorders in French\n",
    "number_nomenclature_terms_group_french=number_synonyms_group_french + number_preferred_terms_group_french\n",
    "number_nomenclature_terms_group_french"
   ]
  },
  {
   "cell_type": "code",
   "execution_count": 51,
   "metadata": {},
   "outputs": [],
   "source": [
    "### We look for the disorders which have preferred terms\n",
    "# The flag is \"36547\" for disorders\n",
    "indice_list=1\n",
    "preferred_terms_disorder_french=list()\n",
    "for (i in 1:length(all_active_clinical_entities_french))\n",
    "  if (all_active_clinical_entities_french[[i]]$DisorderGroup$.attrs=='36547')\n",
    "  {\n",
    "    preferred_terms_disorder_french[[indice_list]]=data.frame(all_active_clinical_entities_french[[i]]$Name$text)\n",
    "    indice_list=indice_list+1\n",
    "  }\n",
    "preferred_terms_disorder_french=rbindlist(preferred_terms_disorder_french)\n",
    "preferred_terms_disorder_french=preferred_terms_disorder_french[!duplicated(preferred_terms_disorder_french)]\n",
    "names(preferred_terms_disorder_french)=c('Preferred_terms')"
   ]
  },
  {
   "cell_type": "code",
   "execution_count": 52,
   "metadata": {},
   "outputs": [],
   "source": [
    "# We look for the preferred terms present in English and French\n",
    "egal_disorder_french=merge(preferred_terms_disorder,preferred_terms_disorder_french,by='Preferred_terms')"
   ]
  },
  {
   "cell_type": "code",
   "execution_count": 53,
   "metadata": {},
   "outputs": [
    {
     "data": {
      "text/html": [
       "6090"
      ],
      "text/latex": [
       "6090"
      ],
      "text/markdown": [
       "6090"
      ],
      "text/plain": [
       "[1] 6090"
      ]
     },
     "metadata": {},
     "output_type": "display_data"
    }
   ],
   "source": [
    "# Number of preferred terms for disorders in French\n",
    "number_preferred_terms_disorder_french=nrow(preferred_terms_disorder_french)-nrow(egal_disorder_french)\n",
    "number_preferred_terms_disorder_french"
   ]
  },
  {
   "cell_type": "code",
   "execution_count": 54,
   "metadata": {},
   "outputs": [
    {
     "data": {
      "text/html": [
       "15184"
      ],
      "text/latex": [
       "15184"
      ],
      "text/markdown": [
       "15184"
      ],
      "text/plain": [
       "[1] 15184"
      ]
     },
     "metadata": {},
     "output_type": "display_data"
    }
   ],
   "source": [
    "# Number of nomenclature terms (preferred terms + synonyms) for disorders in French\n",
    "number_nomenclature_terms_disorder_french=number_synonyms_disorder_french + number_preferred_terms_disorder_french\n",
    "number_nomenclature_terms_disorder_french"
   ]
  },
  {
   "cell_type": "code",
   "execution_count": 55,
   "metadata": {},
   "outputs": [],
   "source": [
    "### We look for the subtypes of disorder which have preferred terms\n",
    "# The flag is \"36554\" for subtypes of disorder\n",
    "indice_list=1\n",
    "preferred_terms_subtype_french=list()\n",
    "for (i in 1:length(all_active_clinical_entities_french))\n",
    "  if (all_active_clinical_entities_french[[i]]$DisorderGroup$.attrs=='36554')\n",
    "  {\n",
    "    preferred_terms_subtype_french[[indice_list]]=data.frame(all_active_clinical_entities_french[[i]]$Name$text)\n",
    "    indice_list=indice_list+1\n",
    "  }\n",
    "preferred_terms_subtype_french=rbindlist(preferred_terms_subtype_french)\n",
    "preferred_terms_subtype_french=preferred_terms_subtype_french[!duplicated(preferred_terms_subtype_french)]\n",
    "names(preferred_terms_subtype_french)=c('Preferred_terms')"
   ]
  },
  {
   "cell_type": "code",
   "execution_count": 56,
   "metadata": {},
   "outputs": [],
   "source": [
    "# We look for the preferred terms present in English and French\n",
    "egal_subtype_french=merge(preferred_terms_subtype,preferred_terms_subtype_french,by='Preferred_terms')"
   ]
  },
  {
   "cell_type": "code",
   "execution_count": 57,
   "metadata": {},
   "outputs": [
    {
     "data": {
      "text/html": [
       "996"
      ],
      "text/latex": [
       "996"
      ],
      "text/markdown": [
       "996"
      ],
      "text/plain": [
       "[1] 996"
      ]
     },
     "metadata": {},
     "output_type": "display_data"
    }
   ],
   "source": [
    "# Number of preferred terms for subtypes of disorder in French\n",
    "number_preferred_terms_subtype_french=nrow(preferred_terms_subtype_french)-nrow(egal_subtype_french)\n",
    "number_preferred_terms_subtype_french"
   ]
  },
  {
   "cell_type": "code",
   "execution_count": 58,
   "metadata": {},
   "outputs": [
    {
     "data": {
      "text/html": [
       "2663"
      ],
      "text/latex": [
       "2663"
      ],
      "text/markdown": [
       "2663"
      ],
      "text/plain": [
       "[1] 2663"
      ]
     },
     "metadata": {},
     "output_type": "display_data"
    }
   ],
   "source": [
    "# Number of nomenclature terms (preferred terms + synonyms) for groups of disorders in French\n",
    "number_nomenclature_terms_subtype_french=number_synonyms_subtype_french + number_preferred_terms_subtype_french\n",
    "number_nomenclature_terms_subtype_french"
   ]
  },
  {
   "cell_type": "code",
   "execution_count": 59,
   "metadata": {},
   "outputs": [
    {
     "data": {
      "text/html": [
       "21253"
      ],
      "text/latex": [
       "21253"
      ],
      "text/markdown": [
       "21253"
      ],
      "text/plain": [
       "[1] 21253"
      ]
     },
     "metadata": {},
     "output_type": "display_data"
    }
   ],
   "source": [
    "### Total number of nomenclature terms for active clinical entities in French\n",
    "total_number_nomenclature_terms_french=number_nomenclature_terms_subtype_french + \n",
    "  number_nomenclature_terms_disorder_french + number_nomenclature_terms_group_french\n",
    "total_number_nomenclature_terms_french"
   ]
  },
  {
   "cell_type": "code",
   "execution_count": 60,
   "metadata": {},
   "outputs": [],
   "source": [
    "######## German #########\n",
    "\n",
    "# We work on the file with datas in German\n",
    "\n",
    "# We open xml \"product1_de_cross_jdbor_evo\"\n",
    "product1_german=xmlParse(\"product1_de_cross_jdbor_evo.xml\")\n",
    "product1_german=xmlToList(product1_german)\n",
    "\n",
    "# We remove the last element of the list, which is the numeric count of all elements of the list\n",
    "product1_german=product1_german$DisorderList\n",
    "product1_german=product1_german[-length(product1_german)]\n",
    "\n",
    "### Our list for working\n",
    "indice_list=1\n",
    "product_german=list()\n",
    "for (i in 1:length(product1_german))\n",
    "{\n",
    "  product_german[[indice_list]]=product1_german[[i]]\n",
    "  indice_list=indice_list+1\n",
    "}\n",
    "# Each element in the list is a disorder"
   ]
  },
  {
   "cell_type": "code",
   "execution_count": 61,
   "metadata": {},
   "outputs": [],
   "source": [
    "# We previously need to select the active clinical entities:\n",
    "# Head of classification (flag=128), Historical entities (flag=512) & On-line (flag=1)\n",
    "indice_list=1\n",
    "all_active_clinical_entities_german=list()\n",
    "for (i in 1:length(product_german))\n",
    "  if (product_german[[i]]$DisorderFlagList$DisorderFlag$Value=='1' |\n",
    "      product_german[[i]]$DisorderFlagList$DisorderFlag$Value=='128' |\n",
    "      product_german[[i]]$DisorderFlagList$DisorderFlag$Value=='512')\n",
    "  {\n",
    "    all_active_clinical_entities_german[[indice_list]]=product_german[[i]]\n",
    "    indice_list=indice_list+1\n",
    "  }"
   ]
  },
  {
   "cell_type": "code",
   "execution_count": 62,
   "metadata": {},
   "outputs": [],
   "source": [
    "### We look for all the active clinical entities which have synonyms\n",
    "indice_list=1\n",
    "synonyms_total_german=list()\n",
    "for (i in 1:length(all_active_clinical_entities_german))\n",
    "{\n",
    "  synonyms_total_german[[indice_list]]=data.frame(as.numeric(all_active_clinical_entities_german[[i]]$SynonymList$.attrs))\n",
    "  indice_list=indice_list+1\n",
    "}\n",
    "synonyms_total_german=rbindlist(synonyms_total_german,use.names = TRUE)\n",
    "colnames(synonyms_total_german)=c('Number of synonyms')"
   ]
  },
  {
   "cell_type": "code",
   "execution_count": 63,
   "metadata": {},
   "outputs": [
    {
     "data": {
      "text/html": [
       "11403"
      ],
      "text/latex": [
       "11403"
      ],
      "text/markdown": [
       "11403"
      ],
      "text/plain": [
       "[1] 11403"
      ]
     },
     "metadata": {},
     "output_type": "display_data"
    }
   ],
   "source": [
    "# Total number of synonyms in German\n",
    "total_number_synonyms_german=sum(synonyms_total_german)\n",
    "total_number_synonyms_german"
   ]
  },
  {
   "cell_type": "code",
   "execution_count": 64,
   "metadata": {},
   "outputs": [
    {
     "data": {
      "text/plain": [
       " Number of synonyms\n",
       " Min.   : 0.000    \n",
       " 1st Qu.: 0.000    \n",
       " Median : 1.000    \n",
       " Mean   : 1.221    \n",
       " 3rd Qu.: 2.000    \n",
       " Max.   :14.000    "
      ]
     },
     "metadata": {},
     "output_type": "display_data"
    }
   ],
   "source": [
    "# Statistics about all synonyms in German\n",
    "stats_total_synonyms_german=summary(synonyms_total_german)\n",
    "stats_total_synonyms_german"
   ]
  },
  {
   "cell_type": "code",
   "execution_count": 65,
   "metadata": {},
   "outputs": [],
   "source": [
    "### We look for the groups of disorder which have synonyms\n",
    "# The flag is \"36540\" for groups of disorder\n",
    "indice_list=1\n",
    "synonyms_group_german=list()\n",
    "for (i in 1:length(all_active_clinical_entities_german))\n",
    "  if (all_active_clinical_entities_german[[i]]$DisorderGroup$.attrs=='36540')\n",
    "  {\n",
    "    synonyms_group_german[[indice_list]]=data.frame(as.numeric(all_active_clinical_entities_german[[i]]$SynonymList$.attrs))\n",
    "    indice_list=indice_list+1\n",
    "  }\n",
    "synonyms_group_german=rbindlist(synonyms_group_german,use.names = TRUE)\n",
    "colnames(synonyms_group_german)=c('Number of synonyms')"
   ]
  },
  {
   "cell_type": "code",
   "execution_count": 66,
   "metadata": {},
   "outputs": [
    {
     "data": {
      "text/html": [
       "1053"
      ],
      "text/latex": [
       "1053"
      ],
      "text/markdown": [
       "1053"
      ],
      "text/plain": [
       "[1] 1053"
      ]
     },
     "metadata": {},
     "output_type": "display_data"
    }
   ],
   "source": [
    "# Number of synonyms for groups of disorders in German\n",
    "number_synonyms_group_german=sum(synonyms_group_german)\n",
    "number_synonyms_group_german"
   ]
  },
  {
   "cell_type": "code",
   "execution_count": 67,
   "metadata": {},
   "outputs": [
    {
     "data": {
      "text/html": [
       "9.23441199684294"
      ],
      "text/latex": [
       "9.23441199684294"
      ],
      "text/markdown": [
       "9.23441199684294"
      ],
      "text/plain": [
       "[1] 9.234412"
      ]
     },
     "metadata": {},
     "output_type": "display_data"
    }
   ],
   "source": [
    "# Percentage of synonyms for groups of disorders in German\n",
    "percentage_synonyms_group_german=number_synonyms_group_german/total_number_synonyms_german*100\n",
    "percentage_synonyms_group_german"
   ]
  },
  {
   "cell_type": "code",
   "execution_count": 68,
   "metadata": {},
   "outputs": [
    {
     "data": {
      "text/plain": [
       " Number of synonyms\n",
       " Min.   :0.0000    \n",
       " 1st Qu.:0.0000    \n",
       " Median :0.0000    \n",
       " Mean   :0.4839    \n",
       " 3rd Qu.:1.0000    \n",
       " Max.   :8.0000    "
      ]
     },
     "metadata": {},
     "output_type": "display_data"
    }
   ],
   "source": [
    "# Statistics about groups of disorder's synonyms in German\n",
    "stats_synonyms_group_german=summary(synonyms_group_german)\n",
    "stats_synonyms_group_german"
   ]
  },
  {
   "cell_type": "code",
   "execution_count": 69,
   "metadata": {},
   "outputs": [],
   "source": [
    "### We look for the disorders which have synonyms\n",
    "# The flag is \"36547\" for disorders\n",
    "indice_list=1\n",
    "synonyms_disorder_german=list()\n",
    "for (i in 1:length(all_active_clinical_entities_german))\n",
    "  if (all_active_clinical_entities_german[[i]]$DisorderGroup$.attrs=='36547')\n",
    "  {\n",
    "    synonyms_disorder_german[[indice_list]]=data.frame(as.numeric(all_active_clinical_entities_german[[i]]$SynonymList$.attrs))\n",
    "    indice_list=indice_list+1\n",
    "  }\n",
    "synonyms_disorder_german=rbindlist(synonyms_disorder_german,use.names = TRUE)\n",
    "colnames(synonyms_disorder_german)=c('Number of synonyms')"
   ]
  },
  {
   "cell_type": "code",
   "execution_count": 70,
   "metadata": {},
   "outputs": [
    {
     "data": {
      "text/html": [
       "8841"
      ],
      "text/latex": [
       "8841"
      ],
      "text/markdown": [
       "8841"
      ],
      "text/plain": [
       "[1] 8841"
      ]
     },
     "metadata": {},
     "output_type": "display_data"
    }
   ],
   "source": [
    "# Number of synonyms for disorders in German\n",
    "number_synonyms_disorder_german=sum(synonyms_disorder_german)\n",
    "number_synonyms_disorder_german"
   ]
  },
  {
   "cell_type": "code",
   "execution_count": 71,
   "metadata": {},
   "outputs": [
    {
     "data": {
      "text/html": [
       "77.5322283609576"
      ],
      "text/latex": [
       "77.5322283609576"
      ],
      "text/markdown": [
       "77.5322283609576"
      ],
      "text/plain": [
       "[1] 77.53223"
      ]
     },
     "metadata": {},
     "output_type": "display_data"
    }
   ],
   "source": [
    "### Percentage of synonyms for disorders in German\n",
    "percentage_synonyms_disorder_german=number_synonyms_disorder_german/total_number_synonyms_german*100\n",
    "percentage_synonyms_disorder_german"
   ]
  },
  {
   "cell_type": "code",
   "execution_count": 72,
   "metadata": {},
   "outputs": [
    {
     "data": {
      "text/plain": [
       " Number of synonyms\n",
       " Min.   : 0.000    \n",
       " 1st Qu.: 0.000    \n",
       " Median : 1.000    \n",
       " Mean   : 1.434    \n",
       " 3rd Qu.: 2.000    \n",
       " Max.   :14.000    "
      ]
     },
     "metadata": {},
     "output_type": "display_data"
    }
   ],
   "source": [
    "# Statistics about disorder' synonyms in German\n",
    "stats_synonyms_disorder_german=summary(synonyms_disorder_german)\n",
    "stats_synonyms_disorder_german"
   ]
  },
  {
   "cell_type": "code",
   "execution_count": 73,
   "metadata": {},
   "outputs": [],
   "source": [
    "### We look for the subtypes of disorder which have synonyms\n",
    "# The flag is \"36554\" for subtypes of disorder\n",
    "indice_list=1\n",
    "synonyms_subtype_german=list()\n",
    "for (i in 1:length(all_active_clinical_entities_german))\n",
    "  if (all_active_clinical_entities_german[[i]]$DisorderGroup$.attrs=='36554')\n",
    "  {\n",
    "    synonyms_subtype_german[[indice_list]]=data.frame(as.numeric(all_active_clinical_entities_german[[i]]$SynonymList$.attrs))\n",
    "    indice_list=indice_list+1\n",
    "  }\n",
    "synonyms_subtype_german=rbindlist(synonyms_subtype_german,use.names = TRUE)\n",
    "colnames(synonyms_subtype_german)=c('Number of synonyms')"
   ]
  },
  {
   "cell_type": "code",
   "execution_count": 74,
   "metadata": {},
   "outputs": [
    {
     "data": {
      "text/html": [
       "1509"
      ],
      "text/latex": [
       "1509"
      ],
      "text/markdown": [
       "1509"
      ],
      "text/plain": [
       "[1] 1509"
      ]
     },
     "metadata": {},
     "output_type": "display_data"
    }
   ],
   "source": [
    "# Number of synonyms for subtypes of disorders in German\n",
    "number_synonyms_subtype_german=sum(synonyms_subtype_german)\n",
    "number_synonyms_subtype_german"
   ]
  },
  {
   "cell_type": "code",
   "execution_count": 75,
   "metadata": {},
   "outputs": [
    {
     "data": {
      "text/html": [
       "13.2333596421994"
      ],
      "text/latex": [
       "13.2333596421994"
      ],
      "text/markdown": [
       "13.2333596421994"
      ],
      "text/plain": [
       "[1] 13.23336"
      ]
     },
     "metadata": {},
     "output_type": "display_data"
    }
   ],
   "source": [
    "# Percentage of synonyms for subtypes of disorders in German\n",
    "percentage_synonyms_subtype_german=number_synonyms_subtype_german/total_number_synonyms_german*100\n",
    "percentage_synonyms_subtype_german"
   ]
  },
  {
   "cell_type": "code",
   "execution_count": 76,
   "metadata": {},
   "outputs": [
    {
     "data": {
      "text/plain": [
       " Number of synonyms\n",
       " Min.   : 0.000    \n",
       " 1st Qu.: 0.000    \n",
       " Median : 1.000    \n",
       " Mean   : 1.512    \n",
       " 3rd Qu.: 2.000    \n",
       " Max.   :12.000    "
      ]
     },
     "metadata": {},
     "output_type": "display_data"
    }
   ],
   "source": [
    "# Statistics about subtypes of disorder's synonyms in German\n",
    "stats_synonyms_subtype_german=summary(synonyms_subtype_german)\n",
    "stats_synonyms_subtype_german"
   ]
  },
  {
   "cell_type": "code",
   "execution_count": 77,
   "metadata": {},
   "outputs": [],
   "source": [
    "###############################################################################################\n",
    "\n",
    "\n",
    "##### Number of nomenclature terms (preferred terms + synonyms) in German\n",
    "\n",
    "\n",
    "### We look for the groups of disorder which have preferred terms\n",
    "# The flag is \"36540\" for groups of disorder\n",
    "indice_list=1\n",
    "preferred_terms_group_german=list()\n",
    "for (i in 1:length(all_active_clinical_entities_german))\n",
    "  if (all_active_clinical_entities_german[[i]]$DisorderGroup$.attrs=='36540')\n",
    "  {\n",
    "    preferred_terms_group_german[[indice_list]]=data.frame(all_active_clinical_entities_german[[i]]$Name$text)\n",
    "    indice_list=indice_list+1\n",
    "  }\n",
    "preferred_terms_group_german=rbindlist(preferred_terms_group_german)\n",
    "preferred_terms_group_german=preferred_terms_group_german[!duplicated(preferred_terms_group_german)]\n",
    "names(preferred_terms_group_german)=c('Preferred_terms')"
   ]
  },
  {
   "cell_type": "code",
   "execution_count": 78,
   "metadata": {},
   "outputs": [],
   "source": [
    "# We look for the preferred terms present in English and German\n",
    "egal_group_german=merge(preferred_terms_group,preferred_terms_group_german,by='Preferred_terms')"
   ]
  },
  {
   "cell_type": "code",
   "execution_count": 79,
   "metadata": {},
   "outputs": [
    {
     "data": {
      "text/html": [
       "2162"
      ],
      "text/latex": [
       "2162"
      ],
      "text/markdown": [
       "2162"
      ],
      "text/plain": [
       "[1] 2162"
      ]
     },
     "metadata": {},
     "output_type": "display_data"
    }
   ],
   "source": [
    "# Number of preferred terms for groups of disorder in German\n",
    "number_preferred_terms_group_german=nrow(preferred_terms_group_german)-nrow(egal_group_german)\n",
    "number_preferred_terms_group_german"
   ]
  },
  {
   "cell_type": "code",
   "execution_count": 80,
   "metadata": {},
   "outputs": [
    {
     "data": {
      "text/html": [
       "3215"
      ],
      "text/latex": [
       "3215"
      ],
      "text/markdown": [
       "3215"
      ],
      "text/plain": [
       "[1] 3215"
      ]
     },
     "metadata": {},
     "output_type": "display_data"
    }
   ],
   "source": [
    "# Number of nomenclature terms (preferred terms + synonyms) for groups of disorders in German\n",
    "number_nomenclature_terms_group_german=number_synonyms_group_german + number_preferred_terms_group_german\n",
    "number_nomenclature_terms_group_german"
   ]
  },
  {
   "cell_type": "code",
   "execution_count": 81,
   "metadata": {},
   "outputs": [],
   "source": [
    "### We look for the disorders which have preferred terms\n",
    "# The flag is \"36547\" for disorders\n",
    "indice_list=1\n",
    "preferred_terms_disorder_german=list()\n",
    "for (i in 1:length(all_active_clinical_entities_german))\n",
    "  if (all_active_clinical_entities_german[[i]]$DisorderGroup$.attrs=='36547')\n",
    "  {\n",
    "    preferred_terms_disorder_german[[indice_list]]=data.frame(all_active_clinical_entities_german[[i]]$Name$text)\n",
    "    indice_list=indice_list+1\n",
    "  }\n",
    "preferred_terms_disorder_german=rbindlist(preferred_terms_disorder_german)\n",
    "preferred_terms_disorder_german=preferred_terms_disorder_german[!duplicated(preferred_terms_disorder_german)]\n",
    "names(preferred_terms_disorder_german)=c('Preferred_terms')"
   ]
  },
  {
   "cell_type": "code",
   "execution_count": 82,
   "metadata": {},
   "outputs": [],
   "source": [
    "# We look for the preferred terms present in English and German\n",
    "egal_disorder_german=merge(preferred_terms_disorder,preferred_terms_disorder_german,by='Preferred_terms')"
   ]
  },
  {
   "cell_type": "code",
   "execution_count": 83,
   "metadata": {},
   "outputs": [
    {
     "data": {
      "text/html": [
       "5990"
      ],
      "text/latex": [
       "5990"
      ],
      "text/markdown": [
       "5990"
      ],
      "text/plain": [
       "[1] 5990"
      ]
     },
     "metadata": {},
     "output_type": "display_data"
    }
   ],
   "source": [
    "# Number of preferred terms for disorders in German\n",
    "number_preferred_terms_disorder_german=nrow(preferred_terms_disorder_german)-nrow(egal_disorder_german)\n",
    "number_preferred_terms_disorder_german"
   ]
  },
  {
   "cell_type": "code",
   "execution_count": 84,
   "metadata": {},
   "outputs": [
    {
     "data": {
      "text/html": [
       "14831"
      ],
      "text/latex": [
       "14831"
      ],
      "text/markdown": [
       "14831"
      ],
      "text/plain": [
       "[1] 14831"
      ]
     },
     "metadata": {},
     "output_type": "display_data"
    }
   ],
   "source": [
    "# Number of nomenclature terms (preferred terms + synonyms) for disorders in German\n",
    "number_nomenclature_terms_disorder_german=number_synonyms_disorder_german + number_preferred_terms_disorder_german\n",
    "number_nomenclature_terms_disorder_german"
   ]
  },
  {
   "cell_type": "code",
   "execution_count": 85,
   "metadata": {},
   "outputs": [],
   "source": [
    "### We look for the subtypes of disorder which have preferred terms\n",
    "# The flag is \"36554\" for subtypes of disorder\n",
    "indice_list=1\n",
    "preferred_terms_subtype_german=list()\n",
    "for (i in 1:length(all_active_clinical_entities_german))\n",
    "  if (all_active_clinical_entities_german[[i]]$DisorderGroup$.attrs=='36554')\n",
    "  {\n",
    "    preferred_terms_subtype_german[[indice_list]]=data.frame(all_active_clinical_entities_german[[i]]$Name$text)\n",
    "    indice_list=indice_list+1\n",
    "  }\n",
    "preferred_terms_subtype_german=rbindlist(preferred_terms_subtype_german)\n",
    "preferred_terms_subtype_german=preferred_terms_subtype_german[!duplicated(preferred_terms_subtype_german)]\n",
    "names(preferred_terms_subtype_german)=c('Preferred_terms')"
   ]
  },
  {
   "cell_type": "code",
   "execution_count": 86,
   "metadata": {},
   "outputs": [],
   "source": [
    "# We look for the preferred terms present in English and German\n",
    "egal_subtype_german=merge(preferred_terms_subtype,preferred_terms_subtype_german,by='Preferred_terms')"
   ]
  },
  {
   "cell_type": "code",
   "execution_count": 87,
   "metadata": {},
   "outputs": [
    {
     "data": {
      "text/html": [
       "982"
      ],
      "text/latex": [
       "982"
      ],
      "text/markdown": [
       "982"
      ],
      "text/plain": [
       "[1] 982"
      ]
     },
     "metadata": {},
     "output_type": "display_data"
    }
   ],
   "source": [
    "# Number of preferred terms for subtypes of disorder in German\n",
    "number_preferred_terms_subtype_german=nrow(preferred_terms_subtype_german)-nrow(egal_subtype_german)\n",
    "number_preferred_terms_subtype_german"
   ]
  },
  {
   "cell_type": "code",
   "execution_count": 88,
   "metadata": {},
   "outputs": [
    {
     "data": {
      "text/html": [
       "2491"
      ],
      "text/latex": [
       "2491"
      ],
      "text/markdown": [
       "2491"
      ],
      "text/plain": [
       "[1] 2491"
      ]
     },
     "metadata": {},
     "output_type": "display_data"
    }
   ],
   "source": [
    "# Number of nomenclature terms (preferred terms + synonyms) for groups of disorders in  German\n",
    "number_nomenclature_terms_subtype_german=number_synonyms_subtype_german + number_preferred_terms_subtype_german\n",
    "number_nomenclature_terms_subtype_german"
   ]
  },
  {
   "cell_type": "code",
   "execution_count": 89,
   "metadata": {},
   "outputs": [
    {
     "data": {
      "text/html": [
       "20537"
      ],
      "text/latex": [
       "20537"
      ],
      "text/markdown": [
       "20537"
      ],
      "text/plain": [
       "[1] 20537"
      ]
     },
     "metadata": {},
     "output_type": "display_data"
    }
   ],
   "source": [
    "### Total number of nomenclature terms for active clinical entities in German\n",
    "total_number_nomenclature_terms_german=number_nomenclature_terms_subtype_german + \n",
    "  number_nomenclature_terms_disorder_german +\n",
    "  number_nomenclature_terms_group_german\n",
    "total_number_nomenclature_terms_german"
   ]
  },
  {
   "cell_type": "code",
   "execution_count": 90,
   "metadata": {},
   "outputs": [],
   "source": [
    "######## Dutch #########\n",
    "\n",
    "# We work on the file with datas in Dutch\n",
    "\n",
    "# We open xml \"product1_de_cross_jdbor_evo\"\n",
    "product1_dutch=xmlParse(\"product1_nl_cross_jdbor_evo.xml\")\n",
    "product1_dutch=xmlToList(product1_dutch)\n",
    "\n",
    "# We remove the last element of the list, which is the numeric count of all elements of the list\n",
    "product1_dutch=product1_dutch$DisorderList\n",
    "product1_dutch=product1_dutch[-length(product1_dutch)]\n",
    "\n",
    "### Our list for working\n",
    "indice_list=1\n",
    "product_dutch=list()\n",
    "for (i in 1:length(product1_dutch))\n",
    "{\n",
    "  product_dutch[[indice_list]]=product1_dutch[[i]]\n",
    "  indice_list=indice_list+1\n",
    "}\n",
    "# Each element in the list is a disorder"
   ]
  },
  {
   "cell_type": "code",
   "execution_count": 91,
   "metadata": {},
   "outputs": [],
   "source": [
    "# We previously need to select the active clinical entities:\n",
    "# Head of classification (flag=128), Historical entities (flag=512) & On-line (flag=1)\n",
    "indice_list=1\n",
    "all_active_clinical_entities_dutch=list()\n",
    "for (i in 1:length(product_dutch))\n",
    "  if (product_dutch[[i]]$DisorderFlagList$DisorderFlag$Value=='1' |\n",
    "      product_dutch[[i]]$DisorderFlagList$DisorderFlag$Value=='128' |\n",
    "      product_dutch[[i]]$DisorderFlagList$DisorderFlag$Value=='512')\n",
    "  {\n",
    "    all_active_clinical_entities_dutch[[indice_list]]=product_dutch[[i]]\n",
    "    indice_list=indice_list+1\n",
    "  }"
   ]
  },
  {
   "cell_type": "code",
   "execution_count": 92,
   "metadata": {},
   "outputs": [],
   "source": [
    "### We look for all the active clinical entities which have synonyms\n",
    "indice_list=1\n",
    "synonyms_total_dutch=list()\n",
    "for (i in 1:length(all_active_clinical_entities_dutch))\n",
    "{\n",
    "  synonyms_total_dutch[[indice_list]]=data.frame(as.numeric(all_active_clinical_entities_dutch[[i]]$SynonymList$.attrs))\n",
    "  indice_list=indice_list+1\n",
    "}\n",
    "synonyms_total_dutch=rbindlist(synonyms_total_dutch,use.names = TRUE)\n",
    "colnames(synonyms_total_dutch)=c('Number of synonyms')"
   ]
  },
  {
   "cell_type": "code",
   "execution_count": 93,
   "metadata": {},
   "outputs": [
    {
     "data": {
      "text/html": [
       "13275"
      ],
      "text/latex": [
       "13275"
      ],
      "text/markdown": [
       "13275"
      ],
      "text/plain": [
       "[1] 13275"
      ]
     },
     "metadata": {},
     "output_type": "display_data"
    }
   ],
   "source": [
    "# Total number of synonyms in Dutch\n",
    "total_number_synonyms_dutch=sum(synonyms_total_dutch)\n",
    "total_number_synonyms_dutch"
   ]
  },
  {
   "cell_type": "code",
   "execution_count": 94,
   "metadata": {},
   "outputs": [
    {
     "data": {
      "text/plain": [
       " Number of synonyms\n",
       " Min.   : 0.000    \n",
       " 1st Qu.: 0.000    \n",
       " Median : 1.000    \n",
       " Mean   : 1.421    \n",
       " 3rd Qu.: 2.000    \n",
       " Max.   :19.000    "
      ]
     },
     "metadata": {},
     "output_type": "display_data"
    }
   ],
   "source": [
    "# Statistics about all synonyms in Dutch\n",
    "stats_total_synonyms_dutch=summary(synonyms_total_dutch)\n",
    "stats_total_synonyms_dutch"
   ]
  },
  {
   "cell_type": "code",
   "execution_count": 95,
   "metadata": {},
   "outputs": [],
   "source": [
    "### We look for the groups of disorder which have synonyms\n",
    "# The flag is \"36540\" for groups of disorder\n",
    "indice_list=1\n",
    "synonyms_group_dutch=list()\n",
    "for (i in 1:length(all_active_clinical_entities_dutch))\n",
    "  if (all_active_clinical_entities_dutch[[i]]$DisorderGroup$.attrs=='36540')\n",
    "  {\n",
    "    synonyms_group_dutch[[indice_list]]=data.frame(as.numeric(all_active_clinical_entities_dutch[[i]]$SynonymList$.attrs))\n",
    "    indice_list=indice_list+1\n",
    "  }\n",
    "synonyms_group_dutch=rbindlist(synonyms_group_dutch,use.names = TRUE)\n",
    "colnames(synonyms_group_dutch)=c('Number of synonyms')"
   ]
  },
  {
   "cell_type": "code",
   "execution_count": 96,
   "metadata": {},
   "outputs": [
    {
     "data": {
      "text/html": [
       "1327"
      ],
      "text/latex": [
       "1327"
      ],
      "text/markdown": [
       "1327"
      ],
      "text/plain": [
       "[1] 1327"
      ]
     },
     "metadata": {},
     "output_type": "display_data"
    }
   ],
   "source": [
    "# Number of synonyms for groups of disorders in Dutch\n",
    "number_synonyms_group_dutch=sum(synonyms_group_dutch)\n",
    "number_synonyms_group_dutch"
   ]
  },
  {
   "cell_type": "code",
   "execution_count": 97,
   "metadata": {},
   "outputs": [
    {
     "data": {
      "text/html": [
       "9.99623352165725"
      ],
      "text/latex": [
       "9.99623352165725"
      ],
      "text/markdown": [
       "9.99623352165725"
      ],
      "text/plain": [
       "[1] 9.996234"
      ]
     },
     "metadata": {},
     "output_type": "display_data"
    }
   ],
   "source": [
    "# Percentage of synonyms for groups of disorders in Dutch\n",
    "percentage_synonyms_group_dutch=number_synonyms_group_dutch/total_number_synonyms_dutch*100\n",
    "percentage_synonyms_group_dutch"
   ]
  },
  {
   "cell_type": "code",
   "execution_count": 98,
   "metadata": {},
   "outputs": [
    {
     "data": {
      "text/plain": [
       " Number of synonyms\n",
       " Min.   : 0.0000   \n",
       " 1st Qu.: 0.0000   \n",
       " Median : 0.0000   \n",
       " Mean   : 0.6098   \n",
       " 3rd Qu.: 1.0000   \n",
       " Max.   :11.0000   "
      ]
     },
     "metadata": {},
     "output_type": "display_data"
    }
   ],
   "source": [
    "# Statistics about groups of disorder's synonyms in Dutch\n",
    "stats_synonyms_group_dutch=summary(synonyms_group_dutch)\n",
    "stats_synonyms_group_dutch"
   ]
  },
  {
   "cell_type": "code",
   "execution_count": 99,
   "metadata": {},
   "outputs": [],
   "source": [
    "### We look for the disorders which have synonyms\n",
    "# The flag is \"36547\" for disorders\n",
    "indice_list=1\n",
    "synonyms_disorder_dutch=list()\n",
    "for (i in 1:length(all_active_clinical_entities_dutch))\n",
    "  if (all_active_clinical_entities_dutch[[i]]$DisorderGroup$.attrs=='36547')\n",
    "  {\n",
    "    synonyms_disorder_dutch[[indice_list]]=data.frame(as.numeric(all_active_clinical_entities_dutch[[i]]$SynonymList$.attrs))\n",
    "    indice_list=indice_list+1\n",
    "  }\n",
    "synonyms_disorder_dutch=rbindlist(synonyms_disorder_dutch,use.names = TRUE)\n",
    "colnames(synonyms_disorder_dutch)=c('Number of synonyms')"
   ]
  },
  {
   "cell_type": "code",
   "execution_count": 100,
   "metadata": {},
   "outputs": [
    {
     "data": {
      "text/html": [
       "10215"
      ],
      "text/latex": [
       "10215"
      ],
      "text/markdown": [
       "10215"
      ],
      "text/plain": [
       "[1] 10215"
      ]
     },
     "metadata": {},
     "output_type": "display_data"
    }
   ],
   "source": [
    "# Number of synonyms for disorders in Dutch\n",
    "number_synonyms_disorder_dutch=sum(synonyms_disorder_dutch)\n",
    "number_synonyms_disorder_dutch"
   ]
  },
  {
   "cell_type": "code",
   "execution_count": 101,
   "metadata": {},
   "outputs": [
    {
     "data": {
      "text/html": [
       "76.9491525423729"
      ],
      "text/latex": [
       "76.9491525423729"
      ],
      "text/markdown": [
       "76.9491525423729"
      ],
      "text/plain": [
       "[1] 76.94915"
      ]
     },
     "metadata": {},
     "output_type": "display_data"
    }
   ],
   "source": [
    "### Percentage of synonyms for disorders in Dutch\n",
    "percentage_synonyms_disorder_dutch=number_synonyms_disorder_dutch/total_number_synonyms_dutch*100\n",
    "percentage_synonyms_disorder_dutch"
   ]
  },
  {
   "cell_type": "code",
   "execution_count": 102,
   "metadata": {},
   "outputs": [
    {
     "data": {
      "text/plain": [
       " Number of synonyms\n",
       " Min.   : 0.000    \n",
       " 1st Qu.: 0.000    \n",
       " Median : 1.000    \n",
       " Mean   : 1.656    \n",
       " 3rd Qu.: 2.000    \n",
       " Max.   :16.000    "
      ]
     },
     "metadata": {},
     "output_type": "display_data"
    }
   ],
   "source": [
    "# Statistics about disorder' synonyms in Dutch\n",
    "stats_synonyms_disorder_dutch=summary(synonyms_disorder_dutch)\n",
    "stats_synonyms_disorder_dutch"
   ]
  },
  {
   "cell_type": "code",
   "execution_count": 103,
   "metadata": {},
   "outputs": [],
   "source": [
    "### We look for the subtypes of disorder which have synonyms\n",
    "# The flag is \"36554\" for subtypes of disorder\n",
    "indice_list=1\n",
    "synonyms_subtype_dutch=list()\n",
    "for (i in 1:length(all_active_clinical_entities_dutch))\n",
    "  if (all_active_clinical_entities_dutch[[i]]$DisorderGroup$.attrs=='36554')\n",
    "  {\n",
    "    synonyms_subtype_dutch[[indice_list]]=data.frame(as.numeric(all_active_clinical_entities_dutch[[i]]$SynonymList$.attrs))\n",
    "    indice_list=indice_list+1\n",
    "  }\n",
    "synonyms_subtype_dutch=rbindlist(synonyms_subtype_dutch,use.names = TRUE)\n",
    "colnames(synonyms_subtype_dutch)=c('Number of synonyms')"
   ]
  },
  {
   "cell_type": "code",
   "execution_count": 104,
   "metadata": {},
   "outputs": [
    {
     "data": {
      "text/html": [
       "1733"
      ],
      "text/latex": [
       "1733"
      ],
      "text/markdown": [
       "1733"
      ],
      "text/plain": [
       "[1] 1733"
      ]
     },
     "metadata": {},
     "output_type": "display_data"
    }
   ],
   "source": [
    "# Number of synonyms for subtypes of disorders in Dutch\n",
    "number_synonyms_subtype_dutch=sum(synonyms_subtype_dutch)\n",
    "number_synonyms_subtype_dutch"
   ]
  },
  {
   "cell_type": "code",
   "execution_count": 105,
   "metadata": {},
   "outputs": [
    {
     "data": {
      "text/html": [
       "13.0546139359699"
      ],
      "text/latex": [
       "13.0546139359699"
      ],
      "text/markdown": [
       "13.0546139359699"
      ],
      "text/plain": [
       "[1] 13.05461"
      ]
     },
     "metadata": {},
     "output_type": "display_data"
    }
   ],
   "source": [
    "# Percentage of synonyms for subtypes of disorders in Dutch\n",
    "percentage_synonyms_subtype_dutch=number_synonyms_subtype_dutch/total_number_synonyms_dutch*100\n",
    "percentage_synonyms_subtype_dutch"
   ]
  },
  {
   "cell_type": "code",
   "execution_count": 106,
   "metadata": {},
   "outputs": [
    {
     "data": {
      "text/plain": [
       " Number of synonyms\n",
       " Min.   : 0.000    \n",
       " 1st Qu.: 0.000    \n",
       " Median : 1.000    \n",
       " Mean   : 1.736    \n",
       " 3rd Qu.: 2.000    \n",
       " Max.   :19.000    "
      ]
     },
     "metadata": {},
     "output_type": "display_data"
    }
   ],
   "source": [
    "# Statistics about subtypes of disorder's synonyms in Dutch\n",
    "stats_synonyms_subtype_dutch=summary(synonyms_subtype_dutch)\n",
    "stats_synonyms_subtype_dutch"
   ]
  },
  {
   "cell_type": "code",
   "execution_count": 107,
   "metadata": {},
   "outputs": [],
   "source": [
    "###############################################################################################\n",
    "\n",
    "\n",
    "##### Number of nomenclature terms (preferred terms + synonyms) in Dutch\n",
    "\n",
    "\n",
    "### We look for the groups of disorder which have preferred terms\n",
    "# The flag is \"36540\" for groups of disorder\n",
    "indice_list=1\n",
    "preferred_terms_group_dutch=list()\n",
    "for (i in 1:length(all_active_clinical_entities_dutch))\n",
    "  if (all_active_clinical_entities_dutch[[i]]$DisorderGroup$.attrs=='36540')\n",
    "  {\n",
    "    preferred_terms_group_dutch[[indice_list]]=data.frame(all_active_clinical_entities_dutch[[i]]$Name$text)\n",
    "    indice_list=indice_list+1\n",
    "  }\n",
    "preferred_terms_group_dutch=rbindlist(preferred_terms_group_dutch)\n",
    "preferred_terms_group_dutch=preferred_terms_group_dutch[!duplicated(preferred_terms_group_dutch)]\n",
    "names(preferred_terms_group_dutch)=c('Preferred_terms')"
   ]
  },
  {
   "cell_type": "code",
   "execution_count": 108,
   "metadata": {},
   "outputs": [],
   "source": [
    "# We look for the preferred terms present in English and Dutch\n",
    "egal_group_dutch=merge(preferred_terms_group,preferred_terms_group_dutch,by='Preferred_terms')"
   ]
  },
  {
   "cell_type": "code",
   "execution_count": 109,
   "metadata": {},
   "outputs": [
    {
     "data": {
      "text/html": [
       "2158"
      ],
      "text/latex": [
       "2158"
      ],
      "text/markdown": [
       "2158"
      ],
      "text/plain": [
       "[1] 2158"
      ]
     },
     "metadata": {},
     "output_type": "display_data"
    }
   ],
   "source": [
    "# Number of preferred terms for groups of disorder in Dutch\n",
    "number_preferred_terms_group_dutch=nrow(preferred_terms_group_dutch)-nrow(egal_group_dutch)\n",
    "number_preferred_terms_group_dutch"
   ]
  },
  {
   "cell_type": "code",
   "execution_count": 110,
   "metadata": {},
   "outputs": [
    {
     "data": {
      "text/html": [
       "3485"
      ],
      "text/latex": [
       "3485"
      ],
      "text/markdown": [
       "3485"
      ],
      "text/plain": [
       "[1] 3485"
      ]
     },
     "metadata": {},
     "output_type": "display_data"
    }
   ],
   "source": [
    "# Number of nomenclature terms (preferred terms + synonyms) for groups of disorders in Dutch\n",
    "number_nomenclature_terms_group_dutch=number_synonyms_group_dutch + number_preferred_terms_group_dutch\n",
    "number_nomenclature_terms_group_dutch"
   ]
  },
  {
   "cell_type": "code",
   "execution_count": 111,
   "metadata": {},
   "outputs": [],
   "source": [
    "### We look for the disorders which have preferred terms\n",
    "# The flag is \"36547\" for disorders\n",
    "indice_list=1\n",
    "preferred_terms_disorder_dutch=list()\n",
    "for (i in 1:length(all_active_clinical_entities_dutch))\n",
    "  if (all_active_clinical_entities_dutch[[i]]$DisorderGroup$.attrs=='36547')\n",
    "  {\n",
    "    preferred_terms_disorder_dutch[[indice_list]]=data.frame(all_active_clinical_entities_dutch[[i]]$Name$text)\n",
    "    indice_list=indice_list+1\n",
    "  }\n",
    "preferred_terms_disorder_dutch=rbindlist(preferred_terms_disorder_dutch)\n",
    "preferred_terms_disorder_dutch=preferred_terms_disorder_dutch[!duplicated(preferred_terms_disorder_dutch)]\n",
    "names(preferred_terms_disorder_dutch)=c('Preferred_terms')"
   ]
  },
  {
   "cell_type": "code",
   "execution_count": 112,
   "metadata": {},
   "outputs": [],
   "source": [
    "# We look for the preferred terms present in English and Dutch\n",
    "egal_disorder_dutch=merge(preferred_terms_disorder,preferred_terms_disorder_dutch,by='Preferred_terms')"
   ]
  },
  {
   "cell_type": "code",
   "execution_count": 113,
   "metadata": {},
   "outputs": [
    {
     "data": {
      "text/html": [
       "5954"
      ],
      "text/latex": [
       "5954"
      ],
      "text/markdown": [
       "5954"
      ],
      "text/plain": [
       "[1] 5954"
      ]
     },
     "metadata": {},
     "output_type": "display_data"
    }
   ],
   "source": [
    "# Number of preferred terms for disorders in Dutch\n",
    "number_preferred_terms_disorder_dutch=nrow(preferred_terms_disorder_dutch)-nrow(egal_disorder_dutch)\n",
    "number_preferred_terms_disorder_dutch"
   ]
  },
  {
   "cell_type": "code",
   "execution_count": 114,
   "metadata": {},
   "outputs": [
    {
     "data": {
      "text/html": [
       "16169"
      ],
      "text/latex": [
       "16169"
      ],
      "text/markdown": [
       "16169"
      ],
      "text/plain": [
       "[1] 16169"
      ]
     },
     "metadata": {},
     "output_type": "display_data"
    }
   ],
   "source": [
    "# Number of nomenclature terms (preferred terms + synonyms) for disorders in Dutch\n",
    "number_nomenclature_terms_disorder_dutch=number_synonyms_disorder_dutch + number_preferred_terms_disorder_dutch\n",
    "number_nomenclature_terms_disorder_dutch"
   ]
  },
  {
   "cell_type": "code",
   "execution_count": 115,
   "metadata": {},
   "outputs": [],
   "source": [
    "### We look for the subtypes of disorder which have preferred terms\n",
    "# The flag is \"36554\" for subtypes of disorder\n",
    "indice_list=1\n",
    "preferred_terms_subtype_dutch=list()\n",
    "for (i in 1:length(all_active_clinical_entities_dutch))\n",
    "  if (all_active_clinical_entities_dutch[[i]]$DisorderGroup$.attrs=='36554')\n",
    "  {\n",
    "    preferred_terms_subtype_dutch[[indice_list]]=data.frame(all_active_clinical_entities_dutch[[i]]$Name$text)\n",
    "    indice_list=indice_list+1\n",
    "  }\n",
    "preferred_terms_subtype_dutch=rbindlist(preferred_terms_subtype_dutch)\n",
    "preferred_terms_subtype_dutch=preferred_terms_subtype_dutch[!duplicated(preferred_terms_subtype_dutch)]\n",
    "names(preferred_terms_subtype_dutch)=c('Preferred_terms')"
   ]
  },
  {
   "cell_type": "code",
   "execution_count": 116,
   "metadata": {},
   "outputs": [],
   "source": [
    "# We look for the preferred terms present in English and Dutch\n",
    "egal_subtype_dutch=merge(preferred_terms_subtype,preferred_terms_subtype_dutch,by='Preferred_terms')"
   ]
  },
  {
   "cell_type": "code",
   "execution_count": 117,
   "metadata": {},
   "outputs": [
    {
     "data": {
      "text/html": [
       "970"
      ],
      "text/latex": [
       "970"
      ],
      "text/markdown": [
       "970"
      ],
      "text/plain": [
       "[1] 970"
      ]
     },
     "metadata": {},
     "output_type": "display_data"
    }
   ],
   "source": [
    "# Number of preferred terms for subtypes of disorder in Dutch\n",
    "number_preferred_terms_subtype_dutch=nrow(preferred_terms_subtype_dutch)-nrow(egal_subtype_dutch)\n",
    "number_preferred_terms_subtype_dutch"
   ]
  },
  {
   "cell_type": "code",
   "execution_count": 118,
   "metadata": {},
   "outputs": [
    {
     "data": {
      "text/html": [
       "2703"
      ],
      "text/latex": [
       "2703"
      ],
      "text/markdown": [
       "2703"
      ],
      "text/plain": [
       "[1] 2703"
      ]
     },
     "metadata": {},
     "output_type": "display_data"
    }
   ],
   "source": [
    "# Number of nomenclature terms (preferred terms + synonyms) for groups of disorders in  Dutch\n",
    "number_nomenclature_terms_subtype_dutch=number_synonyms_subtype_dutch + number_preferred_terms_subtype_dutch\n",
    "number_nomenclature_terms_subtype_dutch"
   ]
  },
  {
   "cell_type": "code",
   "execution_count": 119,
   "metadata": {},
   "outputs": [
    {
     "data": {
      "text/html": [
       "22357"
      ],
      "text/latex": [
       "22357"
      ],
      "text/markdown": [
       "22357"
      ],
      "text/plain": [
       "[1] 22357"
      ]
     },
     "metadata": {},
     "output_type": "display_data"
    }
   ],
   "source": [
    "### Total number of nomenclature terms for active clinical entities in Dutch\n",
    "total_number_nomenclature_terms_dutch=number_nomenclature_terms_subtype_dutch + \n",
    "  number_nomenclature_terms_disorder_dutch +\n",
    "  number_nomenclature_terms_group_dutch\n",
    "total_number_nomenclature_terms_dutch"
   ]
  },
  {
   "cell_type": "code",
   "execution_count": 120,
   "metadata": {},
   "outputs": [],
   "source": [
    "######## ITALIAN #########\n",
    "\n",
    "# We work on the file with datas in Italian\n",
    "\n",
    "# We open xml \"product1_de_cross_jdbor_evo\"\n",
    "product1_italian=xmlParse(\"product1_it_cross_jdbor_evo.xml\")\n",
    "product1_italian=xmlToList(product1_italian)\n",
    "\n",
    "# We remove the last element of the list, which is the numeric count of all elements of the list\n",
    "product1_italian=product1_italian$DisorderList\n",
    "product1_italian=product1_italian[-length(product1_italian)]\n",
    "\n",
    "### Our list for working\n",
    "indice_list=1\n",
    "product_italian=list()\n",
    "for (i in 1:length(product1_italian))\n",
    "{\n",
    "  product_italian[[indice_list]]=product1_italian[[i]]\n",
    "  indice_list=indice_list+1\n",
    "}\n",
    "# Each element in the list is a disorder"
   ]
  },
  {
   "cell_type": "code",
   "execution_count": 121,
   "metadata": {},
   "outputs": [],
   "source": [
    "# We previously need to select the active clinical entities:\n",
    "# Head of classification (flag=128), Historical entities (flag=512) & On-line (flag=1)\n",
    "indice_list=1\n",
    "all_active_clinical_entities_italian=list()\n",
    "for (i in 1:length(product_italian))\n",
    "  if (product_italian[[i]]$DisorderFlagList$DisorderFlag$Value=='1' |\n",
    "      product_italian[[i]]$DisorderFlagList$DisorderFlag$Value=='128' |\n",
    "      product_italian[[i]]$DisorderFlagList$DisorderFlag$Value=='512')\n",
    "  {\n",
    "    all_active_clinical_entities_italian[[indice_list]]=product_italian[[i]]\n",
    "    indice_list=indice_list+1\n",
    "  }"
   ]
  },
  {
   "cell_type": "code",
   "execution_count": 122,
   "metadata": {},
   "outputs": [],
   "source": [
    "### We look for all the active clinical entities which have synonyms\n",
    "indice_list=1\n",
    "synonyms_total_italian=list()\n",
    "for (i in 1:length(all_active_clinical_entities_italian))\n",
    "{\n",
    "  synonyms_total_italian[[indice_list]]=data.frame(as.numeric(all_active_clinical_entities_italian[[i]]$SynonymList$.attrs))\n",
    "  indice_list=indice_list+1\n",
    "}\n",
    "synonyms_total_italian=rbindlist(synonyms_total_italian,use.names = TRUE)\n",
    "colnames(synonyms_total_italian)=c('Number of synonyms')"
   ]
  },
  {
   "cell_type": "code",
   "execution_count": 123,
   "metadata": {},
   "outputs": [
    {
     "data": {
      "text/html": [
       "10136"
      ],
      "text/latex": [
       "10136"
      ],
      "text/markdown": [
       "10136"
      ],
      "text/plain": [
       "[1] 10136"
      ]
     },
     "metadata": {},
     "output_type": "display_data"
    }
   ],
   "source": [
    "# Total number of synonyms in Italian\n",
    "total_number_synonyms_italian=sum(synonyms_total_italian)\n",
    "total_number_synonyms_italian"
   ]
  },
  {
   "cell_type": "code",
   "execution_count": 124,
   "metadata": {},
   "outputs": [
    {
     "data": {
      "text/plain": [
       " Number of synonyms\n",
       " Min.   : 0.000    \n",
       " 1st Qu.: 0.000    \n",
       " Median : 1.000    \n",
       " Mean   : 1.085    \n",
       " 3rd Qu.: 2.000    \n",
       " Max.   :15.000    "
      ]
     },
     "metadata": {},
     "output_type": "display_data"
    }
   ],
   "source": [
    "# Statistics about all synonyms in Italian\n",
    "stats_total_synonyms_italian=summary(synonyms_total_italian)\n",
    "stats_total_synonyms_italian"
   ]
  },
  {
   "cell_type": "code",
   "execution_count": 125,
   "metadata": {},
   "outputs": [],
   "source": [
    "### We look for the groups of disorder which have synonyms\n",
    "# The flag is \"36540\" for groups of disorder\n",
    "indice_list=1\n",
    "synonyms_group_italian=list()\n",
    "for (i in 1:length(all_active_clinical_entities_italian))\n",
    "  if (all_active_clinical_entities_italian[[i]]$DisorderGroup$.attrs=='36540')\n",
    "  {\n",
    "    synonyms_group_italian[[indice_list]]=data.frame(as.numeric(all_active_clinical_entities_italian[[i]]$SynonymList$.attrs))\n",
    "    indice_list=indice_list+1\n",
    "  }\n",
    "synonyms_group_italian=rbindlist(synonyms_group_italian,use.names = TRUE)\n",
    "colnames(synonyms_group_italian)=c('Number of synonyms')"
   ]
  },
  {
   "cell_type": "code",
   "execution_count": 126,
   "metadata": {},
   "outputs": [
    {
     "data": {
      "text/html": [
       "1028"
      ],
      "text/latex": [
       "1028"
      ],
      "text/markdown": [
       "1028"
      ],
      "text/plain": [
       "[1] 1028"
      ]
     },
     "metadata": {},
     "output_type": "display_data"
    }
   ],
   "source": [
    "# Number of synonyms for groups of disorders in Italian\n",
    "number_synonyms_group_italian=sum(synonyms_group_italian)\n",
    "number_synonyms_group_italian"
   ]
  },
  {
   "cell_type": "code",
   "execution_count": 127,
   "metadata": {},
   "outputs": [
    {
     "data": {
      "text/html": [
       "10.1420678768745"
      ],
      "text/latex": [
       "10.1420678768745"
      ],
      "text/markdown": [
       "10.1420678768745"
      ],
      "text/plain": [
       "[1] 10.14207"
      ]
     },
     "metadata": {},
     "output_type": "display_data"
    }
   ],
   "source": [
    "# Percentage of synonyms for groups of disorders in Italian\n",
    "percentage_synonyms_group_italian=number_synonyms_group_italian/total_number_synonyms_italian*100\n",
    "percentage_synonyms_group_italian"
   ]
  },
  {
   "cell_type": "code",
   "execution_count": 128,
   "metadata": {},
   "outputs": [
    {
     "data": {
      "text/plain": [
       " Number of synonyms\n",
       " Min.   : 0.0000   \n",
       " 1st Qu.: 0.0000   \n",
       " Median : 0.0000   \n",
       " Mean   : 0.4724   \n",
       " 3rd Qu.: 1.0000   \n",
       " Max.   :10.0000   "
      ]
     },
     "metadata": {},
     "output_type": "display_data"
    }
   ],
   "source": [
    "# Statistics about groups of disorder's synonyms in Italian\n",
    "stats_synonyms_group_italian=summary(synonyms_group_italian)\n",
    "stats_synonyms_group_italian"
   ]
  },
  {
   "cell_type": "code",
   "execution_count": 129,
   "metadata": {},
   "outputs": [],
   "source": [
    "### We look for the disorders which have synonyms\n",
    "# The flag is \"36547\" for disorders\n",
    "indice_list=1\n",
    "synonyms_disorder_italian=list()\n",
    "for (i in 1:length(all_active_clinical_entities_italian))\n",
    "  if (all_active_clinical_entities_italian[[i]]$DisorderGroup$.attrs=='36547')\n",
    "  {\n",
    "    synonyms_disorder_italian[[indice_list]]=data.frame(as.numeric(all_active_clinical_entities_italian[[i]]$SynonymList$.attrs))\n",
    "    indice_list=indice_list+1\n",
    "  }\n",
    "synonyms_disorder_italian=rbindlist(synonyms_disorder_italian,use.names = TRUE)\n",
    "colnames(synonyms_disorder_italian)=c('Number of synonyms')"
   ]
  },
  {
   "cell_type": "code",
   "execution_count": 130,
   "metadata": {},
   "outputs": [
    {
     "data": {
      "text/html": [
       "7749"
      ],
      "text/latex": [
       "7749"
      ],
      "text/markdown": [
       "7749"
      ],
      "text/plain": [
       "[1] 7749"
      ]
     },
     "metadata": {},
     "output_type": "display_data"
    }
   ],
   "source": [
    "# Number of synonyms for disorders in Italian\n",
    "number_synonyms_disorder_italian=sum(synonyms_disorder_italian)\n",
    "number_synonyms_disorder_italian"
   ]
  },
  {
   "cell_type": "code",
   "execution_count": 131,
   "metadata": {},
   "outputs": [
    {
     "data": {
      "text/html": [
       "76.4502762430939"
      ],
      "text/latex": [
       "76.4502762430939"
      ],
      "text/markdown": [
       "76.4502762430939"
      ],
      "text/plain": [
       "[1] 76.45028"
      ]
     },
     "metadata": {},
     "output_type": "display_data"
    }
   ],
   "source": [
    "### Percentage of synonyms for disorders in Italian\n",
    "percentage_synonyms_disorder_italian=number_synonyms_disorder_italian/total_number_synonyms_italian*100\n",
    "percentage_synonyms_disorder_italian"
   ]
  },
  {
   "cell_type": "code",
   "execution_count": 132,
   "metadata": {},
   "outputs": [
    {
     "data": {
      "text/plain": [
       " Number of synonyms\n",
       " Min.   : 0.000    \n",
       " 1st Qu.: 0.000    \n",
       " Median : 1.000    \n",
       " Mean   : 1.257    \n",
       " 3rd Qu.: 2.000    \n",
       " Max.   :15.000    "
      ]
     },
     "metadata": {},
     "output_type": "display_data"
    }
   ],
   "source": [
    "# Statistics about disorder' synonyms in Italian\n",
    "stats_synonyms_disorder_italian=summary(synonyms_disorder_italian)\n",
    "stats_synonyms_disorder_italian"
   ]
  },
  {
   "cell_type": "code",
   "execution_count": 133,
   "metadata": {},
   "outputs": [],
   "source": [
    "### We look for the subtypes of disorder which have synonyms\n",
    "# The flag is \"36554\" for subtypes of disorder\n",
    "indice_list=1\n",
    "synonyms_subtype_italian=list()\n",
    "for (i in 1:length(all_active_clinical_entities_italian))\n",
    "  if (all_active_clinical_entities_italian[[i]]$DisorderGroup$.attrs=='36554')\n",
    "  {\n",
    "    synonyms_subtype_italian[[indice_list]]=data.frame(as.numeric(all_active_clinical_entities_italian[[i]]$SynonymList$.attrs))\n",
    "    indice_list=indice_list+1\n",
    "  }\n",
    "synonyms_subtype_italian=rbindlist(synonyms_subtype_italian,use.names = TRUE)\n",
    "colnames(synonyms_subtype_italian)=c('Number of synonyms')"
   ]
  },
  {
   "cell_type": "code",
   "execution_count": 134,
   "metadata": {},
   "outputs": [
    {
     "data": {
      "text/html": [
       "1359"
      ],
      "text/latex": [
       "1359"
      ],
      "text/markdown": [
       "1359"
      ],
      "text/plain": [
       "[1] 1359"
      ]
     },
     "metadata": {},
     "output_type": "display_data"
    }
   ],
   "source": [
    "# Number of synonyms for subtypes of disorders in Italian\n",
    "number_synonyms_subtype_italian=sum(synonyms_subtype_italian)\n",
    "number_synonyms_subtype_italian"
   ]
  },
  {
   "cell_type": "code",
   "execution_count": 135,
   "metadata": {},
   "outputs": [
    {
     "data": {
      "text/html": [
       "13.4076558800316"
      ],
      "text/latex": [
       "13.4076558800316"
      ],
      "text/markdown": [
       "13.4076558800316"
      ],
      "text/plain": [
       "[1] 13.40766"
      ]
     },
     "metadata": {},
     "output_type": "display_data"
    }
   ],
   "source": [
    "# Percentage of synonyms for subtypes of disorders in Italian\n",
    "percentage_synonyms_subtype_italian=number_synonyms_subtype_italian/total_number_synonyms_italian*100\n",
    "percentage_synonyms_subtype_italian"
   ]
  },
  {
   "cell_type": "code",
   "execution_count": 136,
   "metadata": {},
   "outputs": [
    {
     "data": {
      "text/plain": [
       " Number of synonyms\n",
       " Min.   : 0.000    \n",
       " 1st Qu.: 0.000    \n",
       " Median : 1.000    \n",
       " Mean   : 1.362    \n",
       " 3rd Qu.: 2.000    \n",
       " Max.   :15.000    "
      ]
     },
     "metadata": {},
     "output_type": "display_data"
    }
   ],
   "source": [
    "# Statistics about subtypes of disorder's synonyms in Italian\n",
    "stats_synonyms_subtype_italian=summary(synonyms_subtype_italian)\n",
    "stats_synonyms_subtype_italian"
   ]
  },
  {
   "cell_type": "code",
   "execution_count": 137,
   "metadata": {},
   "outputs": [],
   "source": [
    "###############################################################################################\n",
    "\n",
    "\n",
    "##### Number of nomenclature terms (preferred terms + synonyms) in Italian\n",
    "\n",
    "\n",
    "### We look for the groups of disorder which have preferred terms\n",
    "# The flag is \"36540\" for groups of disorder\n",
    "indice_list=1\n",
    "preferred_terms_group_italian=list()\n",
    "for (i in 1:length(all_active_clinical_entities_italian))\n",
    "  if (all_active_clinical_entities_italian[[i]]$DisorderGroup$.attrs=='36540')\n",
    "  {\n",
    "    preferred_terms_group_italian[[indice_list]]=data.frame(all_active_clinical_entities_italian[[i]]$Name$text)\n",
    "    indice_list=indice_list+1\n",
    "  }\n",
    "preferred_terms_group_italian=rbindlist(preferred_terms_group_italian)\n",
    "preferred_terms_group_italian=preferred_terms_group_italian[!duplicated(preferred_terms_group_italian)]\n",
    "names(preferred_terms_group_italian)=c('Preferred_terms')"
   ]
  },
  {
   "cell_type": "code",
   "execution_count": 138,
   "metadata": {},
   "outputs": [],
   "source": [
    "# We look for the preferred terms present in English and Italian\n",
    "egal_group_italian=merge(preferred_terms_group,preferred_terms_group_italian,by='Preferred_terms')"
   ]
  },
  {
   "cell_type": "code",
   "execution_count": 139,
   "metadata": {},
   "outputs": [
    {
     "data": {
      "text/html": [
       "2148"
      ],
      "text/latex": [
       "2148"
      ],
      "text/markdown": [
       "2148"
      ],
      "text/plain": [
       "[1] 2148"
      ]
     },
     "metadata": {},
     "output_type": "display_data"
    }
   ],
   "source": [
    "# Number of preferred terms for groups of disorder in Italian\n",
    "number_preferred_terms_group_italian=nrow(preferred_terms_group_italian)-nrow(egal_group_italian)\n",
    "number_preferred_terms_group_italian"
   ]
  },
  {
   "cell_type": "code",
   "execution_count": 140,
   "metadata": {},
   "outputs": [
    {
     "data": {
      "text/html": [
       "3176"
      ],
      "text/latex": [
       "3176"
      ],
      "text/markdown": [
       "3176"
      ],
      "text/plain": [
       "[1] 3176"
      ]
     },
     "metadata": {},
     "output_type": "display_data"
    }
   ],
   "source": [
    "# Number of nomenclature terms (preferred terms + synonyms) for groups of disorders in Italian\n",
    "number_nomenclature_terms_group_italian=number_synonyms_group_italian + number_preferred_terms_group_italian\n",
    "number_nomenclature_terms_group_italian"
   ]
  },
  {
   "cell_type": "code",
   "execution_count": 141,
   "metadata": {},
   "outputs": [],
   "source": [
    "### We look for the disorders which have preferred terms\n",
    "# The flag is \"36547\" for disorders\n",
    "indice_list=1\n",
    "preferred_terms_disorder_italian=list()\n",
    "for (i in 1:length(all_active_clinical_entities_italian))\n",
    "  if (all_active_clinical_entities_italian[[i]]$DisorderGroup$.attrs=='36547')\n",
    "  {\n",
    "    preferred_terms_disorder_italian[[indice_list]]=data.frame(all_active_clinical_entities_italian[[i]]$Name$text)\n",
    "    indice_list=indice_list+1\n",
    "  }\n",
    "preferred_terms_disorder_italian=rbindlist(preferred_terms_disorder_italian)\n",
    "preferred_terms_disorder_italian=preferred_terms_disorder_italian[!duplicated(preferred_terms_disorder_italian)]\n",
    "names(preferred_terms_disorder_italian)=c('Preferred_terms')"
   ]
  },
  {
   "cell_type": "code",
   "execution_count": 142,
   "metadata": {},
   "outputs": [],
   "source": [
    "# We look for the preferred terms present in English and Italian\n",
    "egal_disorder_italian=merge(preferred_terms_disorder,preferred_terms_disorder_italian,by='Preferred_terms')"
   ]
  },
  {
   "cell_type": "code",
   "execution_count": 143,
   "metadata": {},
   "outputs": [
    {
     "data": {
      "text/html": [
       "5955"
      ],
      "text/latex": [
       "5955"
      ],
      "text/markdown": [
       "5955"
      ],
      "text/plain": [
       "[1] 5955"
      ]
     },
     "metadata": {},
     "output_type": "display_data"
    }
   ],
   "source": [
    "# Number of preferred terms for disorders in Italian\n",
    "number_preferred_terms_disorder_italian=nrow(preferred_terms_disorder_italian)-nrow(egal_disorder_italian)\n",
    "number_preferred_terms_disorder_italian"
   ]
  },
  {
   "cell_type": "code",
   "execution_count": 144,
   "metadata": {},
   "outputs": [
    {
     "data": {
      "text/html": [
       "13704"
      ],
      "text/latex": [
       "13704"
      ],
      "text/markdown": [
       "13704"
      ],
      "text/plain": [
       "[1] 13704"
      ]
     },
     "metadata": {},
     "output_type": "display_data"
    }
   ],
   "source": [
    "# Number of nomenclature terms (preferred terms + synonyms) for disorders in Italian\n",
    "number_nomenclature_terms_disorder_italian=number_synonyms_disorder_italian + number_preferred_terms_disorder_italian\n",
    "number_nomenclature_terms_disorder_italian"
   ]
  },
  {
   "cell_type": "code",
   "execution_count": 145,
   "metadata": {},
   "outputs": [],
   "source": [
    "### We look for the subtypes of disorder which have preferred terms\n",
    "# The flag is \"36554\" for subtypes of disorder\n",
    "indice_list=1\n",
    "preferred_terms_subtype_italian=list()\n",
    "for (i in 1:length(all_active_clinical_entities_italian))\n",
    "  if (all_active_clinical_entities_italian[[i]]$DisorderGroup$.attrs=='36554')\n",
    "  {\n",
    "    preferred_terms_subtype_italian[[indice_list]]=data.frame(all_active_clinical_entities_italian[[i]]$Name$text)\n",
    "    indice_list=indice_list+1\n",
    "  }\n",
    "preferred_terms_subtype_italian=rbindlist(preferred_terms_subtype_italian)\n",
    "preferred_terms_subtype_italian=preferred_terms_subtype_italian[!duplicated(preferred_terms_subtype_italian)]\n",
    "names(preferred_terms_subtype_italian)=c('Preferred_terms')"
   ]
  },
  {
   "cell_type": "code",
   "execution_count": 146,
   "metadata": {},
   "outputs": [],
   "source": [
    "# We look for the preferred terms present in English and Italian\n",
    "egal_subtype_italian=merge(preferred_terms_subtype,preferred_terms_subtype_italian,by='Preferred_terms')"
   ]
  },
  {
   "cell_type": "code",
   "execution_count": 147,
   "metadata": {},
   "outputs": [
    {
     "data": {
      "text/html": [
       "933"
      ],
      "text/latex": [
       "933"
      ],
      "text/markdown": [
       "933"
      ],
      "text/plain": [
       "[1] 933"
      ]
     },
     "metadata": {},
     "output_type": "display_data"
    }
   ],
   "source": [
    "# Number of preferred terms for subtypes of disorder in Italian\n",
    "number_preferred_terms_subtype_italian=nrow(preferred_terms_subtype_italian)-nrow(egal_subtype_italian)\n",
    "number_preferred_terms_subtype_italian"
   ]
  },
  {
   "cell_type": "code",
   "execution_count": 148,
   "metadata": {},
   "outputs": [
    {
     "data": {
      "text/html": [
       "2292"
      ],
      "text/latex": [
       "2292"
      ],
      "text/markdown": [
       "2292"
      ],
      "text/plain": [
       "[1] 2292"
      ]
     },
     "metadata": {},
     "output_type": "display_data"
    }
   ],
   "source": [
    "# Number of nomenclature terms (preferred terms + synonyms) for groups of disorders in Italian\n",
    "number_nomenclature_terms_subtype_italian=number_synonyms_subtype_italian + number_preferred_terms_subtype_italian\n",
    "number_nomenclature_terms_subtype_italian"
   ]
  },
  {
   "cell_type": "code",
   "execution_count": 149,
   "metadata": {},
   "outputs": [
    {
     "data": {
      "text/html": [
       "19172"
      ],
      "text/latex": [
       "19172"
      ],
      "text/markdown": [
       "19172"
      ],
      "text/plain": [
       "[1] 19172"
      ]
     },
     "metadata": {},
     "output_type": "display_data"
    }
   ],
   "source": [
    "### Total number of nomenclature terms for active clinical entities in Italian\n",
    "total_number_nomenclature_terms_italian=number_nomenclature_terms_subtype_italian + \n",
    "  number_nomenclature_terms_disorder_italian +\n",
    "  number_nomenclature_terms_group_italian\n",
    "total_number_nomenclature_terms_italian"
   ]
  },
  {
   "cell_type": "code",
   "execution_count": 150,
   "metadata": {},
   "outputs": [],
   "source": [
    "######## SPANISH #########\n",
    "\n",
    "# We work on the file with datas in Spanish\n",
    "\n",
    "# We open xml \"product1_de_cross_jdbor_evo\"\n",
    "product1_spanish=xmlParse(\"product1_es_cross_jdbor_evo.xml\")\n",
    "product1_spanish=xmlToList(product1_spanish)\n",
    "\n",
    "# We remove the last element of the list, which is the numeric count of all elements of the list\n",
    "product1_spanish=product1_spanish$DisorderList\n",
    "product1_spanish=product1_spanish[-length(product1_spanish)]\n",
    "\n",
    "### Our list for working\n",
    "indice_list=1\n",
    "product_spanish=list()\n",
    "for (i in 1:length(product1_spanish))\n",
    "{\n",
    "  product_spanish[[indice_list]]=product1_spanish[[i]]\n",
    "  indice_list=indice_list+1\n",
    "}\n",
    "# Each element in the list is a disorder"
   ]
  },
  {
   "cell_type": "code",
   "execution_count": 151,
   "metadata": {},
   "outputs": [],
   "source": [
    "# We previously need to select the active clinical entities:\n",
    "# Head of classification (flag=128), Historical entities (flag=512) & On-line (flag=1)\n",
    "indice_list=1\n",
    "all_active_clinical_entities_spanish=list()\n",
    "for (i in 1:length(product_spanish))\n",
    "  if (product_spanish[[i]]$DisorderFlagList$DisorderFlag$Value=='1' |\n",
    "      product_spanish[[i]]$DisorderFlagList$DisorderFlag$Value=='128' |\n",
    "      product_spanish[[i]]$DisorderFlagList$DisorderFlag$Value=='512')\n",
    "  {\n",
    "    all_active_clinical_entities_spanish[[indice_list]]=product_spanish[[i]]\n",
    "    indice_list=indice_list+1\n",
    "  }"
   ]
  },
  {
   "cell_type": "code",
   "execution_count": 152,
   "metadata": {},
   "outputs": [],
   "source": [
    "### We look for all the active clinical entities which have synonyms\n",
    "indice_list=1\n",
    "synonyms_total_spanish=list()\n",
    "for (i in 1:length(all_active_clinical_entities_spanish))\n",
    "{\n",
    "  synonyms_total_spanish[[indice_list]]=data.frame(as.numeric(all_active_clinical_entities_spanish[[i]]$SynonymList$.attrs))\n",
    "  indice_list=indice_list+1\n",
    "}\n",
    "synonyms_total_spanish=rbindlist(synonyms_total_spanish,use.names = TRUE)\n",
    "colnames(synonyms_total_spanish)=c('Number of synonyms')"
   ]
  },
  {
   "cell_type": "code",
   "execution_count": 153,
   "metadata": {},
   "outputs": [
    {
     "data": {
      "text/html": [
       "11532"
      ],
      "text/latex": [
       "11532"
      ],
      "text/markdown": [
       "11532"
      ],
      "text/plain": [
       "[1] 11532"
      ]
     },
     "metadata": {},
     "output_type": "display_data"
    }
   ],
   "source": [
    "# Total number of synonyms in Spanish\n",
    "total_number_synonyms_spanish=sum(synonyms_total_spanish)\n",
    "total_number_synonyms_spanish"
   ]
  },
  {
   "cell_type": "code",
   "execution_count": 154,
   "metadata": {},
   "outputs": [
    {
     "data": {
      "text/plain": [
       " Number of synonyms\n",
       " Min.   : 0.000    \n",
       " 1st Qu.: 0.000    \n",
       " Median : 1.000    \n",
       " Mean   : 1.235    \n",
       " 3rd Qu.: 2.000    \n",
       " Max.   :17.000    "
      ]
     },
     "metadata": {},
     "output_type": "display_data"
    }
   ],
   "source": [
    "# Statistics about all synonyms in Spanish\n",
    "stats_total_synonyms_spanish=summary(synonyms_total_spanish)\n",
    "stats_total_synonyms_spanish"
   ]
  },
  {
   "cell_type": "code",
   "execution_count": 155,
   "metadata": {},
   "outputs": [],
   "source": [
    "### We look for the groups of disorder which have synonyms\n",
    "# The flag is \"36540\" for groups of disorder\n",
    "indice_list=1\n",
    "synonyms_group_spanish=list()\n",
    "for (i in 1:length(all_active_clinical_entities_spanish))\n",
    "  if (all_active_clinical_entities_spanish[[i]]$DisorderGroup$.attrs=='36540')\n",
    "  {\n",
    "    synonyms_group_spanish[[indice_list]]=data.frame(as.numeric(all_active_clinical_entities_spanish[[i]]$SynonymList$.attrs))\n",
    "    indice_list=indice_list+1\n",
    "  }\n",
    "synonyms_group_spanish=rbindlist(synonyms_group_spanish,use.names = TRUE)\n",
    "colnames(synonyms_group_spanish)=c('Number of synonyms')"
   ]
  },
  {
   "cell_type": "code",
   "execution_count": 156,
   "metadata": {},
   "outputs": [
    {
     "data": {
      "text/html": [
       "1144"
      ],
      "text/latex": [
       "1144"
      ],
      "text/markdown": [
       "1144"
      ],
      "text/plain": [
       "[1] 1144"
      ]
     },
     "metadata": {},
     "output_type": "display_data"
    }
   ],
   "source": [
    "# Number of synonyms for groups of disorders in Spanish\n",
    "number_synonyms_group_spanish=sum(synonyms_group_spanish)\n",
    "number_synonyms_group_spanish"
   ]
  },
  {
   "cell_type": "code",
   "execution_count": 157,
   "metadata": {},
   "outputs": [
    {
     "data": {
      "text/html": [
       "9.92022199098162"
      ],
      "text/latex": [
       "9.92022199098162"
      ],
      "text/markdown": [
       "9.92022199098162"
      ],
      "text/plain": [
       "[1] 9.920222"
      ]
     },
     "metadata": {},
     "output_type": "display_data"
    }
   ],
   "source": [
    "# Percentage of synonyms for groups of disorders in Spanish\n",
    "percentage_synonyms_group_spanish=number_synonyms_group_spanish/total_number_synonyms_spanish*100\n",
    "percentage_synonyms_group_spanish"
   ]
  },
  {
   "cell_type": "code",
   "execution_count": 158,
   "metadata": {},
   "outputs": [
    {
     "data": {
      "text/plain": [
       " Number of synonyms\n",
       " Min.   : 0.0000   \n",
       " 1st Qu.: 0.0000   \n",
       " Median : 0.0000   \n",
       " Mean   : 0.5257   \n",
       " 3rd Qu.: 1.0000   \n",
       " Max.   :11.0000   "
      ]
     },
     "metadata": {},
     "output_type": "display_data"
    }
   ],
   "source": [
    "# Statistics about groups of disorder's synonyms in Spanish\n",
    "stats_synonyms_group_spanish=summary(synonyms_group_spanish)\n",
    "stats_synonyms_group_spanish"
   ]
  },
  {
   "cell_type": "code",
   "execution_count": 159,
   "metadata": {},
   "outputs": [],
   "source": [
    "### We look for the disorders which have synonyms\n",
    "# The flag is \"36547\" for disorders\n",
    "indice_list=1\n",
    "synonyms_disorder_spanish=list()\n",
    "for (i in 1:length(all_active_clinical_entities_spanish))\n",
    "  if (all_active_clinical_entities_spanish[[i]]$DisorderGroup$.attrs=='36547')\n",
    "  {\n",
    "    synonyms_disorder_spanish[[indice_list]]=data.frame(as.numeric(all_active_clinical_entities_spanish[[i]]$SynonymList$.attrs))\n",
    "    indice_list=indice_list+1\n",
    "  }\n",
    "synonyms_disorder_spanish=rbindlist(synonyms_disorder_spanish,use.names = TRUE)\n",
    "colnames(synonyms_disorder_spanish)=c('Number of synonyms')"
   ]
  },
  {
   "cell_type": "code",
   "execution_count": 160,
   "metadata": {},
   "outputs": [
    {
     "data": {
      "text/html": [
       "8847"
      ],
      "text/latex": [
       "8847"
      ],
      "text/markdown": [
       "8847"
      ],
      "text/plain": [
       "[1] 8847"
      ]
     },
     "metadata": {},
     "output_type": "display_data"
    }
   ],
   "source": [
    "# Number of synonyms for disorders in Spanish\n",
    "number_synonyms_disorder_spanish=sum(synonyms_disorder_spanish)\n",
    "number_synonyms_disorder_spanish"
   ]
  },
  {
   "cell_type": "code",
   "execution_count": 161,
   "metadata": {},
   "outputs": [
    {
     "data": {
      "text/html": [
       "76.7169614984391"
      ],
      "text/latex": [
       "76.7169614984391"
      ],
      "text/markdown": [
       "76.7169614984391"
      ],
      "text/plain": [
       "[1] 76.71696"
      ]
     },
     "metadata": {},
     "output_type": "display_data"
    }
   ],
   "source": [
    "### Percentage of synonyms for disorders in Spanish\n",
    "percentage_synonyms_disorder_spanish=number_synonyms_disorder_spanish/total_number_synonyms_spanish*100\n",
    "percentage_synonyms_disorder_spanish"
   ]
  },
  {
   "cell_type": "code",
   "execution_count": 162,
   "metadata": {},
   "outputs": [
    {
     "data": {
      "text/plain": [
       " Number of synonyms\n",
       " Min.   : 0.000    \n",
       " 1st Qu.: 0.000    \n",
       " Median : 1.000    \n",
       " Mean   : 1.435    \n",
       " 3rd Qu.: 2.000    \n",
       " Max.   :15.000    "
      ]
     },
     "metadata": {},
     "output_type": "display_data"
    }
   ],
   "source": [
    "# Statistics about disorder' synonyms in Spanish\n",
    "stats_synonyms_disorder_spanish=summary(synonyms_disorder_spanish)\n",
    "stats_synonyms_disorder_spanish"
   ]
  },
  {
   "cell_type": "code",
   "execution_count": 163,
   "metadata": {},
   "outputs": [],
   "source": [
    "### We look for the subtypes of disorder which have synonyms\n",
    "# The flag is \"36554\" for subtypes of disorder\n",
    "indice_list=1\n",
    "synonyms_subtype_spanish=list()\n",
    "for (i in 1:length(all_active_clinical_entities_spanish))\n",
    "  if (all_active_clinical_entities_spanish[[i]]$DisorderGroup$.attrs=='36554')\n",
    "  {\n",
    "    synonyms_subtype_spanish[[indice_list]]=data.frame(as.numeric(all_active_clinical_entities_spanish[[i]]$SynonymList$.attrs))\n",
    "    indice_list=indice_list+1\n",
    "  }\n",
    "synonyms_subtype_spanish=rbindlist(synonyms_subtype_spanish,use.names = TRUE)\n",
    "colnames(synonyms_subtype_spanish)=c('Number of synonyms')"
   ]
  },
  {
   "cell_type": "code",
   "execution_count": 164,
   "metadata": {},
   "outputs": [
    {
     "data": {
      "text/html": [
       "1541"
      ],
      "text/latex": [
       "1541"
      ],
      "text/markdown": [
       "1541"
      ],
      "text/plain": [
       "[1] 1541"
      ]
     },
     "metadata": {},
     "output_type": "display_data"
    }
   ],
   "source": [
    "# Number of synonyms for subtypes of disorders in Spanish\n",
    "number_synonyms_subtype_spanish=sum(synonyms_subtype_spanish)\n",
    "number_synonyms_subtype_spanish"
   ]
  },
  {
   "cell_type": "code",
   "execution_count": 165,
   "metadata": {},
   "outputs": [
    {
     "data": {
      "text/html": [
       "13.3628165105793"
      ],
      "text/latex": [
       "13.3628165105793"
      ],
      "text/markdown": [
       "13.3628165105793"
      ],
      "text/plain": [
       "[1] 13.36282"
      ]
     },
     "metadata": {},
     "output_type": "display_data"
    }
   ],
   "source": [
    "# Percentage of synonyms for subtypes of disorders in Spanish\n",
    "percentage_synonyms_subtype_spanish=number_synonyms_subtype_spanish/total_number_synonyms_spanish*100\n",
    "percentage_synonyms_subtype_spanish"
   ]
  },
  {
   "cell_type": "code",
   "execution_count": 166,
   "metadata": {},
   "outputs": [
    {
     "data": {
      "text/plain": [
       " Number of synonyms\n",
       " Min.   : 0.000    \n",
       " 1st Qu.: 0.000    \n",
       " Median : 1.000    \n",
       " Mean   : 1.544    \n",
       " 3rd Qu.: 2.000    \n",
       " Max.   :17.000    "
      ]
     },
     "metadata": {},
     "output_type": "display_data"
    }
   ],
   "source": [
    "# Statistics about subtypes of disorder's synonyms in Spanish\n",
    "stats_synonyms_subtype_spanish=summary(synonyms_subtype_spanish)\n",
    "stats_synonyms_subtype_spanish"
   ]
  },
  {
   "cell_type": "code",
   "execution_count": 167,
   "metadata": {},
   "outputs": [],
   "source": [
    "###############################################################################################\n",
    "\n",
    "\n",
    "##### Number of nomenclature terms (preferred terms + synonyms) in Spanish\n",
    "\n",
    "\n",
    "### We look for the groups of disorder which have preferred terms\n",
    "# The flag is \"36540\" for groups of disorder\n",
    "indice_list=1\n",
    "preferred_terms_group_spanish=list()\n",
    "for (i in 1:length(all_active_clinical_entities_spanish))\n",
    "  if (all_active_clinical_entities_spanish[[i]]$DisorderGroup$.attrs=='36540')\n",
    "  {\n",
    "    preferred_terms_group_spanish[[indice_list]]=data.frame(all_active_clinical_entities_spanish[[i]]$Name$text)\n",
    "    indice_list=indice_list+1\n",
    "  }\n",
    "preferred_terms_group_spanish=rbindlist(preferred_terms_group_spanish)\n",
    "preferred_terms_group_spanish=preferred_terms_group_spanish[!duplicated(preferred_terms_group_spanish)]\n",
    "names(preferred_terms_group_spanish)=c('Preferred_terms')"
   ]
  },
  {
   "cell_type": "code",
   "execution_count": 168,
   "metadata": {},
   "outputs": [],
   "source": [
    "# We look for the preferred terms present in English and Spanish\n",
    "egal_group_spanish=merge(preferred_terms_group,preferred_terms_group_spanish,by='Preferred_terms')"
   ]
  },
  {
   "cell_type": "code",
   "execution_count": 169,
   "metadata": {},
   "outputs": [
    {
     "data": {
      "text/html": [
       "2147"
      ],
      "text/latex": [
       "2147"
      ],
      "text/markdown": [
       "2147"
      ],
      "text/plain": [
       "[1] 2147"
      ]
     },
     "metadata": {},
     "output_type": "display_data"
    }
   ],
   "source": [
    "# Number of preferred terms for groups of disorder in Spanish\n",
    "number_preferred_terms_group_spanish=nrow(preferred_terms_group_spanish)-nrow(egal_group_spanish)\n",
    "number_preferred_terms_group_spanish"
   ]
  },
  {
   "cell_type": "code",
   "execution_count": 170,
   "metadata": {},
   "outputs": [
    {
     "data": {
      "text/html": [
       "3291"
      ],
      "text/latex": [
       "3291"
      ],
      "text/markdown": [
       "3291"
      ],
      "text/plain": [
       "[1] 3291"
      ]
     },
     "metadata": {},
     "output_type": "display_data"
    }
   ],
   "source": [
    "# Number of nomenclature terms (preferred terms + synonyms) for groups of disorders in Spanish\n",
    "number_nomenclature_terms_group_spanish=number_synonyms_group_spanish + number_preferred_terms_group_spanish\n",
    "number_nomenclature_terms_group_spanish"
   ]
  },
  {
   "cell_type": "code",
   "execution_count": 171,
   "metadata": {},
   "outputs": [],
   "source": [
    "### We look for the disorders which have preferred terms\n",
    "# The flag is \"36547\" for disorders\n",
    "indice_list=1\n",
    "preferred_terms_disorder_spanish=list()\n",
    "for (i in 1:length(all_active_clinical_entities_spanish))\n",
    "  if (all_active_clinical_entities_spanish[[i]]$DisorderGroup$.attrs=='36547')\n",
    "  {\n",
    "    preferred_terms_disorder_spanish[[indice_list]]=data.frame(all_active_clinical_entities_spanish[[i]]$Name$text)\n",
    "    indice_list=indice_list+1\n",
    "  }\n",
    "preferred_terms_disorder_spanish=rbindlist(preferred_terms_disorder_spanish)\n",
    "preferred_terms_disorder_spanish=preferred_terms_disorder_spanish[!duplicated(preferred_terms_disorder_spanish)]\n",
    "names(preferred_terms_disorder_spanish)=c('Preferred_terms')"
   ]
  },
  {
   "cell_type": "code",
   "execution_count": 172,
   "metadata": {},
   "outputs": [],
   "source": [
    "# We look for the preferred terms present in English and Spanish\n",
    "egal_disorder_spanish=merge(preferred_terms_disorder,preferred_terms_disorder_spanish,by='Preferred_terms')"
   ]
  },
  {
   "cell_type": "code",
   "execution_count": 173,
   "metadata": {},
   "outputs": [
    {
     "data": {
      "text/html": [
       "6004"
      ],
      "text/latex": [
       "6004"
      ],
      "text/markdown": [
       "6004"
      ],
      "text/plain": [
       "[1] 6004"
      ]
     },
     "metadata": {},
     "output_type": "display_data"
    }
   ],
   "source": [
    "# Number of preferred terms for disorders in Spanish\n",
    "number_preferred_terms_disorder_spanish=nrow(preferred_terms_disorder_spanish)-nrow(egal_disorder_spanish)\n",
    "number_preferred_terms_disorder_spanish"
   ]
  },
  {
   "cell_type": "code",
   "execution_count": 174,
   "metadata": {},
   "outputs": [
    {
     "data": {
      "text/html": [
       "14851"
      ],
      "text/latex": [
       "14851"
      ],
      "text/markdown": [
       "14851"
      ],
      "text/plain": [
       "[1] 14851"
      ]
     },
     "metadata": {},
     "output_type": "display_data"
    }
   ],
   "source": [
    "# Number of nomenclature terms (preferred terms + synonyms) for disorders in Spanish\n",
    "number_nomenclature_terms_disorder_spanish=number_synonyms_disorder_spanish + number_preferred_terms_disorder_spanish\n",
    "number_nomenclature_terms_disorder_spanish"
   ]
  },
  {
   "cell_type": "code",
   "execution_count": 175,
   "metadata": {},
   "outputs": [],
   "source": [
    "### We look for the subtypes of disorder which have preferred terms\n",
    "# The flag is \"36554\" for subtypes of disorder\n",
    "indice_list=1\n",
    "preferred_terms_subtype_spanish=list()\n",
    "for (i in 1:length(all_active_clinical_entities_spanish))\n",
    "  if (all_active_clinical_entities_spanish[[i]]$DisorderGroup$.attrs=='36554')\n",
    "  {\n",
    "    preferred_terms_subtype_spanish[[indice_list]]=data.frame(all_active_clinical_entities_spanish[[i]]$Name$text)\n",
    "    indice_list=indice_list+1\n",
    "  }\n",
    "preferred_terms_subtype_spanish=rbindlist(preferred_terms_subtype_spanish)\n",
    "preferred_terms_subtype_spanish=preferred_terms_subtype_spanish[!duplicated(preferred_terms_subtype_spanish)]\n",
    "names(preferred_terms_subtype_spanish)=c('Preferred_terms')"
   ]
  },
  {
   "cell_type": "code",
   "execution_count": 176,
   "metadata": {},
   "outputs": [],
   "source": [
    "# We look for the preferred terms present in English and Spanish\n",
    "egal_subtype_spanish=merge(preferred_terms_subtype,preferred_terms_subtype_spanish,by='Preferred_terms')"
   ]
  },
  {
   "cell_type": "code",
   "execution_count": 177,
   "metadata": {},
   "outputs": [
    {
     "data": {
      "text/html": [
       "983"
      ],
      "text/latex": [
       "983"
      ],
      "text/markdown": [
       "983"
      ],
      "text/plain": [
       "[1] 983"
      ]
     },
     "metadata": {},
     "output_type": "display_data"
    }
   ],
   "source": [
    "# Number of preferred terms for subtypes of disorder in Spanish\n",
    "number_preferred_terms_subtype_spanish=nrow(preferred_terms_subtype_spanish)-nrow(egal_subtype_spanish)\n",
    "number_preferred_terms_subtype_spanish"
   ]
  },
  {
   "cell_type": "code",
   "execution_count": 178,
   "metadata": {},
   "outputs": [
    {
     "data": {
      "text/html": [
       "2524"
      ],
      "text/latex": [
       "2524"
      ],
      "text/markdown": [
       "2524"
      ],
      "text/plain": [
       "[1] 2524"
      ]
     },
     "metadata": {},
     "output_type": "display_data"
    }
   ],
   "source": [
    "# Number of nomenclature terms (preferred terms + synonyms) for groups of disorders in Spanish\n",
    "number_nomenclature_terms_subtype_spanish=number_synonyms_subtype_spanish + number_preferred_terms_subtype_spanish\n",
    "number_nomenclature_terms_subtype_spanish"
   ]
  },
  {
   "cell_type": "code",
   "execution_count": 179,
   "metadata": {},
   "outputs": [
    {
     "data": {
      "text/html": [
       "20666"
      ],
      "text/latex": [
       "20666"
      ],
      "text/markdown": [
       "20666"
      ],
      "text/plain": [
       "[1] 20666"
      ]
     },
     "metadata": {},
     "output_type": "display_data"
    }
   ],
   "source": [
    "### Total number of nomenclature terms for active clinical entities in Spanish\n",
    "total_number_nomenclature_terms_spanish=number_nomenclature_terms_subtype_spanish + \n",
    "  number_nomenclature_terms_disorder_spanish +\n",
    "  number_nomenclature_terms_group_spanish\n",
    "total_number_nomenclature_terms_spanish"
   ]
  },
  {
   "cell_type": "code",
   "execution_count": null,
   "metadata": {},
   "outputs": [],
   "source": [
    "######## PORTUGUESE #########\n",
    "\n",
    "# We work on the file with datas in Portuguese\n",
    "\n",
    "# We open xml \"product1_de_cross_jdbor_evo\"\n",
    "product1_portuguese=xmlParse(\"product1_pt_cross_jdbor_evo.xml\")\n",
    "product1_portuguese=xmlToList(product1_portuguese)\n",
    "\n",
    "# We remove the last element of the list, which is the numeric count of all elements of the list\n",
    "product1_portuguese=product1_portuguese$DisorderList\n",
    "product1_portuguese=product1_portuguese[-length(product1_portuguese)]\n",
    "\n",
    "### Our list for working\n",
    "indice_list=1\n",
    "product_portuguese=list()\n",
    "for (i in 1:length(product1_portuguese))\n",
    "{\n",
    "  product_portuguese[[indice_list]]=product1_portuguese[[i]]\n",
    "  indice_list=indice_list+1\n",
    "}\n",
    "# Each element in the list is a disorder"
   ]
  },
  {
   "cell_type": "code",
   "execution_count": null,
   "metadata": {},
   "outputs": [],
   "source": [
    "# We previously need to select the active clinical entities:\n",
    "# Head of classification (flag=128), Historical entities (flag=512) & On-line (flag=1)\n",
    "indice_list=1\n",
    "all_active_clinical_entities_portuguese=list()\n",
    "for (i in 1:length(product_portuguese))\n",
    "  if (product_portuguese[[i]]$DisorderFlagList$DisorderFlag$Value=='1' |\n",
    "      product_portuguese[[i]]$DisorderFlagList$DisorderFlag$Value=='128' |\n",
    "      product_portuguese[[i]]$DisorderFlagList$DisorderFlag$Value=='512')\n",
    "  {\n",
    "    all_active_clinical_entities_portuguese[[indice_list]]=product_portuguese[[i]]\n",
    "    indice_list=indice_list+1\n",
    "  }"
   ]
  },
  {
   "cell_type": "code",
   "execution_count": null,
   "metadata": {},
   "outputs": [],
   "source": [
    "### We look for all the active clinical entities which have synonyms\n",
    "indice_list=1\n",
    "synonyms_total_portuguese=list()\n",
    "for (i in 1:length(all_active_clinical_entities_portuguese))\n",
    "{\n",
    "  synonyms_total_portuguese[[indice_list]]=data.frame(as.numeric(all_active_clinical_entities_portuguese[[i]]$SynonymList$.attrs))\n",
    "  indice_list=indice_list+1\n",
    "}\n",
    "synonyms_total_portuguese=rbindlist(synonyms_total_portuguese,use.names = TRUE)\n",
    "colnames(synonyms_total_portuguese)=c('Number of synonyms')"
   ]
  },
  {
   "cell_type": "code",
   "execution_count": null,
   "metadata": {},
   "outputs": [],
   "source": [
    "# Total number of synonyms in Portuguese\n",
    "total_number_synonyms_portuguese=sum(synonyms_total_portuguese)\n",
    "total_number_synonyms_portuguese"
   ]
  },
  {
   "cell_type": "code",
   "execution_count": null,
   "metadata": {},
   "outputs": [],
   "source": [
    "# Statistics about all synonyms in Portuguese\n",
    "stats_total_synonyms_portuguese=summary(synonyms_total_portuguese)\n",
    "stats_total_synonyms_portuguese"
   ]
  },
  {
   "cell_type": "code",
   "execution_count": null,
   "metadata": {},
   "outputs": [],
   "source": [
    "### We look for the groups of disorder which have synonyms\n",
    "# The flag is \"36540\" for groups of disorder\n",
    "indice_list=1\n",
    "synonyms_group_portuguese=list()\n",
    "for (i in 1:length(all_active_clinical_entities_portuguese))\n",
    "  if (all_active_clinical_entities_portuguese[[i]]$DisorderGroup$.attrs=='36540')\n",
    "  {\n",
    "    synonyms_group_portuguese[[indice_list]]=data.frame(as.numeric(all_active_clinical_entities_portuguese[[i]]$SynonymList$.attrs))\n",
    "    indice_list=indice_list+1\n",
    "  }\n",
    "synonyms_group_portuguese=rbindlist(synonyms_group_portuguese,use.names = TRUE)\n",
    "colnames(synonyms_group_portuguese)=c('Number of synonyms')"
   ]
  },
  {
   "cell_type": "code",
   "execution_count": null,
   "metadata": {},
   "outputs": [],
   "source": [
    "# Number of synonyms for groups of disorders in Portuguese\n",
    "number_synonyms_group_portuguese=sum(synonyms_group_portuguese)\n",
    "number_synonyms_group_portuguese"
   ]
  },
  {
   "cell_type": "code",
   "execution_count": null,
   "metadata": {},
   "outputs": [],
   "source": [
    "# Percentage of synonyms for groups of disorders in Portuguese\n",
    "percentage_synonyms_group_portuguese=number_synonyms_group_portuguese/total_number_synonyms_portuguese*100\n",
    "percentage_synonyms_group_portuguese"
   ]
  },
  {
   "cell_type": "code",
   "execution_count": null,
   "metadata": {},
   "outputs": [],
   "source": [
    "# Statistics about groups of disorder's synonyms in Portuguese\n",
    "stats_synonyms_group_portuguese=summary(synonyms_group_portuguese)\n",
    "stats_synonyms_group_portuguese"
   ]
  },
  {
   "cell_type": "code",
   "execution_count": null,
   "metadata": {},
   "outputs": [],
   "source": [
    "### We look for the disorders which have synonyms\n",
    "# The flag is \"36547\" for disorders\n",
    "indice_list=1\n",
    "synonyms_disorder_portuguese=list()\n",
    "for (i in 1:length(all_active_clinical_entities_portuguese))\n",
    "  if (all_active_clinical_entities_portuguese[[i]]$DisorderGroup$.attrs=='36547')\n",
    "  {\n",
    "    synonyms_disorder_portuguese[[indice_list]]=data.frame(as.numeric(all_active_clinical_entities_portuguese[[i]]$SynonymList$.attrs))\n",
    "    indice_list=indice_list+1\n",
    "  }\n",
    "synonyms_disorder_portuguese=rbindlist(synonyms_disorder_portuguese,use.names = TRUE)\n",
    "colnames(synonyms_disorder_portuguese)=c('Number of synonyms')"
   ]
  },
  {
   "cell_type": "code",
   "execution_count": null,
   "metadata": {},
   "outputs": [],
   "source": [
    "# Number of synonyms for disorders in Portuguese\n",
    "number_synonyms_disorder_portuguese=sum(synonyms_disorder_portuguese)\n",
    "number_synonyms_disorder_portuguese"
   ]
  },
  {
   "cell_type": "code",
   "execution_count": null,
   "metadata": {},
   "outputs": [],
   "source": [
    "### Percentage of synonyms for disorders in Portuguese\n",
    "percentage_synonyms_disorder_portuguese=number_synonyms_disorder_portuguese/total_number_synonyms_portuguese*100\n",
    "percentage_synonyms_disorder_portuguese"
   ]
  },
  {
   "cell_type": "code",
   "execution_count": null,
   "metadata": {},
   "outputs": [],
   "source": [
    "# Statistics about disorder' synonyms in Portuguese\n",
    "stats_synonyms_disorder_portuguese=summary(synonyms_disorder_portuguese)\n",
    "stats_synonyms_disorder_portuguese"
   ]
  },
  {
   "cell_type": "code",
   "execution_count": null,
   "metadata": {},
   "outputs": [],
   "source": [
    "### We look for the subtypes of disorder which have synonyms\n",
    "# The flag is \"36554\" for subtypes of disorder\n",
    "indice_list=1\n",
    "synonyms_subtype_portuguese=list()\n",
    "for (i in 1:length(all_active_clinical_entities_portuguese))\n",
    "  if (all_active_clinical_entities_portuguese[[i]]$DisorderGroup$.attrs=='36554')\n",
    "  {\n",
    "    synonyms_subtype_portuguese[[indice_list]]=data.frame(as.numeric(all_active_clinical_entities_portuguese[[i]]$SynonymList$.attrs))\n",
    "    indice_list=indice_list+1\n",
    "  }\n",
    "synonyms_subtype_portuguese=rbindlist(synonyms_subtype_portuguese,use.names = TRUE)\n",
    "colnames(synonyms_subtype_portuguese)=c('Number of synonyms')"
   ]
  },
  {
   "cell_type": "code",
   "execution_count": null,
   "metadata": {},
   "outputs": [],
   "source": [
    "# Number of synonyms for subtypes of disorders in Portuguese\n",
    "number_synonyms_subtype_portuguese=sum(synonyms_subtype_portuguese)\n",
    "number_synonyms_subtype_portuguese"
   ]
  },
  {
   "cell_type": "code",
   "execution_count": null,
   "metadata": {},
   "outputs": [],
   "source": [
    "# Percentage of synonyms for subtypes of disorders in Portuguese\n",
    "percentage_synonyms_subtype_portuguese=number_synonyms_subtype_portuguese/total_number_synonyms_portuguese*100\n",
    "percentage_synonyms_subtype_portuguese"
   ]
  },
  {
   "cell_type": "code",
   "execution_count": null,
   "metadata": {},
   "outputs": [],
   "source": [
    "# Statistics about subtypes of disorder's synonyms in Portuguese\n",
    "stats_synonyms_subtype_portuguese=summary(synonyms_subtype_portuguese)\n",
    "stats_synonyms_subtype_portuguese"
   ]
  },
  {
   "cell_type": "code",
   "execution_count": null,
   "metadata": {},
   "outputs": [],
   "source": [
    "###############################################################################################\n",
    "\n",
    "\n",
    "##### Number of nomenclature terms (preferred terms + synonyms) in Portuguese\n",
    "\n",
    "\n",
    "### We look for the groups of disorder which have preferred terms\n",
    "# The flag is \"36540\" for groups of disorder\n",
    "indice_list=1\n",
    "preferred_terms_group_portuguese=list()\n",
    "for (i in 1:length(all_active_clinical_entities_portuguese))\n",
    "  if (all_active_clinical_entities_portuguese[[i]]$DisorderGroup$.attrs=='36540')\n",
    "  {\n",
    "    preferred_terms_group_portuguese[[indice_list]]=data.frame(all_active_clinical_entities_portuguese[[i]]$Name$text)\n",
    "    indice_list=indice_list+1\n",
    "  }\n",
    "preferred_terms_group_portuguese=rbindlist(preferred_terms_group_portuguese)\n",
    "preferred_terms_group_portuguese=preferred_terms_group_portuguese[!duplicated(preferred_terms_group_portuguese)]\n",
    "names(preferred_terms_group_portuguese)=c('Preferred_terms')"
   ]
  },
  {
   "cell_type": "code",
   "execution_count": null,
   "metadata": {},
   "outputs": [],
   "source": [
    "# We look for the preferred terms present in English and Portuguese\n",
    "egal_group_portuguese=merge(preferred_terms_group,preferred_terms_group_portuguese,by='Preferred_terms')"
   ]
  },
  {
   "cell_type": "code",
   "execution_count": null,
   "metadata": {},
   "outputs": [],
   "source": [
    "# Number of preferred terms for groups of disorder in Portuguese\n",
    "number_preferred_terms_group_portuguese=nrow(preferred_terms_group_portuguese)-nrow(egal_group_portuguese)\n",
    "number_preferred_terms_group_portuguese"
   ]
  },
  {
   "cell_type": "code",
   "execution_count": null,
   "metadata": {},
   "outputs": [],
   "source": [
    "# Number of nomenclature terms (preferred terms + synonyms) for groups of disorders in Portuguese\n",
    "number_nomenclature_terms_group_portuguese=number_synonyms_group_portuguese + number_preferred_terms_group_portuguese\n",
    "number_nomenclature_terms_group_portuguese"
   ]
  },
  {
   "cell_type": "code",
   "execution_count": null,
   "metadata": {},
   "outputs": [],
   "source": [
    "### We look for the disorders which have preferred terms\n",
    "# The flag is \"36547\" for disorders\n",
    "indice_list=1\n",
    "preferred_terms_disorder_portuguese=list()\n",
    "for (i in 1:length(all_active_clinical_entities_portuguese))\n",
    "  if (all_active_clinical_entities_portuguese[[i]]$DisorderGroup$.attrs=='36547')\n",
    "  {\n",
    "    preferred_terms_disorder_portuguese[[indice_list]]=data.frame(all_active_clinical_entities_portuguese[[i]]$Name$text)\n",
    "    indice_list=indice_list+1\n",
    "  }\n",
    "preferred_terms_disorder_portuguese=rbindlist(preferred_terms_disorder_portuguese)\n",
    "preferred_terms_disorder_portuguese=preferred_terms_disorder_portuguese[!duplicated(preferred_terms_disorder_portuguese)]\n",
    "names(preferred_terms_disorder_portuguese)=c('Preferred_terms')"
   ]
  },
  {
   "cell_type": "code",
   "execution_count": null,
   "metadata": {},
   "outputs": [],
   "source": [
    "# We look for the preferred terms present in English and Portuguese\n",
    "egal_disorder_portuguese=merge(preferred_terms_disorder,preferred_terms_disorder_portuguese,by='Preferred_terms')"
   ]
  },
  {
   "cell_type": "code",
   "execution_count": null,
   "metadata": {},
   "outputs": [],
   "source": [
    "# Number of preferred terms for disorders in Portuguese\n",
    "number_preferred_terms_disorder_portuguese=nrow(preferred_terms_disorder_portuguese)-nrow(egal_disorder_portuguese)\n",
    "number_preferred_terms_disorder_portuguese"
   ]
  },
  {
   "cell_type": "code",
   "execution_count": null,
   "metadata": {},
   "outputs": [],
   "source": [
    "# Number of nomenclature terms (preferred terms + synonyms) for disorders in Portuguese\n",
    "number_nomenclature_terms_disorder_portuguese=number_synonyms_disorder_portuguese + number_preferred_terms_disorder_portuguese\n",
    "number_nomenclature_terms_disorder_portuguese"
   ]
  },
  {
   "cell_type": "code",
   "execution_count": null,
   "metadata": {},
   "outputs": [],
   "source": [
    "### We look for the subtypes of disorder which have preferred terms\n",
    "# The flag is \"36554\" for subtypes of disorder\n",
    "indice_list=1\n",
    "preferred_terms_subtype_portuguese=list()\n",
    "for (i in 1:length(all_active_clinical_entities_portuguese))\n",
    "  if (all_active_clinical_entities_portuguese[[i]]$DisorderGroup$.attrs=='36554')\n",
    "  {\n",
    "    preferred_terms_subtype_portuguese[[indice_list]]=data.frame(all_active_clinical_entities_portuguese[[i]]$Name$text)\n",
    "    indice_list=indice_list+1\n",
    "  }\n",
    "preferred_terms_subtype_portuguese=rbindlist(preferred_terms_subtype_portuguese)\n",
    "preferred_terms_subtype_portuguese=preferred_terms_subtype_portuguese[!duplicated(preferred_terms_subtype_portuguese)]\n",
    "names(preferred_terms_subtype_portuguese)=c('Preferred_terms')"
   ]
  },
  {
   "cell_type": "code",
   "execution_count": null,
   "metadata": {},
   "outputs": [],
   "source": [
    "# We look for the preferred terms present in English and Portuguese\n",
    "egal_subtype_portuguese=merge(preferred_terms_subtype,preferred_terms_subtype_portuguese,by='Preferred_terms')"
   ]
  },
  {
   "cell_type": "code",
   "execution_count": null,
   "metadata": {},
   "outputs": [],
   "source": [
    "# Number of preferred terms for subtypes of disorder in Portuguese\n",
    "number_preferred_terms_subtype_portuguese=nrow(preferred_terms_subtype_portuguese)-nrow(egal_subtype_portuguese)\n",
    "number_preferred_terms_subtype_portuguese"
   ]
  },
  {
   "cell_type": "code",
   "execution_count": null,
   "metadata": {},
   "outputs": [],
   "source": [
    "# Number of nomenclature terms (preferred terms + synonyms) for groups of disorders in Portuguese\n",
    "number_nomenclature_terms_subtype_portuguese=number_synonyms_subtype_portuguese + number_preferred_terms_subtype_portuguese\n",
    "number_nomenclature_terms_subtype_portuguese"
   ]
  },
  {
   "cell_type": "code",
   "execution_count": null,
   "metadata": {},
   "outputs": [],
   "source": [
    "### Total number of nomenclature terms for active clinical entities in Portuguese\n",
    "total_number_nomenclature_terms_portuguese=number_nomenclature_terms_subtype_portuguese + \n",
    "  number_nomenclature_terms_disorder_portuguese +\n",
    "  number_nomenclature_terms_group_portuguese\n",
    "total_number_nomenclature_terms_portuguese"
   ]
  },
  {
   "cell_type": "code",
   "execution_count": null,
   "metadata": {},
   "outputs": [],
   "source": [
    "######## POLISH #########\n",
    "\n",
    "# We work on the file with datas in Polish\n",
    "\n",
    "# We open xml \"product1_de_cross_jdbor_evo\"\n",
    "# We set folder & direction\n",
    "product1_polish=xmlParse(\"product1_pl_cross_jdbor_evo.xml\")\n",
    "product1_polish=xmlToList(product1_polish)\n",
    "\n",
    "# We remove the last element of the list, which is the numeric count of all elements of the list\n",
    "product1_polish=product1_polish$DisorderList\n",
    "product1_polish=product1_polish[-length(product1_polish)]\n",
    "\n",
    "### Our list for working\n",
    "indice_list=1\n",
    "product_polish=list()\n",
    "for (i in 1:length(product1_polish))\n",
    "{\n",
    "  product_polish[[indice_list]]=product1_polish[[i]]\n",
    "  indice_list=indice_list+1\n",
    "}\n",
    "# Each element in the list is a disorder"
   ]
  },
  {
   "cell_type": "code",
   "execution_count": null,
   "metadata": {},
   "outputs": [],
   "source": [
    "# We previously need to select the active clinical entities:\n",
    "# Head of classification (flag=128), Historical entities (flag=512) & On-line (flag=1)\n",
    "indice_list=1\n",
    "all_active_clinical_entities_polish=list()\n",
    "for (i in 1:length(product_polish))\n",
    "  if (product_polish[[i]]$DisorderFlagList$DisorderFlag$Value=='1' |\n",
    "      product_polish[[i]]$DisorderFlagList$DisorderFlag$Value=='128' |\n",
    "      product_polish[[i]]$DisorderFlagList$DisorderFlag$Value=='512')\n",
    "  {\n",
    "    all_active_clinical_entities_polish[[indice_list]]=product_polish[[i]]\n",
    "    indice_list=indice_list+1\n",
    "  }"
   ]
  },
  {
   "cell_type": "code",
   "execution_count": null,
   "metadata": {},
   "outputs": [],
   "source": [
    "### We look for all the active clinical entities which have synonyms\n",
    "indice_list=1\n",
    "synonyms_total_polish=list()\n",
    "for (i in 1:length(all_active_clinical_entities_polish))\n",
    "{\n",
    "  synonyms_total_polish[[indice_list]]=data.frame(as.numeric(all_active_clinical_entities_polish[[i]]$SynonymList$.attrs))\n",
    "  indice_list=indice_list+1\n",
    "}\n",
    "synonyms_total_polish=rbindlist(synonyms_total_polish,use.names = TRUE)\n",
    "colnames(synonyms_total_polish)=c('Number of synonyms')"
   ]
  },
  {
   "cell_type": "code",
   "execution_count": null,
   "metadata": {},
   "outputs": [],
   "source": [
    "# Total number of synonyms in Polish\n",
    "total_number_synonyms_polish=sum(synonyms_total_polish)\n",
    "total_number_synonyms_polish"
   ]
  },
  {
   "cell_type": "code",
   "execution_count": null,
   "metadata": {},
   "outputs": [],
   "source": [
    "# Statistics about all synonyms in Polish\n",
    "stats_total_synonyms_polish=summary(synonyms_total_polish)\n",
    "stats_total_synonyms_polish"
   ]
  },
  {
   "cell_type": "code",
   "execution_count": null,
   "metadata": {},
   "outputs": [],
   "source": [
    "### We look for the groups of disorder which have synonyms\n",
    "# The flag is \"36540\" for groups of disorder\n",
    "indice_list=1\n",
    "synonyms_group_polish=list()\n",
    "for (i in 1:length(all_active_clinical_entities_polish))\n",
    "  if (all_active_clinical_entities_polish[[i]]$DisorderGroup$.attrs=='36540')\n",
    "  {\n",
    "    synonyms_group_polish[[indice_list]]=data.frame(as.numeric(all_active_clinical_entities_polish[[i]]$SynonymList$.attrs))\n",
    "    indice_list=indice_list+1\n",
    "  }\n",
    "synonyms_group_polish=rbindlist(synonyms_group_polish,use.names = TRUE)\n",
    "colnames(synonyms_group_polish)=c('Number of synonyms')"
   ]
  },
  {
   "cell_type": "code",
   "execution_count": null,
   "metadata": {},
   "outputs": [],
   "source": [
    "# Number of synonyms for groups of disorders in Polish\n",
    "number_synonyms_group_polish=sum(synonyms_group_polish)\n",
    "number_synonyms_group_polish"
   ]
  },
  {
   "cell_type": "code",
   "execution_count": null,
   "metadata": {},
   "outputs": [],
   "source": [
    "# Percentage of synonyms for groups of disorders in Polish\n",
    "percentage_synonyms_group_polish=number_synonyms_group_polish/total_number_synonyms_polish*100\n",
    "percentage_synonyms_group_polish"
   ]
  },
  {
   "cell_type": "code",
   "execution_count": null,
   "metadata": {},
   "outputs": [],
   "source": [
    "# Statistics about groups of disorder's synonyms in Polish\n",
    "stats_synonyms_group_polish=summary(synonyms_group_polish)\n",
    "stats_synonyms_group_polish"
   ]
  },
  {
   "cell_type": "code",
   "execution_count": null,
   "metadata": {},
   "outputs": [],
   "source": [
    "### We look for the disorders which have synonyms\n",
    "# The flag is \"36547\" for disorders\n",
    "indice_list=1\n",
    "synonyms_disorder_polish=list()\n",
    "for (i in 1:length(all_active_clinical_entities_polish))\n",
    "  if (all_active_clinical_entities_polish[[i]]$DisorderGroup$.attrs=='36547')\n",
    "  {\n",
    "    synonyms_disorder_polish[[indice_list]]=data.frame(as.numeric(all_active_clinical_entities_polish[[i]]$SynonymList$.attrs))\n",
    "    indice_list=indice_list+1\n",
    "  }\n",
    "synonyms_disorder_polish=rbindlist(synonyms_disorder_polish,use.names = TRUE)\n",
    "colnames(synonyms_disorder_polish)=c('Number of synonyms')"
   ]
  },
  {
   "cell_type": "code",
   "execution_count": null,
   "metadata": {},
   "outputs": [],
   "source": [
    "# Number of synonyms for disorders in Polish\n",
    "number_synonyms_disorder_polish=sum(synonyms_disorder_polish)\n",
    "number_synonyms_disorder_polish"
   ]
  },
  {
   "cell_type": "code",
   "execution_count": null,
   "metadata": {},
   "outputs": [],
   "source": [
    "### Percentage of synonyms for disorders in Polish\n",
    "percentage_synonyms_disorder_polish=number_synonyms_disorder_polish/total_number_synonyms_polish*100\n",
    "percentage_synonyms_disorder_polish"
   ]
  },
  {
   "cell_type": "code",
   "execution_count": null,
   "metadata": {},
   "outputs": [],
   "source": [
    "# Statistics about disorder' synonyms in Polish\n",
    "stats_synonyms_disorder_polish=summary(synonyms_disorder_polish)\n",
    "stats_synonyms_disorder_polish"
   ]
  },
  {
   "cell_type": "code",
   "execution_count": null,
   "metadata": {},
   "outputs": [],
   "source": [
    "### We look for the subtypes of disorder which have synonyms\n",
    "# The flag is \"36554\" for subtypes of disorder\n",
    "indice_list=1\n",
    "synonyms_subtype_polish=list()\n",
    "for (i in 1:length(all_active_clinical_entities_polish))\n",
    "  if (all_active_clinical_entities_polish[[i]]$DisorderGroup$.attrs=='36554')\n",
    "  {\n",
    "    synonyms_subtype_polish[[indice_list]]=data.frame(as.numeric(all_active_clinical_entities_polish[[i]]$SynonymList$.attrs))\n",
    "    indice_list=indice_list+1\n",
    "  }\n",
    "synonyms_subtype_polish=rbindlist(synonyms_subtype_polish,use.names = TRUE)\n",
    "colnames(synonyms_subtype_polish)=c('Number of synonyms')"
   ]
  },
  {
   "cell_type": "code",
   "execution_count": null,
   "metadata": {},
   "outputs": [],
   "source": [
    "# Number of synonyms for subtypes of disorders in Polish\n",
    "number_synonyms_subtype_polish=sum(synonyms_subtype_polish)\n",
    "number_synonyms_subtype_polish"
   ]
  },
  {
   "cell_type": "code",
   "execution_count": null,
   "metadata": {},
   "outputs": [],
   "source": [
    "# Percentage of synonyms for subtypes of disorders in Polish\n",
    "percentage_synonyms_subtype_polish=number_synonyms_subtype_polish/total_number_synonyms_polish*100\n",
    "percentage_synonyms_subtype_polish"
   ]
  },
  {
   "cell_type": "code",
   "execution_count": null,
   "metadata": {},
   "outputs": [],
   "source": [
    "# Statistics about subtypes of disorder's synonyms in Polish\n",
    "stats_synonyms_subtype_polish=summary(synonyms_subtype_polish)\n",
    "stats_synonyms_subtype_polish"
   ]
  },
  {
   "cell_type": "code",
   "execution_count": null,
   "metadata": {},
   "outputs": [],
   "source": [
    "###############################################################################################\n",
    "\n",
    "\n",
    "##### Number of nomenclature terms (preferred terms + synonyms) in Polish\n",
    "\n",
    "\n",
    "### We look for the groups of disorder which have preferred terms\n",
    "# The flag is \"36540\" for groups of disorder\n",
    "indice_list=1\n",
    "preferred_terms_group_polish=list()\n",
    "for (i in 1:length(all_active_clinical_entities_polish))\n",
    "  if (all_active_clinical_entities_polish[[i]]$DisorderGroup$.attrs=='36540')\n",
    "  {\n",
    "    preferred_terms_group_polish[[indice_list]]=data.frame(all_active_clinical_entities_polish[[i]]$Name$text)\n",
    "    indice_list=indice_list+1\n",
    "  }\n",
    "preferred_terms_group_polish=rbindlist(preferred_terms_group_polish)\n",
    "preferred_terms_group_polish=preferred_terms_group_polish[!duplicated(preferred_terms_group_polish)]\n",
    "names(preferred_terms_group_polish)=c('Preferred_terms')"
   ]
  },
  {
   "cell_type": "code",
   "execution_count": null,
   "metadata": {},
   "outputs": [],
   "source": [
    "# We look for the preferred terms present in English and Polish\n",
    "egal_group_polish=merge(preferred_terms_group,preferred_terms_group_polish,by='Preferred_terms')"
   ]
  },
  {
   "cell_type": "code",
   "execution_count": null,
   "metadata": {},
   "outputs": [],
   "source": [
    "# Number of preferred terms for groups of disorder in Polish\n",
    "number_preferred_terms_group_polish=nrow(preferred_terms_group_polish)-nrow(egal_group_polish)\n",
    "number_preferred_terms_group_polish"
   ]
  },
  {
   "cell_type": "code",
   "execution_count": null,
   "metadata": {},
   "outputs": [],
   "source": [
    "# Number of nomenclature terms (preferred terms + synonyms) for groups of disorders in Polish\n",
    "number_nomenclature_terms_group_polish=number_synonyms_group_polish + number_preferred_terms_group_polish\n",
    "number_nomenclature_terms_group_polish"
   ]
  },
  {
   "cell_type": "code",
   "execution_count": null,
   "metadata": {},
   "outputs": [],
   "source": [
    "### We look for the disorders which have preferred terms\n",
    "# The flag is \"36547\" for disorders\n",
    "indice_list=1\n",
    "preferred_terms_disorder_polish=list()\n",
    "for (i in 1:length(all_active_clinical_entities_polish))\n",
    "  if (all_active_clinical_entities_polish[[i]]$DisorderGroup$.attrs=='36547')\n",
    "  {\n",
    "    preferred_terms_disorder_polish[[indice_list]]=data.frame(all_active_clinical_entities_polish[[i]]$Name$text)\n",
    "    indice_list=indice_list+1\n",
    "  }\n",
    "preferred_terms_disorder_polish=rbindlist(preferred_terms_disorder_polish)\n",
    "preferred_terms_disorder_polish=preferred_terms_disorder_polish[!duplicated(preferred_terms_disorder_polish)]\n",
    "names(preferred_terms_disorder_polish)=c('Preferred_terms')"
   ]
  },
  {
   "cell_type": "code",
   "execution_count": null,
   "metadata": {},
   "outputs": [],
   "source": [
    "# We look for the preferred terms present in English and Polish\n",
    "egal_disorder_polish=merge(preferred_terms_disorder,preferred_terms_disorder_polish,by='Preferred_terms')"
   ]
  },
  {
   "cell_type": "code",
   "execution_count": null,
   "metadata": {},
   "outputs": [],
   "source": [
    "# Number of preferred terms for disorders in Polish\n",
    "number_preferred_terms_disorder_polish=nrow(preferred_terms_disorder_polish)-nrow(egal_disorder_polish)\n",
    "number_preferred_terms_disorder_polish"
   ]
  },
  {
   "cell_type": "code",
   "execution_count": null,
   "metadata": {},
   "outputs": [],
   "source": [
    "# Number of nomenclature terms (preferred terms + synonyms) for disorders in Polish\n",
    "number_nomenclature_terms_disorder_polish=number_synonyms_disorder_polish + number_preferred_terms_disorder_polish\n",
    "number_nomenclature_terms_disorder_polish"
   ]
  },
  {
   "cell_type": "code",
   "execution_count": null,
   "metadata": {},
   "outputs": [],
   "source": [
    "### We look for the subtypes of disorder which have preferred terms\n",
    "# The flag is \"36554\" for subtypes of disorder\n",
    "indice_list=1\n",
    "preferred_terms_subtype_polish=list()\n",
    "for (i in 1:length(all_active_clinical_entities_polish))\n",
    "  if (all_active_clinical_entities_polish[[i]]$DisorderGroup$.attrs=='36554')\n",
    "  {\n",
    "    preferred_terms_subtype_polish[[indice_list]]=data.frame(all_active_clinical_entities_polish[[i]]$Name$text)\n",
    "    indice_list=indice_list+1\n",
    "  }\n",
    "preferred_terms_subtype_polish=rbindlist(preferred_terms_subtype_polish)\n",
    "preferred_terms_subtype_polish=preferred_terms_subtype_polish[!duplicated(preferred_terms_subtype_polish)]\n",
    "names(preferred_terms_subtype_polish)=c('Preferred_terms')"
   ]
  },
  {
   "cell_type": "code",
   "execution_count": null,
   "metadata": {},
   "outputs": [],
   "source": [
    "# We look for the preferred terms present in English and Polish\n",
    "egal_subtype_polish=merge(preferred_terms_subtype,preferred_terms_subtype_polish,by='Preferred_terms')"
   ]
  },
  {
   "cell_type": "code",
   "execution_count": null,
   "metadata": {},
   "outputs": [],
   "source": [
    "# Number of preferred terms for subtypes of disorder in Polish\n",
    "number_preferred_terms_subtype_polish=nrow(preferred_terms_subtype_polish)-nrow(egal_subtype_polish)\n",
    "number_preferred_terms_subtype_polish"
   ]
  },
  {
   "cell_type": "code",
   "execution_count": null,
   "metadata": {},
   "outputs": [],
   "source": [
    "# Number of nomenclature terms (preferred terms + synonyms) for groups of disorders in Polish\n",
    "number_nomenclature_terms_subtype_polish=number_synonyms_subtype_polish + number_preferred_terms_subtype_polish\n",
    "number_nomenclature_terms_subtype_polish"
   ]
  },
  {
   "cell_type": "code",
   "execution_count": null,
   "metadata": {},
   "outputs": [],
   "source": [
    "### Total number of nomenclature terms for active clinical entities in Polish\n",
    "total_number_nomenclature_terms_polish=number_nomenclature_terms_subtype_polish + \n",
    "  number_nomenclature_terms_disorder_polish +\n",
    "  number_nomenclature_terms_group_polish\n",
    "total_number_nomenclature_terms_polish"
   ]
  },
  {
   "cell_type": "code",
   "execution_count": null,
   "metadata": {},
   "outputs": [],
   "source": [
    "######## CZECH #########\n",
    "\n",
    "# We work on the file with datas in Czech\n",
    "\n",
    "# We open xml \"product1_de_cross_jdbor_evo\"\n",
    "product1_czech=xmlParse(\"product1_cz_cross_jdbor_evo.xml\")\n",
    "product1_czech=xmlToList(product1_czech)\n",
    "\n",
    "# We remove the last element of the list, which is the numeric count of all elements of the list\n",
    "product1_czech=product1_czech$DisorderList\n",
    "product1_czech=product1_czech[-length(product1_czech)]\n",
    "\n",
    "### Our list for working\n",
    "indice_list=1\n",
    "product_czech=list()\n",
    "for (i in 1:length(product1_czech))\n",
    "{\n",
    "  product_czech[[indice_list]]=product1_czech[[i]]\n",
    "  indice_list=indice_list+1\n",
    "}\n",
    "# Each element in the list is a disorder"
   ]
  },
  {
   "cell_type": "code",
   "execution_count": null,
   "metadata": {},
   "outputs": [],
   "source": [
    "# We previously need to select the active clinical entities:\n",
    "# Head of classification (flag=128), Historical entities (flag=512) & On-line (flag=1)\n",
    "indice_list=1\n",
    "all_active_clinical_entities_czech=list()\n",
    "for (i in 1:length(product_czech))\n",
    "  if (product_czech[[i]]$DisorderFlagList$DisorderFlag$Value=='1' |\n",
    "      product_czech[[i]]$DisorderFlagList$DisorderFlag$Value=='128' |\n",
    "      product_czech[[i]]$DisorderFlagList$DisorderFlag$Value=='512')\n",
    "  {\n",
    "    all_active_clinical_entities_czech[[indice_list]]=product_czech[[i]]\n",
    "    indice_list=indice_list+1\n",
    "  }"
   ]
  },
  {
   "cell_type": "code",
   "execution_count": null,
   "metadata": {},
   "outputs": [],
   "source": [
    "### We look for all the active clinical entities which have synonyms\n",
    "indice_list=1\n",
    "synonyms_total_czech=list()\n",
    "for (i in 1:length(all_active_clinical_entities_czech))\n",
    "{\n",
    "  synonyms_total_czech[[indice_list]]=data.frame(as.numeric(all_active_clinical_entities_czech[[i]]$SynonymList$.attrs))\n",
    "  indice_list=indice_list+1\n",
    "}\n",
    "synonyms_total_czech=rbindlist(synonyms_total_czech,use.names = TRUE)\n",
    "colnames(synonyms_total_czech)=c('Number of synonyms')"
   ]
  },
  {
   "cell_type": "code",
   "execution_count": null,
   "metadata": {},
   "outputs": [],
   "source": [
    "# Total number of synonyms in Czech\n",
    "total_number_synonyms_czech=sum(synonyms_total_czech)\n",
    "total_number_synonyms_czech"
   ]
  },
  {
   "cell_type": "code",
   "execution_count": null,
   "metadata": {},
   "outputs": [],
   "source": [
    "# Statistics about all synonyms in Czech\n",
    "stats_total_synonyms_czech=summary(synonyms_total_czech)\n",
    "stats_total_synonyms_czech"
   ]
  },
  {
   "cell_type": "code",
   "execution_count": null,
   "metadata": {},
   "outputs": [],
   "source": [
    "### We look for the groups of disorder which have synonyms\n",
    "# The flag is \"36540\" for groups of disorder\n",
    "indice_list=1\n",
    "synonyms_group_czech=list()\n",
    "for (i in 1:length(all_active_clinical_entities_czech))\n",
    "  if (all_active_clinical_entities_czech[[i]]$DisorderGroup$.attrs=='36540')\n",
    "  {\n",
    "    synonyms_group_czech[[indice_list]]=data.frame(as.numeric(all_active_clinical_entities_czech[[i]]$SynonymList$.attrs))\n",
    "    indice_list=indice_list+1\n",
    "  }\n",
    "synonyms_group_czech=rbindlist(synonyms_group_czech,use.names = TRUE)\n",
    "colnames(synonyms_group_czech)=c('Number of synonyms')"
   ]
  },
  {
   "cell_type": "code",
   "execution_count": null,
   "metadata": {},
   "outputs": [],
   "source": [
    "# Number of synonyms for groups of disorders in Czech\n",
    "number_synonyms_group_czech=sum(synonyms_group_czech)\n",
    "number_synonyms_group_czech"
   ]
  },
  {
   "cell_type": "code",
   "execution_count": null,
   "metadata": {},
   "outputs": [],
   "source": [
    "# Percentage of synonyms for groups of disorders in Czech\n",
    "percentage_synonyms_group_czech=number_synonyms_group_czech/total_number_synonyms_czech*100\n",
    "percentage_synonyms_group_czech"
   ]
  },
  {
   "cell_type": "code",
   "execution_count": null,
   "metadata": {},
   "outputs": [],
   "source": [
    "# Statistics about groups of disorder's synonyms in Czech\n",
    "stats_synonyms_group_czech=summary(synonyms_group_czech)\n",
    "stats_synonyms_group_czech"
   ]
  },
  {
   "cell_type": "code",
   "execution_count": null,
   "metadata": {},
   "outputs": [],
   "source": [
    "### We look for the disorders which have synonyms\n",
    "# The flag is \"36547\" for disorders\n",
    "indice_list=1\n",
    "synonyms_disorder_czech=list()\n",
    "for (i in 1:length(all_active_clinical_entities_czech))\n",
    "  if (all_active_clinical_entities_czech[[i]]$DisorderGroup$.attrs=='36547')\n",
    "  {\n",
    "    synonyms_disorder_czech[[indice_list]]=data.frame(as.numeric(all_active_clinical_entities_czech[[i]]$SynonymList$.attrs))\n",
    "    indice_list=indice_list+1\n",
    "  }\n",
    "synonyms_disorder_czech=rbindlist(synonyms_disorder_czech,use.names = TRUE)\n",
    "colnames(synonyms_disorder_czech)=c('Number of synonyms')"
   ]
  },
  {
   "cell_type": "code",
   "execution_count": null,
   "metadata": {},
   "outputs": [],
   "source": [
    "# Number of synonyms for disorders in Czech\n",
    "number_synonyms_disorder_czech=sum(synonyms_disorder_czech)\n",
    "number_synonyms_disorder_czech"
   ]
  },
  {
   "cell_type": "code",
   "execution_count": null,
   "metadata": {},
   "outputs": [],
   "source": [
    "# Percentage of synonyms for disorders in Czech\n",
    "percentage_synonyms_disorder_czech=number_synonyms_disorder_czech/total_number_synonyms_czech*100\n",
    "percentage_synonyms_disorder_czech"
   ]
  },
  {
   "cell_type": "code",
   "execution_count": null,
   "metadata": {},
   "outputs": [],
   "source": [
    "# Statistics about disorder' synonyms in Czech\n",
    "stats_synonyms_disorder_czech=summary(synonyms_disorder_czech)\n",
    "stats_synonyms_disorder_czech"
   ]
  },
  {
   "cell_type": "code",
   "execution_count": null,
   "metadata": {},
   "outputs": [],
   "source": [
    "### We look for the subtypes of disorder which have synonyms\n",
    "# The flag is \"36554\" for subtypes of disorder\n",
    "indice_list=1\n",
    "synonyms_subtype_czech=list()\n",
    "for (i in 1:length(all_active_clinical_entities_czech))\n",
    "  if (all_active_clinical_entities_czech[[i]]$DisorderGroup$.attrs=='36554')\n",
    "  {\n",
    "    synonyms_subtype_czech[[indice_list]]=data.frame(as.numeric(all_active_clinical_entities_czech[[i]]$SynonymList$.attrs))\n",
    "    indice_list=indice_list+1\n",
    "  }\n",
    "synonyms_subtype_czech=rbindlist(synonyms_subtype_czech,use.names = TRUE)\n",
    "colnames(synonyms_subtype_czech)=c('Number of synonyms')"
   ]
  },
  {
   "cell_type": "code",
   "execution_count": null,
   "metadata": {},
   "outputs": [],
   "source": [
    "# Number of synonyms for subtypes of disorders in Czech\n",
    "number_synonyms_subtype_czech=sum(synonyms_subtype_czech)\n",
    "number_synonyms_subtype_czech"
   ]
  },
  {
   "cell_type": "code",
   "execution_count": null,
   "metadata": {},
   "outputs": [],
   "source": [
    "# Percentage of synonyms for subtypes of disorders in Czech\n",
    "percentage_synonyms_subtype_czech=number_synonyms_subtype_czech/total_number_synonyms_czech*100\n",
    "percentage_synonyms_subtype_czech"
   ]
  },
  {
   "cell_type": "code",
   "execution_count": null,
   "metadata": {},
   "outputs": [],
   "source": [
    "# Statistics about subtypes of disorder's synonyms in Czech\n",
    "stats_synonyms_subtype_czech=summary(synonyms_subtype_czech)\n",
    "stats_synonyms_subtype_czech"
   ]
  },
  {
   "cell_type": "code",
   "execution_count": null,
   "metadata": {},
   "outputs": [],
   "source": [
    "###############################################################################################\n",
    "\n",
    "\n",
    "##### Number of nomenclature terms (preferred terms + synonyms) in Czech\n",
    "\n",
    "\n",
    "### We look for the groups of disorder which have preferred terms\n",
    "# The flag is \"36540\" for groups of disorder\n",
    "indice_list=1\n",
    "preferred_terms_group_czech=list()\n",
    "for (i in 1:length(all_active_clinical_entities_czech))\n",
    "  if (all_active_clinical_entities_czech[[i]]$DisorderGroup$.attrs=='36540')\n",
    "  {\n",
    "    preferred_terms_group_czech[[indice_list]]=data.frame(all_active_clinical_entities_czech[[i]]$Name$text)\n",
    "    indice_list=indice_list+1\n",
    "  }\n",
    "preferred_terms_group_czech=rbindlist(preferred_terms_group_czech)\n",
    "preferred_terms_group_czech=preferred_terms_group_czech[!duplicated(preferred_terms_group_czech)]\n",
    "names(preferred_terms_group_czech)=c('Preferred_terms')"
   ]
  },
  {
   "cell_type": "code",
   "execution_count": null,
   "metadata": {},
   "outputs": [],
   "source": [
    "# We look for the preferred terms present in English and Czech\n",
    "egal_group_czech=merge(preferred_terms_group,preferred_terms_group_czech,by='Preferred_terms')"
   ]
  },
  {
   "cell_type": "code",
   "execution_count": null,
   "metadata": {},
   "outputs": [],
   "source": [
    "# Number of preferred terms for groups of disorder in Czech\n",
    "number_preferred_terms_group_czech=nrow(preferred_terms_group_czech)-nrow(egal_group_czech)\n",
    "number_preferred_terms_group_czech"
   ]
  },
  {
   "cell_type": "code",
   "execution_count": null,
   "metadata": {},
   "outputs": [],
   "source": [
    "# Number of nomenclature terms (preferred terms + synonyms) for groups of disorders in Czech\n",
    "number_nomenclature_terms_group_czech=number_synonyms_group_czech + number_preferred_terms_group_czech\n",
    "number_nomenclature_terms_group_czech"
   ]
  },
  {
   "cell_type": "code",
   "execution_count": null,
   "metadata": {},
   "outputs": [],
   "source": [
    "### We look for the disorders which have preferred terms\n",
    "# The flag is \"36547\" for disorders\n",
    "indice_list=1\n",
    "preferred_terms_disorder_czech=list()\n",
    "for (i in 1:length(all_active_clinical_entities_czech))\n",
    "  if (all_active_clinical_entities_czech[[i]]$DisorderGroup$.attrs=='36547')\n",
    "  {\n",
    "    preferred_terms_disorder_czech[[indice_list]]=data.frame(all_active_clinical_entities_czech[[i]]$Name$text)\n",
    "    indice_list=indice_list+1\n",
    "  }\n",
    "preferred_terms_disorder_czech=rbindlist(preferred_terms_disorder_czech)\n",
    "preferred_terms_disorder_czech=preferred_terms_disorder_czech[!duplicated(preferred_terms_disorder_czech)]\n",
    "names(preferred_terms_disorder_czech)=c('Preferred_terms')"
   ]
  },
  {
   "cell_type": "code",
   "execution_count": null,
   "metadata": {},
   "outputs": [],
   "source": [
    "# We look for the preferred terms present in English and Czech\n",
    "egal_disorder_czech=merge(preferred_terms_disorder,preferred_terms_disorder_czech,by='Preferred_terms')"
   ]
  },
  {
   "cell_type": "code",
   "execution_count": null,
   "metadata": {},
   "outputs": [],
   "source": [
    "# Number of preferred terms for disorders in Czech\n",
    "number_preferred_terms_disorder_czech=nrow(preferred_terms_disorder_czech)-nrow(egal_disorder_czech)\n",
    "number_preferred_terms_disorder_czech"
   ]
  },
  {
   "cell_type": "code",
   "execution_count": null,
   "metadata": {},
   "outputs": [],
   "source": [
    "# Number of nomenclature terms (preferred terms + synonyms) for disorders in Czech\n",
    "number_nomenclature_terms_disorder_czech=number_synonyms_disorder_czech + number_preferred_terms_disorder_czech\n",
    "number_nomenclature_terms_disorder_czech"
   ]
  },
  {
   "cell_type": "code",
   "execution_count": null,
   "metadata": {},
   "outputs": [],
   "source": [
    "### We look for the subtypes of disorder which have preferred terms\n",
    "# The flag is \"36554\" for subtypes of disorder\n",
    "indice_list=1\n",
    "preferred_terms_subtype_czech=list()\n",
    "for (i in 1:length(all_active_clinical_entities_czech))\n",
    "  if (all_active_clinical_entities_czech[[i]]$DisorderGroup$.attrs=='36554')\n",
    "  {\n",
    "    preferred_terms_subtype_czech[[indice_list]]=data.frame(all_active_clinical_entities_czech[[i]]$Name$text)\n",
    "    indice_list=indice_list+1\n",
    "  }\n",
    "preferred_terms_subtype_czech=rbindlist(preferred_terms_subtype_czech)\n",
    "preferred_terms_subtype_czech=preferred_terms_subtype_czech[!duplicated(preferred_terms_subtype_czech)]\n",
    "names(preferred_terms_subtype_czech)=c('Preferred_terms')"
   ]
  },
  {
   "cell_type": "code",
   "execution_count": null,
   "metadata": {},
   "outputs": [],
   "source": [
    "# We look for the preferred terms present in English and Czech\n",
    "egal_subtype_czech=merge(preferred_terms_subtype,preferred_terms_subtype_czech,by='Preferred_terms')"
   ]
  },
  {
   "cell_type": "code",
   "execution_count": null,
   "metadata": {},
   "outputs": [],
   "source": [
    "# Number of preferred terms for subtypes of disorder in Czech\n",
    "number_preferred_terms_subtype_czech=nrow(preferred_terms_subtype_czech)-nrow(egal_subtype_czech)\n",
    "number_preferred_terms_subtype_czech"
   ]
  },
  {
   "cell_type": "code",
   "execution_count": null,
   "metadata": {},
   "outputs": [],
   "source": [
    "# Number of nomenclature terms (preferred terms + synonyms) for groups of disorders in Czech\n",
    "number_nomenclature_terms_subtype_czech=number_synonyms_subtype_czech + number_preferred_terms_subtype_czech\n",
    "number_nomenclature_terms_subtype_czech"
   ]
  },
  {
   "cell_type": "code",
   "execution_count": null,
   "metadata": {},
   "outputs": [],
   "source": [
    "### Total number of nomenclature terms for active clinical entities in Czech\n",
    "total_number_nomenclature_terms_czech=number_nomenclature_terms_subtype_czech + \n",
    "  number_nomenclature_terms_disorder_czech +\n",
    "  number_nomenclature_terms_group_czech\n",
    "total_number_nomenclature_terms_czech"
   ]
  }
 ],
 "metadata": {
  "kernelspec": {
   "display_name": "R",
   "language": "R",
   "name": "ir"
  },
  "language_info": {
   "codemirror_mode": "r",
   "file_extension": ".r",
   "mimetype": "text/x-r-source",
   "name": "R",
   "pygments_lexer": "r",
   "version": "3.6.1"
  }
 },
 "nbformat": 4,
 "nbformat_minor": 4
}
