{
 "cells": [
  {
   "cell_type": "code",
   "execution_count": 1,
   "metadata": {},
   "outputs": [
    {
     "name": "stderr",
     "output_type": "stream",
     "text": [
      "also installing the dependencies 'xfun', 'tinytex', 'knitr', 'rmarkdown', 'jsonlite', 'reprex'\n",
      "\n"
     ]
    },
    {
     "name": "stdout",
     "output_type": "stream",
     "text": [
      "\n",
      "  There are binary versions available but the source versions are later:\n",
      "          binary source needs_compilation\n",
      "xfun        0.22   0.29              TRUE\n",
      "tinytex     0.31   0.36             FALSE\n",
      "knitr       1.33   1.37             FALSE\n",
      "rmarkdown    2.8   2.11             FALSE\n",
      "jsonlite   1.7.2  1.7.3              TRUE\n",
      "reprex     2.0.0  2.0.1             FALSE\n",
      "\n",
      "  Binaries will be installed\n",
      "package 'xfun' successfully unpacked and MD5 sums checked\n",
      "package 'jsonlite' successfully unpacked and MD5 sums checked\n"
     ]
    },
    {
     "name": "stderr",
     "output_type": "stream",
     "text": [
      "Warning message:\n",
      "\"cannot remove prior installation of package 'jsonlite'\"Warning message in file.copy(savedcopy, lib, recursive = TRUE):\n",
      "\"problème lors de la copie de C:\\Users\\ohongnat\\Anaconda3\\Lib\\R\\library\\00LOCK\\jsonlite\\libs\\x64\\jsonlite.dll vers C:\\Users\\ohongnat\\Anaconda3\\Lib\\R\\library\\jsonlite\\libs\\x64\\jsonlite.dll: Permission denied\"Warning message:\n",
      "\"restored 'jsonlite'\""
     ]
    },
    {
     "name": "stdout",
     "output_type": "stream",
     "text": [
      "package 'tidyverse' successfully unpacked and MD5 sums checked\n",
      "\n",
      "The downloaded binary packages are in\n",
      "\tC:\\Users\\ohongnat\\AppData\\Local\\Temp\\RtmpIdXnLR\\downloaded_packages\n"
     ]
    },
    {
     "name": "stderr",
     "output_type": "stream",
     "text": [
      "installing the source packages 'tinytex', 'knitr', 'rmarkdown', 'reprex'\n",
      "\n",
      "Warning message in install.packages(\"tidyverse\"):\n",
      "\"installation of package 'tinytex' had non-zero exit status\"Warning message in install.packages(\"tidyverse\"):\n",
      "\"installation of package 'knitr' had non-zero exit status\"Warning message in install.packages(\"tidyverse\"):\n",
      "\"installation of package 'rmarkdown' had non-zero exit status\"Warning message in install.packages(\"tidyverse\"):\n",
      "\"installation of package 'reprex' had non-zero exit status\""
     ]
    },
    {
     "name": "stdout",
     "output_type": "stream",
     "text": [
      "\n",
      "  There is a binary version available but the source version is later:\n",
      "       binary  source needs_compilation\n",
      "rlist 0.4.6.1 0.4.6.2             FALSE\n",
      "\n"
     ]
    },
    {
     "name": "stderr",
     "output_type": "stream",
     "text": [
      "installing the source package 'rlist'\n",
      "\n"
     ]
    },
    {
     "name": "stdout",
     "output_type": "stream",
     "text": [
      "\n",
      "  There is a binary version available but the source version is later:\n",
      "           binary source needs_compilation\n",
      "data.table 1.14.0 1.14.2              TRUE\n",
      "\n",
      "  Binaries will be installed\n",
      "package 'data.table' successfully unpacked and MD5 sums checked\n",
      "\n",
      "The downloaded binary packages are in\n",
      "\tC:\\Users\\ohongnat\\AppData\\Local\\Temp\\RtmpIdXnLR\\downloaded_packages\n",
      "package 'XML' successfully unpacked and MD5 sums checked\n",
      "\n",
      "The downloaded binary packages are in\n",
      "\tC:\\Users\\ohongnat\\AppData\\Local\\Temp\\RtmpIdXnLR\\downloaded_packages\n"
     ]
    },
    {
     "name": "stderr",
     "output_type": "stream",
     "text": [
      "Warning message:\n",
      "\"package 'methods' is not available (for R version 3.6.1)\"Warning message:\n",
      "\"package 'methods' is a base package, and should not be updated\""
     ]
    }
   ],
   "source": [
    "### DISTRIBUTION BY MEDICAL SPECIALITY\n",
    "\n",
    "\n",
    "# We launch the config file with the installation of the R libraries\n",
    "source(\"config.R\")\n",
    "\n",
    "\n",
    "# INPUTS : \n",
    "# \"product3_146_en_jdbor_evo.xml\"; \"product3_147_en_jdbor_evo.xml\"; \"product3_148_en_jdbor_evo.xml\";\n",
    "# \"product3_149_en_jdbor_evo.xml\"; \"product3_150_en_jdbor_evo.xml\"; \"product3_152_en_jdbor_evo.xml\";\n",
    "# \"product3_156_en_jdbor_evo.xml\"; \"product3_181_en_jdbor_evo.xml\"; \"product3_182_en_jdbor_evo.xml\";\n",
    "# \"product3_183_en_jdbor_evo.xml\"; \"product3_184_en_jdbor_evo.xml\"; \"product3_185_en_jdbor_evo.xml\";\n",
    "# \"product3_186_en_jdbor_evo.xml\"; \"product3_187_en_jdbor_evo.xml\"; \"product3_188_en_jdbor_evo.xml\";\n",
    "# \"product3_189_en_jdbor_evo.xml\"; \"product3_193_en_jdbor_evo.xml\"; \"product3_194_en_jdbor_evo.xml\";\n",
    "# \"product3_195_en_jdbor_evo.xml\"; \"product3_196_en_jdbor_evo.xml\"; \"product3_197_en_jdbor_evo.xml\";\n",
    "# \"product3_198_en_jdbor_evo.xml\"; \"product3_199_en_jdbor_evo.xml\"; \"product3_200_en_jdbor_evo.xml\";\n",
    "# \"product3_201_en_jdbor_evo.xml\"; \"product3_202_en_jdbor_evo.xml\"; \"product3_203_en_jdbor_evo.xml\";\n",
    "# \"product3_204_en_jdbor_evo.xml\"; \"product3_205_en_jdbor_evo.xml\"; \"product3_209_en_jdbor_evo.xml\";\n",
    "# \"product3_212_en_jdbor_evo.xml\"; \"product3_216_en_jdbor_evo.xml\"; \"product3_229_en_jdbor_evo.xml\";\n",
    "# \"product3_231_en_jdbor_evo.xml\"; \"product3_233_en_jdbor_evo.xml\".\n",
    "\n",
    "\n",
    "# OUTPUTS : \"medical_speciality\""
   ]
  },
  {
   "cell_type": "code",
   "execution_count": 2,
   "metadata": {},
   "outputs": [
    {
     "name": "stderr",
     "output_type": "stream",
     "text": [
      "Warning message:\n",
      "\"package 'tidyverse' was built under R version 3.6.3\""
     ]
    },
    {
     "ename": "ERROR",
     "evalue": "Error: package or namespace load failed for 'tidyverse' in loadNamespace(j <- i[[1L]], c(lib.loc, .libPaths()), versionCheck = vI[[j]]):\n namespace 'jsonlite' 1.6 is already loaded, but >= 1.7.2 is required\n",
     "output_type": "error",
     "traceback": [
      "Error: package or namespace load failed for 'tidyverse' in loadNamespace(j <- i[[1L]], c(lib.loc, .libPaths()), versionCheck = vI[[j]]):\n namespace 'jsonlite' 1.6 is already loaded, but >= 1.7.2 is required\nTraceback:\n",
      "1. library(tidyverse)",
      "2. tryCatch({\n .     attr(package, \"LibPath\") <- which.lib.loc\n .     ns <- loadNamespace(package, lib.loc)\n .     env <- attachNamespace(ns, pos = pos, deps, exclude, include.only)\n . }, error = function(e) {\n .     P <- if (!is.null(cc <- conditionCall(e))) \n .         paste(\" in\", deparse(cc)[1L])\n .     else \"\"\n .     msg <- gettextf(\"package or namespace load failed for %s%s:\\n %s\", \n .         sQuote(package), P, conditionMessage(e))\n .     if (logical.return) \n .         message(paste(\"Error:\", msg), domain = NA)\n .     else stop(msg, call. = FALSE, domain = NA)\n . })",
      "3. tryCatchList(expr, classes, parentenv, handlers)",
      "4. tryCatchOne(expr, names, parentenv, handlers[[1L]])",
      "5. value[[3L]](cond)",
      "6. stop(msg, call. = FALSE, domain = NA)"
     ]
    }
   ],
   "source": [
    "# We launch the libraries\n",
    "library(tidyverse)\n",
    "library(rlist)\n",
    "library(data.table)\n",
    "library(XML)\n",
    "library(methods)"
   ]
  },
  {
   "cell_type": "code",
   "execution_count": null,
   "metadata": {},
   "outputs": [],
   "source": [
    "# We select the xmls with the datas we need\n",
    "xmlproducts3=list.files(pattern='product3')\n",
    "\n",
    "# We put the 35 xml products3 from orphadata in data frames\n",
    "indice_list=1\n",
    "xmldoc=list()\n",
    "products3=list()\n",
    "names=matrix()\n",
    "for (i in 1:length(xmlproducts3)) \n",
    "{\n",
    "  # products3\n",
    "  xmldoc[[indice_list]]=xmlParse(xmlproducts3[i]) # we parse the products3\n",
    "  products3[[indice_list]]=xmlToDataFrame(nodes = getNodeSet(xmldoc[[i]], \"//Disorder\")) # we put products3 into a list\n",
    "  indice_list=indice_list+1\n",
    "}\n",
    "\n",
    "# We assign the name of each file to each element in the list \"products3\"\n",
    "names(products3)=xmlproducts3"
   ]
  },
  {
   "cell_type": "code",
   "execution_count": null,
   "metadata": {},
   "outputs": [],
   "source": [
    "# We paste the name of the xml, which represents a medical speciality\n",
    "indice_list=1\n",
    "product3=list()\n",
    "for (i in 1:length(products3))\n",
    "    {\n",
    "      product3[[indice_list]]=cbind.data.frame(products3[[i]],names(products3[i]))\n",
    "      indice_list=indice_list+1\n",
    "    }\n",
    "product3=rbindlist(product3,use.names = TRUE)\n",
    "names(product3)=c('OrphaCode','ExpertLink','Name','DisorderType','MedicalSpeciality')"
   ]
  },
  {
   "cell_type": "code",
   "execution_count": null,
   "metadata": {},
   "outputs": [],
   "source": [
    "# We only keep Disorders\n",
    "indice_list=1\n",
    "products3_disorders=list()\n",
    "for (i in 1:nrow(product3))\n",
    "    if (product3$DisorderType[i]=='Particular clinical situation in a disease or syndrome' |\n",
    "        product3$DisorderType[i]=='Biological anomaly' |\n",
    "        product3$DisorderType[i]=='Malformation syndrome' |\n",
    "        product3$DisorderType[i]=='Morphological anomaly' |\n",
    "        product3$DisorderType[i]=='Disease' |\n",
    "        product3$DisorderType[i]=='Clinical syndrome')\n",
    "    {\n",
    "      products3_disorders[[indice_list]]=product3[i, ]\n",
    "      indice_list=indice_list+1\n",
    "    }\n",
    "products3_disorders=rbindlist(products3_disorders,use.names = TRUE)\n",
    "\n",
    "#We remove the duplicates\n",
    "products3_disorders=products3_disorders[!duplicated(products3_disorders)]"
   ]
  },
  {
   "cell_type": "code",
   "execution_count": null,
   "metadata": {},
   "outputs": [],
   "source": [
    "# We count the number of OrphaCodes in each xml (in each medical speciality)\n",
    "medical_speciality=as.data.frame(table(products3_disorders$MedicalSpeciality))\n",
    "names(medical_speciality)=c('MedicalSpeciality','Number')"
   ]
  },
  {
   "cell_type": "code",
   "execution_count": null,
   "metadata": {},
   "outputs": [],
   "source": [
    "# We assign the real names of the medical specialities \n",
    "Medical_Speciality=c('Rare cardiac disease',\n",
    "'Rare developmental defect during embryogenesis',\n",
    "'Rare surgical cardiac disease',\n",
    "'Rare sucking/swallowing disorder',\n",
    "'Rare inborn errors of metabolism',\n",
    "'Rare gastroenterologic disease',\n",
    "'Rare genetic disease',\n",
    "'Rare neurologic disease',\n",
    "'Rare abdominal surgical disease',\n",
    "'Rare hepatic disease',\n",
    "'Rare respiratory disease',\n",
    "'Rare urogenital disease',\n",
    "'Rare surgical thoracic disease',\n",
    "'Rare skin disease',\n",
    "'Rare renal disease',\n",
    "'Rare ophthalmic disorder',\n",
    "'Rare endocrine disease',\n",
    "'Rare hematologic disease',\n",
    "'Rare immune disease',\n",
    "'Rare systemic or rheumatologic disease',\n",
    "'Rare odontologic disease',\n",
    "'Rare circulatory system disease',\n",
    "'Rare bone disease',\n",
    "'Rare otorhinolaryngologic disease',\n",
    "'Rare infertility',\n",
    "'Rare neoplastic disease',\n",
    "'Rare infectious disease',\n",
    "'Rare disorder due to toxic effects',\n",
    "'Rare gynecologic or obstetric disease',\n",
    "'Rare maxillo-facial surgical disease',\n",
    "'Rare allergic disease',\n",
    "'Rare teratologic disease',\n",
    "'Rare chromosomal anomaly',\n",
    "'Rare systemic or rheumatological disease of childhood',\n",
    "'Rare disorder potentially indicated for transplant or complication after transplantation')"
   ]
  },
  {
   "cell_type": "code",
   "execution_count": null,
   "metadata": {},
   "outputs": [],
   "source": [
    "# Distribution by medical speciality\n",
    "medical_speciality=cbind.data.frame(Medical_Speciality,medical_speciality$Number)\n",
    "names(medical_speciality)=c('Medical Speciality','Number')\n",
    "medical_speciality"
   ]
  }
 ],
 "metadata": {
  "kernelspec": {
   "display_name": "R",
   "language": "R",
   "name": "ir"
  },
  "language_info": {
   "codemirror_mode": "r",
   "file_extension": ".r",
   "mimetype": "text/x-r-source",
   "name": "R",
   "pygments_lexer": "r",
   "version": "3.6.1"
  }
 },
 "nbformat": 4,
 "nbformat_minor": 4
}
